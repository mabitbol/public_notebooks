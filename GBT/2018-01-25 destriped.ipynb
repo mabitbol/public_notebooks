{
 "cells": [
  {
   "cell_type": "code",
   "execution_count": 1,
   "metadata": {
    "collapsed": false
   },
   "outputs": [
    {
     "name": "stdout",
     "output_type": "stream",
     "text": [
      "Populating the interactive namespace from numpy and matplotlib\n"
     ]
    }
   ],
   "source": [
    "%pylab inline"
   ]
  },
  {
   "cell_type": "code",
   "execution_count": 2,
   "metadata": {
    "collapsed": true
   },
   "outputs": [],
   "source": [
    "import glob\n",
    "from scipy.ndimage.filters import gaussian_filter\n",
    "from scipy.optimize import curve_fit"
   ]
  },
  {
   "cell_type": "code",
   "execution_count": 3,
   "metadata": {
    "collapsed": true
   },
   "outputs": [],
   "source": [
    "import healpy as hp"
   ]
  },
  {
   "cell_type": "code",
   "execution_count": 4,
   "metadata": {
    "collapsed": true
   },
   "outputs": [],
   "source": [
    "from astropy import coordinates\n",
    "from astropy import units as u\n",
    "from astropy.coordinates import ICRS"
   ]
  },
  {
   "cell_type": "code",
   "execution_count": 5,
   "metadata": {
    "collapsed": true
   },
   "outputs": [],
   "source": [
    "from astropy.io import fits"
   ]
  },
  {
   "cell_type": "code",
   "execution_count": 6,
   "metadata": {
    "collapsed": true
   },
   "outputs": [],
   "source": [
    "from __future__ import unicode_literals\n",
    "\n",
    "figsize(8,6)\n",
    "\n",
    "matplotlib.rcParams['text.usetex'] = True\n",
    "matplotlib.rcParams['text.latex.unicode'] = True\n",
    "    \n",
    "rcParams['xtick.labelsize'] = 20\n",
    "rcParams['xtick.major.size'] = 10\n",
    "rcParams['xtick.major.width'] = 1\n",
    "rcParams['xtick.major.pad'] = 10\n",
    "rcParams['xtick.minor.size'] = 5\n",
    "rcParams['xtick.minor.width'] = 1\n",
    "\n",
    "rcParams['ytick.labelsize'] = 20\n",
    "rcParams['ytick.major.size'] = 10\n",
    "rcParams['ytick.major.width'] = 1\n",
    "rcParams['ytick.major.pad'] = 10\n",
    "rcParams['ytick.minor.size'] = 5\n",
    "rcParams['ytick.minor.width'] = 1\n",
    "\n",
    "rcParams['legend.fontsize'] = 12\n",
    "rcParams['legend.borderaxespad'] = 2\n",
    "\n",
    "rcParams['axes.labelsize'] = 24\n",
    "rcParams['axes.titlesize'] = 24"
   ]
  },
  {
   "cell_type": "code",
   "execution_count": 7,
   "metadata": {
    "collapsed": true
   },
   "outputs": [],
   "source": [
    "rc = 107.2\n",
    "dc = 5.2"
   ]
  },
  {
   "cell_type": "code",
   "execution_count": 8,
   "metadata": {
    "collapsed": true
   },
   "outputs": [],
   "source": [
    "freqs = [4.575, 5.625, 6.125, 7.175]\n",
    "banks = ['A', 'B', 'C', 'D']"
   ]
  },
  {
   "cell_type": "code",
   "execution_count": 9,
   "metadata": {
    "collapsed": true
   },
   "outputs": [],
   "source": [
    "def naive_map(data,ra,dec,ra_num_bins=60,dec_num_bins=50):\n",
    "    ra_bins = np.linspace(ra.min(),ra.max(),ra_num_bins)\n",
    "    dec_bins = np.linspace(dec.min(),dec.max(),dec_num_bins)\n",
    "    p,_,_ = np.histogram2d(ra,dec,bins=(ra_bins,dec_bins),weights=data)\n",
    "    hits,_,_ = np.histogram2d(ra,dec,bins=(ra_bins,dec_bins))\n",
    "    return p.T, hits.T, ra_bins, dec_bins"
   ]
  },
  {
   "cell_type": "code",
   "execution_count": 46,
   "metadata": {
    "collapsed": false
   },
   "outputs": [],
   "source": [
    "def calculate_sflux_gal(bank='A', session='5', pixbeam=1., smth=None, removeplane=True):\n",
    "    dataf = np.load('/home/mabitbol/GBT-S140/datamaps/tod'+bank+'_'+session+'.npz')\n",
    "    tmask = dataf['tmask']\n",
    "    ras = dataf['ras'][tmask]\n",
    "    decs = dataf['decs'][tmask]\n",
    "    calibrated = dataf['calibrated'][tmask]\n",
    "    \n",
    "    tmask2 = ~np.isnan(calibrated)\n",
    "    ras = ras[tmask2]\n",
    "    decs = decs[tmask2]\n",
    "    calibrated = calibrated[tmask2] \n",
    "    \n",
    "    c = coordinates.SkyCoord(frame='icrs', ra=ras*u.degree, dec=decs*u.degree)\n",
    "    decs = c.galactic.b.deg\n",
    "    ras = c.galactic.l.deg\n",
    "    rc = 107.2\n",
    "    dc = 5.2\n",
    "    \n",
    "    if bank == 'A':\n",
    "        cfreq = 4.575\n",
    "    elif bank == 'B':\n",
    "        cfreq = 5.625\n",
    "    elif bank == 'C':\n",
    "        cfreq = 6.125\n",
    "    elif bank == 'D':\n",
    "        cfreq = 7.175\n",
    "    beam = 12.6 / cfreq\n",
    "    \n",
    "    # units\n",
    "    # beam and pixbeam are in arcminutes\n",
    "    # Jy / pixel\n",
    "    beamarea = np.pi / (4. * np.log(2)) * beam**2\n",
    "    pixelarea = pixbeam**2\n",
    "    units = pixelarea / beamarea\n",
    "    \n",
    "    #Jy / sr \n",
    "    #beam_rad = (beam / 60.) * pi / 180. #radians\n",
    "    #beamarea = np.pi / (4. * np.log(2)) * beam_rad**2 #sq radians\n",
    "    #units = 1. / beamarea\n",
    "    \n",
    "    # ras and decs are in degrees \n",
    "    nrapix = int((ras.max() - ras.min()) / (pixbeam / 60.))\n",
    "    ndecpix = int((decs.max() - decs.min()) / (pixbeam / 60.))\n",
    "    \n",
    "    datamap, hits, rabins, decbins = naive_map(calibrated, ras, decs, nrapix, ndecpix) \n",
    "    mask = hits == 0\n",
    "    signal = np.zeros_like(datamap)\n",
    "    signal[~mask] = datamap[~mask] / hits[~mask] * units\n",
    "    \n",
    "    radius = np.sqrt( (ras-rc)**2 + (decs-dc)**2)\n",
    "    \n",
    "    rmask = radius <= 1.\n",
    "    insidedata = np.zeros_like(calibrated)\n",
    "    insidedata[rmask] = 10.\n",
    "    innermap, innerhits, rabins, decbins = naive_map(insidedata, ras, decs, nrapix, ndecpix) \n",
    "    innerregion = innermap > 0\n",
    "\n",
    "    radius = np.sqrt( (ras-rc)**2 + (decs-dc)**2)\n",
    "    annulus = (radius >= 1.2 ) & (radius <= 2.)\n",
    "    outerdata = np.zeros_like(calibrated)\n",
    "    outerdata[annulus] = 10.\n",
    "    outermap, outerhits, rabins, decbins = naive_map(outerdata, ras, decs, nrapix, ndecpix)\n",
    "    outerregion = outermap > 0\n",
    "\n",
    "    \n",
    "    sigma = beam / pixbeam / (2. * np.sqrt(2. * np.log(2)))\n",
    "    signal = gaussian_filter(signal, sigma)\n",
    "    shits = gaussian_filter(hits, sigma)\n",
    "    mask = shits < 1\n",
    "    \n",
    "    rabinsc = (rabins[1:] + rabins[:-1]) / 2.\n",
    "    decbinsc = (decbins[1:] + decbins[:-1]) / 2.\n",
    "    if removeplane:\n",
    "        X, Y = np.meshgrid(rabinsc, decbinsc)\n",
    "        XX = X.flatten()\n",
    "        YY = Y.flatten()\n",
    "        Z = signal.flatten()\n",
    "        masks = ~np.isnan(Z) * ~innerregion.flatten()\n",
    "        data = np.c_[XX[masks], YY[masks], Z[masks]]\n",
    "        data2 = np.c_[XX, YY, Z]\n",
    "        A = np.c_[data[:, 0], data[:, 1], np.ones(data.shape[0])]\n",
    "        C, _, _, _ = linalg.lstsq(A, data[:, 2])\n",
    "        res = C[0] * X + C[1] * Y + C[2]\n",
    "        signal -= res\n",
    "     \n",
    "    if smth is not None:\n",
    "        sigma = smth / pixbeam / (2. * np.sqrt(2. * np.log(2)))\n",
    "        signal = gaussian_filter(signal, sigma, mode='constant', cval=np.nanmedian(signal[outerregion]))\n",
    "        shits = gaussian_filter(hits, sigma)\n",
    "        mask = shits < 1\n",
    "        \n",
    "    signal -= np.nanmedian(signal[outerregion])\n",
    "    signal[mask] = np.nan\n",
    "    shits[mask] = np.nan\n",
    "    print np.nansum(signal[innerregion])\n",
    "    return signal, rabinsc, decbinsc, shits"
   ]
  },
  {
   "cell_type": "code",
   "execution_count": 51,
   "metadata": {
    "collapsed": false
   },
   "outputs": [
    {
     "name": "stdout",
     "output_type": "stream",
     "text": [
      "16.8885731245\n"
     ]
    }
   ],
   "source": [
    "signal, rabins, decbins, shits = calculate_sflux_gal('A', smth=60.)"
   ]
  },
  {
   "cell_type": "code",
   "execution_count": null,
   "metadata": {
    "collapsed": true
   },
   "outputs": [],
   "source": []
  },
  {
   "cell_type": "code",
   "execution_count": 17,
   "metadata": {
    "collapsed": false
   },
   "outputs": [
    {
     "name": "stdout",
     "output_type": "stream",
     "text": [
      "15.1839017807\n"
     ]
    }
   ],
   "source": [
    "signal, rabins, decbins, shits = calculate_sflux_gal('A', session='5', pixbeam=.583, smth=60.)"
   ]
  },
  {
   "cell_type": "code",
   "execution_count": 28,
   "metadata": {
    "collapsed": false
   },
   "outputs": [
    {
     "name": "stdout",
     "output_type": "stream",
     "text": [
      "16.48484893\n"
     ]
    }
   ],
   "source": [
    "signal, rabins, decbins, shits = calculate_sflux_gal('A', smth=60.)"
   ]
  },
  {
   "cell_type": "code",
   "execution_count": 30,
   "metadata": {
    "collapsed": false
   },
   "outputs": [
    {
     "name": "stdout",
     "output_type": "stream",
     "text": [
      "17.1836195538\n"
     ]
    }
   ],
   "source": [
    "signal, rabins, decbins, shits = calculate_sflux_gal('B', smth=60.)"
   ]
  },
  {
   "cell_type": "code",
   "execution_count": 32,
   "metadata": {
    "collapsed": false
   },
   "outputs": [
    {
     "name": "stdout",
     "output_type": "stream",
     "text": [
      "19.1052072428\n"
     ]
    }
   ],
   "source": [
    "signal, rabins, decbins, shits = calculate_sflux_gal('C', smth=60.)"
   ]
  },
  {
   "cell_type": "code",
   "execution_count": 52,
   "metadata": {
    "collapsed": false
   },
   "outputs": [
    {
     "data": {
      "image/png": "[encoded data removed]",
      "text/plain": [
       "<matplotlib.figure.Figure at 0x7f30b93974d0>"
      ]
     },
     "metadata": {},
     "output_type": "display_data"
    }
   ],
   "source": [
    "figure()\n",
    "pc = pcolormesh(rabins, decbins, signal * 1000.)\n",
    "clim(-6, 6)\n",
    "cb = colorbar()\n",
    "xlabel('$\\mathrm{Longitude\\ [deg]}$')\n",
    "ylabel('$\\mathrm{Latitude\\ [deg]}$')\n",
    "#cb.set_label('$\\mathrm{Flux\\ [MJy / sr]}$')\n",
    "cb.set_label('$\\mathrm{Flux\\ [Jy / pixel]}$')\n",
    "grid(ls='dotted', alpha=0.5)\n",
    "#xlim(105.75, 108.63)\n",
    "#ylim(3.73, 6.67)\n",
    "xticks([106, 106.5, 107, 107.5, 108, 108.5]);\n",
    "tight_layout()\n",
    "#savefig('bankD5.pdf', format='pdf')"
   ]
  },
  {
   "cell_type": "code",
   "execution_count": null,
   "metadata": {
    "collapsed": true
   },
   "outputs": [],
   "source": []
  },
  {
   "cell_type": "code",
   "execution_count": null,
   "metadata": {
    "collapsed": true
   },
   "outputs": [],
   "source": []
  },
  {
   "cell_type": "code",
   "execution_count": null,
   "metadata": {
    "collapsed": true
   },
   "outputs": [],
   "source": []
  },
  {
   "cell_type": "code",
   "execution_count": 13,
   "metadata": {
    "collapsed": true
   },
   "outputs": [],
   "source": [
    "x = fits.open('/home/mabitbol/GBT-S140/externaldata/destripingdata_bankA_session5_weights.fits')"
   ]
  },
  {
   "cell_type": "code",
   "execution_count": 14,
   "metadata": {
    "collapsed": true
   },
   "outputs": [],
   "source": [
    "beam = 12.6 / 4.575\n",
    "beam_rad = (beam / 60.) * pi / 180. #radians\n",
    "beamarea = np.pi / (4. * np.log(2)) * beam_rad**2 #sq radians\n",
    "units = 1. / beamarea"
   ]
  },
  {
   "cell_type": "code",
   "execution_count": 15,
   "metadata": {
    "collapsed": true
   },
   "outputs": [],
   "source": [
    "destripedA = x[0].data "
   ]
  },
  {
   "cell_type": "code",
   "execution_count": null,
   "metadata": {
    "collapsed": true
   },
   "outputs": [],
   "source": [
    "des_ra = np.arange()"
   ]
  },
  {
   "cell_type": "code",
   "execution_count": 35,
   "metadata": {
    "collapsed": false
   },
   "outputs": [
    {
     "ename": "TypeError",
     "evalue": "Dimensions of C (308, 308) are incompatible with X (297) and/or Y (303); see help(pcolormesh)",
     "output_type": "error",
     "traceback": [
      "\u001b[0;31m---------------------------------------------------------------------------\u001b[0m",
      "\u001b[0;31mTypeError\u001b[0m                                 Traceback (most recent call last)",
      "\u001b[0;32m<ipython-input-35-664cc1074689>\u001b[0m in \u001b[0;36m<module>\u001b[0;34m()\u001b[0m\n\u001b[1;32m      1\u001b[0m \u001b[0mfigure\u001b[0m\u001b[0;34m(\u001b[0m\u001b[0;34m)\u001b[0m\u001b[0;34m\u001b[0m\u001b[0m\n\u001b[0;32m----> 2\u001b[0;31m \u001b[0mpc\u001b[0m \u001b[0;34m=\u001b[0m \u001b[0mpcolormesh\u001b[0m\u001b[0;34m(\u001b[0m\u001b[0mrabins\u001b[0m\u001b[0;34m,\u001b[0m \u001b[0mdecbins\u001b[0m\u001b[0;34m,\u001b[0m \u001b[0msignal\u001b[0m\u001b[0;34m)\u001b[0m\u001b[0;34m\u001b[0m\u001b[0m\n\u001b[0m\u001b[1;32m      3\u001b[0m \u001b[0;31m#clim(-0.1, 0.11)\u001b[0m\u001b[0;34m\u001b[0m\u001b[0;34m\u001b[0m\u001b[0m\n\u001b[1;32m      4\u001b[0m \u001b[0mcb\u001b[0m \u001b[0;34m=\u001b[0m \u001b[0mcolorbar\u001b[0m\u001b[0;34m(\u001b[0m\u001b[0;34m)\u001b[0m\u001b[0;34m\u001b[0m\u001b[0m\n\u001b[1;32m      5\u001b[0m \u001b[0mxlabel\u001b[0m\u001b[0;34m(\u001b[0m\u001b[0;34m'$\\mathrm{Longitude\\ [deg]}$'\u001b[0m\u001b[0;34m)\u001b[0m\u001b[0;34m\u001b[0m\u001b[0m\n",
      "\u001b[0;32m/usr/lib64/python2.7/site-packages/matplotlib/pyplot.pyc\u001b[0m in \u001b[0;36mpcolormesh\u001b[0;34m(*args, **kwargs)\u001b[0m\n\u001b[1;32m   3186\u001b[0m                       mplDeprecation)\n\u001b[1;32m   3187\u001b[0m     \u001b[0;32mtry\u001b[0m\u001b[0;34m:\u001b[0m\u001b[0;34m\u001b[0m\u001b[0m\n\u001b[0;32m-> 3188\u001b[0;31m         \u001b[0mret\u001b[0m \u001b[0;34m=\u001b[0m \u001b[0max\u001b[0m\u001b[0;34m.\u001b[0m\u001b[0mpcolormesh\u001b[0m\u001b[0;34m(\u001b[0m\u001b[0;34m*\u001b[0m\u001b[0margs\u001b[0m\u001b[0;34m,\u001b[0m \u001b[0;34m**\u001b[0m\u001b[0mkwargs\u001b[0m\u001b[0;34m)\u001b[0m\u001b[0;34m\u001b[0m\u001b[0m\n\u001b[0m\u001b[1;32m   3189\u001b[0m     \u001b[0;32mfinally\u001b[0m\u001b[0;34m:\u001b[0m\u001b[0;34m\u001b[0m\u001b[0m\n\u001b[1;32m   3190\u001b[0m         \u001b[0max\u001b[0m\u001b[0;34m.\u001b[0m\u001b[0m_hold\u001b[0m \u001b[0;34m=\u001b[0m \u001b[0mwashold\u001b[0m\u001b[0;34m\u001b[0m\u001b[0m\n",
      "\u001b[0;32m/usr/lib64/python2.7/site-packages/matplotlib/__init__.pyc\u001b[0m in \u001b[0;36minner\u001b[0;34m(ax, *args, **kwargs)\u001b[0m\n\u001b[1;32m   1715\u001b[0m                     warnings.warn(msg % (label_namer, func.__name__),\n\u001b[1;32m   1716\u001b[0m                                   RuntimeWarning, stacklevel=2)\n\u001b[0;32m-> 1717\u001b[0;31m             \u001b[0;32mreturn\u001b[0m \u001b[0mfunc\u001b[0m\u001b[0;34m(\u001b[0m\u001b[0max\u001b[0m\u001b[0;34m,\u001b[0m \u001b[0;34m*\u001b[0m\u001b[0margs\u001b[0m\u001b[0;34m,\u001b[0m \u001b[0;34m**\u001b[0m\u001b[0mkwargs\u001b[0m\u001b[0;34m)\u001b[0m\u001b[0;34m\u001b[0m\u001b[0m\n\u001b[0m\u001b[1;32m   1718\u001b[0m         \u001b[0mpre_doc\u001b[0m \u001b[0;34m=\u001b[0m \u001b[0minner\u001b[0m\u001b[0;34m.\u001b[0m\u001b[0m__doc__\u001b[0m\u001b[0;34m\u001b[0m\u001b[0m\n\u001b[1;32m   1719\u001b[0m         \u001b[0;32mif\u001b[0m \u001b[0mpre_doc\u001b[0m \u001b[0;32mis\u001b[0m \u001b[0mNone\u001b[0m\u001b[0;34m:\u001b[0m\u001b[0;34m\u001b[0m\u001b[0m\n",
      "\u001b[0;32m/usr/lib64/python2.7/site-packages/matplotlib/axes/_axes.pyc\u001b[0m in \u001b[0;36mpcolormesh\u001b[0;34m(self, *args, **kwargs)\u001b[0m\n\u001b[1;32m   5570\u001b[0m         \u001b[0mallmatch\u001b[0m \u001b[0;34m=\u001b[0m \u001b[0;34m(\u001b[0m\u001b[0mshading\u001b[0m \u001b[0;34m==\u001b[0m \u001b[0;34m'gouraud'\u001b[0m\u001b[0;34m)\u001b[0m\u001b[0;34m\u001b[0m\u001b[0m\n\u001b[1;32m   5571\u001b[0m \u001b[0;34m\u001b[0m\u001b[0m\n\u001b[0;32m-> 5572\u001b[0;31m         \u001b[0mX\u001b[0m\u001b[0;34m,\u001b[0m \u001b[0mY\u001b[0m\u001b[0;34m,\u001b[0m \u001b[0mC\u001b[0m \u001b[0;34m=\u001b[0m \u001b[0mself\u001b[0m\u001b[0;34m.\u001b[0m\u001b[0m_pcolorargs\u001b[0m\u001b[0;34m(\u001b[0m\u001b[0;34m'pcolormesh'\u001b[0m\u001b[0;34m,\u001b[0m \u001b[0;34m*\u001b[0m\u001b[0margs\u001b[0m\u001b[0;34m,\u001b[0m \u001b[0mallmatch\u001b[0m\u001b[0;34m=\u001b[0m\u001b[0mallmatch\u001b[0m\u001b[0;34m)\u001b[0m\u001b[0;34m\u001b[0m\u001b[0m\n\u001b[0m\u001b[1;32m   5573\u001b[0m         \u001b[0mNy\u001b[0m\u001b[0;34m,\u001b[0m \u001b[0mNx\u001b[0m \u001b[0;34m=\u001b[0m \u001b[0mX\u001b[0m\u001b[0;34m.\u001b[0m\u001b[0mshape\u001b[0m\u001b[0;34m\u001b[0m\u001b[0m\n\u001b[1;32m   5574\u001b[0m         \u001b[0mX\u001b[0m \u001b[0;34m=\u001b[0m \u001b[0mX\u001b[0m\u001b[0;34m.\u001b[0m\u001b[0mravel\u001b[0m\u001b[0;34m(\u001b[0m\u001b[0;34m)\u001b[0m\u001b[0;34m\u001b[0m\u001b[0m\n",
      "\u001b[0;32m/usr/lib64/python2.7/site-packages/matplotlib/axes/_axes.pyc\u001b[0m in \u001b[0;36m_pcolorargs\u001b[0;34m(funcname, *args, **kw)\u001b[0m\n\u001b[1;32m   5214\u001b[0m                 raise TypeError('Dimensions of C %s are incompatible with'\n\u001b[1;32m   5215\u001b[0m                                 ' X (%d) and/or Y (%d); see help(%s)' % (\n\u001b[0;32m-> 5216\u001b[0;31m                                     C.shape, Nx, Ny, funcname))\n\u001b[0m\u001b[1;32m   5217\u001b[0m             \u001b[0mC\u001b[0m \u001b[0;34m=\u001b[0m \u001b[0mC\u001b[0m\u001b[0;34m[\u001b[0m\u001b[0;34m:\u001b[0m\u001b[0mNy\u001b[0m \u001b[0;34m-\u001b[0m \u001b[0;36m1\u001b[0m\u001b[0;34m,\u001b[0m \u001b[0;34m:\u001b[0m\u001b[0mNx\u001b[0m \u001b[0;34m-\u001b[0m \u001b[0;36m1\u001b[0m\u001b[0;34m]\u001b[0m\u001b[0;34m\u001b[0m\u001b[0m\n\u001b[1;32m   5218\u001b[0m         \u001b[0mC\u001b[0m \u001b[0;34m=\u001b[0m \u001b[0mcbook\u001b[0m\u001b[0;34m.\u001b[0m\u001b[0msafe_masked_invalid\u001b[0m\u001b[0;34m(\u001b[0m\u001b[0mC\u001b[0m\u001b[0;34m)\u001b[0m\u001b[0;34m\u001b[0m\u001b[0m\n",
      "\u001b[0;31mTypeError\u001b[0m: Dimensions of C (308, 308) are incompatible with X (297) and/or Y (303); see help(pcolormesh)"
     ]
    },
    {
     "data": {
      "image/png": "[encoded data removed]",
      "text/plain": [
       "<matplotlib.figure.Figure at 0x7fcf23e33b50>"
      ]
     },
     "metadata": {},
     "output_type": "display_data"
    }
   ],
   "source": [
    "figure()\n",
    "pc = pcolormesh(rabins, decbins, destripedA)\n",
    "#clim(-0.1, 0.11)\n",
    "cb = colorbar()\n",
    "xlabel('$\\mathrm{Longitude\\ [deg]}$')\n",
    "ylabel('$\\mathrm{Latitude\\ [deg]}$')\n",
    "cb.set_label('$\\mathrm{Flux\\ [MJy / sr]}$')\n",
    "grid(ls='dotted', alpha=0.5)\n",
    "#xlim(105.75, 108.63)\n",
    "#ylim(3.73, 6.67)\n",
    "xticks([106, 106.5, 107, 107.5, 108, 108.5]);\n",
    "tight_layout()\n",
    "#savefig('bankD5.pdf', format='pdf')"
   ]
  },
  {
   "cell_type": "code",
   "execution_count": null,
   "metadata": {
    "collapsed": true
   },
   "outputs": [],
   "source": []
  },
  {
   "cell_type": "code",
   "execution_count": null,
   "metadata": {
    "collapsed": true
   },
   "outputs": [],
   "source": []
  },
  {
   "cell_type": "code",
   "execution_count": null,
   "metadata": {
    "collapsed": true
   },
   "outputs": [],
   "source": []
  },
  {
   "cell_type": "code",
   "execution_count": 263,
   "metadata": {
    "collapsed": true
   },
   "outputs": [],
   "source": [
    "rdmesh = meshgrid(rabins, decbins)\n",
    "radius_grid = np.sqrt( (rdmesh[0] - rc)**2 + (rdmesh[1] - dc)**2 ) "
   ]
  },
  {
   "cell_type": "code",
   "execution_count": 264,
   "metadata": {
    "collapsed": true
   },
   "outputs": [],
   "source": [
    "rads = radius_grid.flatten()\n",
    "fluxs = signal.flatten() * 1000.\n",
    "mask = np.isnan(fluxs)\n",
    "fluxs = fluxs[~mask]\n",
    "rads = rads[~mask]\n",
    "\n",
    "mask2 = rads <= 1.51\n",
    "fluxs = fluxs[mask2]\n",
    "rads = rads[mask2]"
   ]
  },
  {
   "cell_type": "code",
   "execution_count": 265,
   "metadata": {
    "collapsed": false
   },
   "outputs": [
    {
     "data": {
      "text/plain": [
       "45.052214972804606"
      ]
     },
     "execution_count": 265,
     "metadata": {},
     "output_type": "execute_result"
    }
   ],
   "source": [
    "(rads.max() - rads.min()) * 60 / 2."
   ]
  },
  {
   "cell_type": "code",
   "execution_count": 266,
   "metadata": {
    "collapsed": false
   },
   "outputs": [],
   "source": [
    "hist, bins = np.histogram(rads, bins=45, weights=fluxs)"
   ]
  },
  {
   "cell_type": "code",
   "execution_count": 267,
   "metadata": {
    "collapsed": true
   },
   "outputs": [],
   "source": [
    "histnorm, bins2 = np.histogram(rads, bins=45)"
   ]
  },
  {
   "cell_type": "code",
   "execution_count": 268,
   "metadata": {
    "collapsed": false
   },
   "outputs": [
    {
     "data": {
      "text/plain": [
       "2.0023206654579826"
      ]
     },
     "execution_count": 268,
     "metadata": {},
     "output_type": "execute_result"
    }
   ],
   "source": [
    "np.diff(bins2)[0] * 60."
   ]
  },
  {
   "cell_type": "code",
   "execution_count": 269,
   "metadata": {
    "collapsed": true
   },
   "outputs": [],
   "source": [
    "bins = (bins[1:] + bins[:-1])/2."
   ]
  },
  {
   "cell_type": "code",
   "execution_count": 270,
   "metadata": {
    "collapsed": true
   },
   "outputs": [],
   "source": [
    "bins2 = (bins2[1:] + bins2[:-1])/2."
   ]
  },
  {
   "cell_type": "code",
   "execution_count": 275,
   "metadata": {
    "collapsed": false
   },
   "outputs": [
    {
     "data": {
      "image/png": "[encoded data removed]",
      "text/plain": [
       "<matplotlib.figure.Figure at 0x7fc458722c90>"
      ]
     },
     "metadata": {},
     "output_type": "display_data"
    }
   ],
   "source": [
    "bar(x=bins, height=hist/histnorm, width=2./60, edgecolor='k')\n",
    "grid(ls='dotted', alpha=0.5)\n",
    "xlabel('$\\mathrm{Radius\\ from\\ (\\ell, b)=(107.2^o,5.2^o)\\ [deg]}$')\n",
    "ylabel('$\\mathrm{Mean\\ Flux\\ [mJy/pixel]}$')\n",
    "tight_layout()\n",
    "#savefig('flux_radius_binned.pdf', format='pdf')"
   ]
  },
  {
   "cell_type": "code",
   "execution_count": null,
   "metadata": {
    "collapsed": true
   },
   "outputs": [],
   "source": []
  }
 ],
 "metadata": {
  "kernelspec": {
   "display_name": "Python 2",
   "language": "python",
   "name": "python2"
  },
  "language_info": {
   "codemirror_mode": {
    "name": "ipython",
    "version": 2
   },
   "file_extension": ".py",
   "mimetype": "text/x-python",
   "name": "python",
   "nbconvert_exporter": "python",
   "pygments_lexer": "ipython2",
   "version": "2.7.13"
  }
 },
 "nbformat": 4,
 "nbformat_minor": 2
}
