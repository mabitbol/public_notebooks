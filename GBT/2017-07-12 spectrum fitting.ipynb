{
 "cells": [
  {
   "cell_type": "code",
   "execution_count": 1,
   "metadata": {
    "collapsed": false
   },
   "outputs": [
    {
     "name": "stdout",
     "output_type": "stream",
     "text": [
      "Populating the interactive namespace from numpy and matplotlib\n"
     ]
    }
   ],
   "source": [
    "%pylab inline"
   ]
  },
  {
   "cell_type": "code",
   "execution_count": null,
   "metadata": {
    "collapsed": true
   },
   "outputs": [],
   "source": [
    "cd /home/mabitbol/GBT-S140/analysis/"
   ]
  },
  {
   "cell_type": "code",
   "execution_count": 3,
   "metadata": {
    "collapsed": true
   },
   "outputs": [],
   "source": [
    "import foregrounds as fg\n",
    "from scipy.optimize import curve_fit"
   ]
  },
  {
   "cell_type": "code",
   "execution_count": 4,
   "metadata": {
    "collapsed": true
   },
   "outputs": [],
   "source": [
    "fdg = np.loadtxt('/home/mabitbol/GBT-S140/externaldata/fd_G107_wim.dat')"
   ]
  },
  {
   "cell_type": "code",
   "execution_count": 5,
   "metadata": {
    "collapsed": false
   },
   "outputs": [
    {
     "data": {
      "text/plain": [
       "array([[  1.43000000e+02,   9.34389850e+01,   4.03505270e+01,\n",
       "          9.84452830e+01,  -5.00629840e+00,   5.10070690e+01],\n",
       "       [  2.17000000e+02,   3.93966020e+02,   1.52265200e+02,\n",
       "          3.02026800e+02,   9.19392210e+01,   1.88540610e+02],\n",
       "       [  2.85000000e+01,   3.65733250e+01,   6.29642510e+00,\n",
       "          1.69138370e+01,   1.96594890e+01,   7.37715830e+00],\n",
       "       [  3.53000000e+02,   1.61746600e+03,   5.95344590e+02,\n",
       "          1.47885610e+03,   1.38609980e+02,   7.22380330e+02],\n",
       "       [  4.41000000e+01,   3.23586000e+01,   5.97758480e+00,\n",
       "          1.96068610e+01,   1.27517390e+01,   7.08730640e+00],\n",
       "       [  5.45000000e+02,   6.64744380e+03,   2.27880530e+03,\n",
       "          6.26361660e+03,   3.83827230e+02,   2.52818550e+03],\n",
       "       [  7.03000000e+01,   2.80290730e+01,   8.71551070e+00,\n",
       "          2.88367880e+01,  -8.07715690e-01,   9.93396460e+00],\n",
       "       [  8.57000000e+02,   2.32253630e+04,   6.42423880e+03,\n",
       "          2.34956980e+04,  -2.70335620e+02,   7.28311370e+03],\n",
       "       [  1.00000000e+02,   3.86048640e+01,   1.66035720e+01,\n",
       "          4.77639240e+01,  -9.15905970e+00,   1.95296890e+01],\n",
       "       [  2.27100000e+01,   3.71058380e+01,   6.44865480e+00,\n",
       "          1.64608100e+01,   2.06450280e+01,   7.55055990e+00],\n",
       "       [  3.29500000e+01,   3.67439010e+01,   6.31049730e+00,\n",
       "          1.74705920e+01,   1.92733090e+01,   7.37004480e+00],\n",
       "       [  4.06500000e+01,   3.36854660e+01,   6.00400750e+00,\n",
       "          1.88345980e+01,   1.48508680e+01,   7.10175150e+00],\n",
       "       [  6.06400000e+01,   2.92255040e+01,   7.18539610e+00,\n",
       "          2.47148810e+01,   4.51062280e+00,   8.30346080e+00],\n",
       "       [  9.34400000e+01,   3.67208300e+01,   1.43803690e+01,\n",
       "          4.26697850e+01,  -5.94895520e+00,   1.67042890e+01],\n",
       "       [  1.24900000e+03,   4.86739340e+04,   1.28003090e+04,\n",
       "          5.38127870e+04,  -5.13885250e+03,   1.52770320e+04],\n",
       "       [  4.99500000e+03,   2.73120170e+04,   4.49282420e+03,\n",
       "          4.26346810e+03,   2.30485490e+04,   5.15219420e+03],\n",
       "       [  2.99700000e+03,   4.99303920e+04,   1.06518530e+04,\n",
       "          5.09787670e+04,  -1.04837500e+03,   1.31062800e+04],\n",
       "       [  2.14100000e+03,   8.81948710e+04,   1.84554770e+04,\n",
       "          8.19527630e+04,   6.24210820e+03,   2.06003990e+04],\n",
       "       [  4.08000000e-01,   1.81647480e+01,   7.88033890e+00,\n",
       "          2.30328090e+01,  -4.86806110e+00,   9.91596710e+00],\n",
       "       [  2.99700100e+03,   5.11679940e+04,   1.00039530e+04,\n",
       "          5.09787240e+04,   1.89270070e+02,   1.25853760e+04],\n",
       "       [  4.99500000e+03,   2.80105330e+04,   4.23545310e+03,\n",
       "          4.26346810e+03,   2.37470640e+04,   4.92937100e+03],\n",
       "       [  2.32600000e+00,              nan,              nan,\n",
       "          1.95274390e+01,              nan,              nan],\n",
       "       [  1.42000000e+00,   2.33332150e+01,   1.01395420e+01,\n",
       "          2.05166820e+01,   2.81653320e+00,   1.14695320e+01]])"
      ]
     },
     "execution_count": 5,
     "metadata": {},
     "output_type": "execute_result"
    }
   ],
   "source": [
    "cfs = fdg[:, 0] * 1.e9\n",
    "cjys = fdg[:, 1]\n",
    "cerrs = fdg[:, 2]\n",
    "cfit = fdg[:, 3]\n",
    "crem = fdg[:, 4]\n",
    "cremerr = fdg[:, 5]"
   ]
  },
  {
   "cell_type": "code",
   "execution_count": null,
   "metadata": {
    "collapsed": true
   },
   "outputs": [],
   "source": []
  }
 ],
 "metadata": {
  "kernelspec": {
   "display_name": "Python 2",
   "language": "python",
   "name": "python2"
  },
  "language_info": {
   "codemirror_mode": {
    "name": "ipython",
    "version": 2
   },
   "file_extension": ".py",
   "mimetype": "text/x-python",
   "name": "python",
   "nbconvert_exporter": "python",
   "pygments_lexer": "ipython2",
   "version": "2.7.13"
  }
 },
 "nbformat": 4,
 "nbformat_minor": 2
}
