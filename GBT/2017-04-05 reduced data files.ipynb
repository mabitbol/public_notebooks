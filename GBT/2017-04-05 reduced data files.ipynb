{
 "cells": [
  {
   "cell_type": "code",
   "execution_count": 1,
   "metadata": {
    "collapsed": false,
    "deletable": true,
    "editable": true
   },
   "outputs": [
    {
     "name": "stdout",
     "output_type": "stream",
     "text": [
      "Populating the interactive namespace from numpy and matplotlib\n"
     ]
    }
   ],
   "source": [
    "%pylab inline"
   ]
  },
  {
   "cell_type": "code",
   "execution_count": 2,
   "metadata": {
    "collapsed": true,
    "deletable": true,
    "editable": true
   },
   "outputs": [],
   "source": [
    "import glob"
   ]
  },
  {
   "cell_type": "code",
   "execution_count": 3,
   "metadata": {
    "collapsed": true,
    "deletable": true,
    "editable": true
   },
   "outputs": [],
   "source": [
    "fdir = '/home/scratch/mabitbol/'"
   ]
  },
  {
   "cell_type": "code",
   "execution_count": 4,
   "metadata": {
    "collapsed": true,
    "deletable": true,
    "editable": true
   },
   "outputs": [],
   "source": [
    "fnames = glob.glob(fdir+'*/Daisy/*/*_02_*.npz')"
   ]
  },
  {
   "cell_type": "code",
   "execution_count": 5,
   "metadata": {
    "collapsed": false,
    "deletable": true,
    "editable": true
   },
   "outputs": [
    {
     "name": "stdout",
     "output_type": "stream",
     "text": [
      "25\n"
     ]
    }
   ],
   "source": [
    "print len(fnames)"
   ]
  },
  {
   "cell_type": "code",
   "execution_count": 6,
   "metadata": {
    "collapsed": false,
    "deletable": true,
    "editable": true
   },
   "outputs": [],
   "source": [
    "fnames.sort()"
   ]
  },
  {
   "cell_type": "code",
   "execution_count": 7,
   "metadata": {
    "collapsed": false,
    "deletable": true,
    "editable": true
   },
   "outputs": [
    {
     "data": {
      "text/plain": [
       "['/home/scratch/mabitbol/S140/Daisy/scan_02_34.raw.vegas/scan_02_34.raw.vegas.B.fits.reduced.npz',\n",
       " '/home/scratch/mabitbol/S140/Daisy/scan_02_35.raw.vegas/scan_02_35.raw.vegas.B.fits.reduced.npz',\n",
       " '/home/scratch/mabitbol/S140/Daisy/scan_02_36.raw.vegas/scan_02_36.raw.vegas.B.fits.reduced.npz',\n",
       " '/home/scratch/mabitbol/S140/Daisy/scan_02_37.raw.vegas/scan_02_37.raw.vegas.B.fits.reduced.npz',\n",
       " '/home/scratch/mabitbol/S140/Daisy/scan_02_38.raw.vegas/scan_02_38.raw.vegas.B.fits.reduced.npz',\n",
       " '/home/scratch/mabitbol/S140/Daisy/scan_02_39.raw.vegas/scan_02_39.raw.vegas.B.fits.reduced.npz',\n",
       " '/home/scratch/mabitbol/S140/Daisy/scan_02_40.raw.vegas/scan_02_40.raw.vegas.B.fits.reduced.npz',\n",
       " '/home/scratch/mabitbol/S140/Daisy/scan_02_41.raw.vegas/scan_02_41.raw.vegas.B.fits.reduced.npz',\n",
       " '/home/scratch/mabitbol/S140/Daisy/scan_02_42.raw.vegas/scan_02_42.raw.vegas.B.fits.reduced.npz']"
      ]
     },
     "execution_count": 7,
     "metadata": {},
     "output_type": "execute_result"
    }
   ],
   "source": [
    "fnames[-9:]"
   ]
  },
  {
   "cell_type": "code",
   "execution_count": null,
   "metadata": {
    "collapsed": true,
    "deletable": true,
    "editable": true
   },
   "outputs": [],
   "source": []
  },
  {
   "cell_type": "code",
   "execution_count": 8,
   "metadata": {
    "collapsed": true,
    "deletable": true,
    "editable": true
   },
   "outputs": [],
   "source": [
    "def naive_map(data,ra,dec,ra_num_bins=60,dec_num_bins=50):\n",
    "    ra_bins = np.linspace(ra.min(),ra.max(),ra_num_bins)\n",
    "    dec_bins = np.linspace(dec.min(),dec.max(),dec_num_bins)\n",
    "    p,_,_ = np.histogram2d(ra,dec,bins=(ra_bins,dec_bins),weights=data)\n",
    "    hits,_,_ = np.histogram2d(ra,dec,bins=(ra_bins,dec_bins))\n",
    "    return p/hits, hits, ra_bins, dec_bins"
   ]
  },
  {
   "cell_type": "code",
   "execution_count": 17,
   "metadata": {
    "collapsed": true,
    "deletable": true,
    "editable": true
   },
   "outputs": [],
   "source": [
    "def get_calibratedyy(fname):\n",
    "    nz = np.load(fname)\n",
    "    gain = nz['tcaly'] / (nz['yyon'] - nz['yyoff'])\n",
    "    calibratedxx = (nz['yyoff'] * gain)[:, 100:400].mean(1)\n",
    "    return calibratedxx, nz['sra'], nz['sdec'], gain[:, 100:400].mean(1)"
   ]
  },
  {
   "cell_type": "code",
   "execution_count": 18,
   "metadata": {
    "collapsed": true,
    "deletable": true,
    "editable": true
   },
   "outputs": [],
   "source": [
    "def get_calibratedxx(fname):\n",
    "    nz = np.load(fname)\n",
    "    gain = nz['tcalx'] / (nz['xxon'] - nz['xxoff'])\n",
    "    calibratedxx = (nz['xxoff'] * gain)[:, 100:400].mean(1)\n",
    "    return calibratedxx, nz['sra'], nz['sdec'], gain[:, 100:400].mean(1)"
   ]
  },
  {
   "cell_type": "code",
   "execution_count": 11,
   "metadata": {
    "collapsed": false,
    "deletable": true,
    "editable": true
   },
   "outputs": [
    {
     "name": "stderr",
     "output_type": "stream",
     "text": [
      "/users/mabitbol/miniconda2/envs/gbt/lib/python2.7/site-packages/ipykernel/__main__.py:3: RuntimeWarning: divide by zero encountered in divide\n",
      "  app.launch_new_instance()\n"
     ]
    }
   ],
   "source": [
    "calibrated = [] \n",
    "ras = []\n",
    "decs = []\n",
    "gains = []\n",
    "for fname in fnames[-9:]:\n",
    "    calib, ra, dec, gain = get_calibrated(fname)\n",
    "    calib = calib - np.nanmin(calib)\n",
    "    calibrated = np.concatenate([calibrated, calib])\n",
    "    ras = np.concatenate([ras, ra])\n",
    "    decs = np.concatenate([decs, dec])\n",
    "    gains = np.concatenate([gains, gain])"
   ]
  },
  {
   "cell_type": "code",
   "execution_count": 12,
   "metadata": {
    "collapsed": false,
    "deletable": true,
    "editable": true
   },
   "outputs": [
    {
     "name": "stderr",
     "output_type": "stream",
     "text": [
      "/users/mabitbol/miniconda2/envs/gbt/lib/python2.7/site-packages/ipykernel/__main__.py:6: RuntimeWarning: invalid value encountered in divide\n"
     ]
    }
   ],
   "source": [
    "datamap, hits, rabins, decbins = naive_map(calibrated, ras, decs, 60, 60)"
   ]
  },
  {
   "cell_type": "code",
   "execution_count": 13,
   "metadata": {
    "collapsed": false,
    "deletable": true,
    "editable": true
   },
   "outputs": [
    {
     "data": {
      "text/plain": [
       "<matplotlib.colorbar.Colorbar at 0x7f8e8d14b0d0>"
      ]
     },
     "execution_count": 13,
     "metadata": {},
     "output_type": "execute_result"
    },
    {
     "data": {
      "image/png": "[encoded data removed]",
      "text/plain": [
       "<matplotlib.figure.Figure at 0x7f8e8d277dd0>"
      ]
     },
     "metadata": {},
     "output_type": "display_data"
    }
   ],
   "source": [
    "figure()\n",
    "imshow(datamap.T)\n",
    "colorbar()"
   ]
  },
  {
   "cell_type": "code",
   "execution_count": 14,
   "metadata": {
    "collapsed": false,
    "deletable": true,
    "editable": true
   },
   "outputs": [
    {
     "name": "stderr",
     "output_type": "stream",
     "text": [
      "/users/mabitbol/miniconda2/envs/gbt/lib/python2.7/site-packages/matplotlib/colors.py:494: RuntimeWarning: invalid value encountered in less\n",
      "  cbook._putmask(xa, xa < 0.0, -1)\n"
     ]
    },
    {
     "data": {
      "image/png": "[encoded data removed]",
      "text/plain": [
       "<matplotlib.figure.Figure at 0x7f8e8d19da90>"
      ]
     },
     "metadata": {},
     "output_type": "display_data"
    }
   ],
   "source": [
    "figsize(8,6)\n",
    "pc = pcolormesh(rabins*24./360, decbins, datamap.T)\n",
    "clim(0, 0.6)\n",
    "cb = colorbar()\n",
    "pc.cmap.set_under('w')\n",
    "xlabel('RA [hours]')\n",
    "ylabel('DEC [degrees]')\n",
    "cb.set_label('$T_A$ [K]')\n",
    "#savefig('prelimS140map')"
   ]
  },
  {
   "cell_type": "code",
   "execution_count": null,
   "metadata": {
    "collapsed": true,
    "deletable": true,
    "editable": true
   },
   "outputs": [],
   "source": []
  },
  {
   "cell_type": "code",
   "execution_count": 21,
   "metadata": {
    "collapsed": false,
    "deletable": true,
    "editable": true
   },
   "outputs": [
    {
     "name": "stderr",
     "output_type": "stream",
     "text": [
      "/users/mabitbol/miniconda2/envs/gbt/lib/python2.7/site-packages/ipykernel/__main__.py:3: RuntimeWarning: divide by zero encountered in divide\n",
      "  app.launch_new_instance()\n"
     ]
    }
   ],
   "source": [
    "calibrated = [] \n",
    "ras = []\n",
    "decs = []\n",
    "gains = []\n",
    "for fname in fnames[-9:]:\n",
    "    calib, ra, dec, gain = get_calibratedxx(fname)\n",
    "    calib = calib - np.nanmin(calib)\n",
    "    calibrated = np.concatenate([calibrated, calib])\n",
    "    ras = np.concatenate([ras, ra])\n",
    "    decs = np.concatenate([decs, dec])\n",
    "    gains = np.concatenate([gains, gain])"
   ]
  },
  {
   "cell_type": "code",
   "execution_count": 22,
   "metadata": {
    "collapsed": false,
    "deletable": true,
    "editable": true
   },
   "outputs": [
    {
     "name": "stderr",
     "output_type": "stream",
     "text": [
      "/users/mabitbol/miniconda2/envs/gbt/lib/python2.7/site-packages/ipykernel/__main__.py:6: RuntimeWarning: invalid value encountered in divide\n"
     ]
    }
   ],
   "source": [
    "datamap, hits, rabins, decbins = naive_map(calibrated, ras, decs, 60, 60)"
   ]
  },
  {
   "cell_type": "code",
   "execution_count": 23,
   "metadata": {
    "collapsed": false,
    "deletable": true,
    "editable": true
   },
   "outputs": [
    {
     "data": {
      "image/png": "[encoded data removed]",
      "text/plain": [
       "<matplotlib.figure.Figure at 0x7f8e8b3e5f90>"
      ]
     },
     "metadata": {},
     "output_type": "display_data"
    }
   ],
   "source": [
    "figsize(8,6)\n",
    "pc = pcolormesh(rabins*24./360, decbins, datamap.T)\n",
    "clim(0, 0.6)\n",
    "cb = colorbar()\n",
    "pc.cmap.set_under('w')\n",
    "xlabel('RA [hours]')\n",
    "ylabel('DEC [degrees]')\n",
    "cb.set_label('$T_A$ [K]')\n",
    "#savefig('prelimS140map')"
   ]
  },
  {
   "cell_type": "code",
   "execution_count": null,
   "metadata": {
    "collapsed": true
   },
   "outputs": [],
   "source": []
  }
 ],
 "metadata": {
  "kernelspec": {
   "display_name": "Python 2",
   "language": "python",
   "name": "python2"
  },
  "language_info": {
   "codemirror_mode": {
    "name": "ipython",
    "version": 2
   },
   "file_extension": ".py",
   "mimetype": "text/x-python",
   "name": "python",
   "nbconvert_exporter": "python",
   "pygments_lexer": "ipython2",
   "version": "2.7.13"
  }
 },
 "nbformat": 4,
 "nbformat_minor": 2
}
