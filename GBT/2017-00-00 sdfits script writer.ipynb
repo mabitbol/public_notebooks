{
 "cells": [
  {
   "cell_type": "code",
   "execution_count": 1,
   "metadata": {
    "collapsed": false,
    "deletable": true,
    "editable": true
   },
   "outputs": [
    {
     "name": "stdout",
     "output_type": "stream",
     "text": [
      "Populating the interactive namespace from numpy and matplotlib\n"
     ]
    }
   ],
   "source": [
    "%pylab inline"
   ]
  },
  {
   "cell_type": "code",
   "execution_count": 2,
   "metadata": {
    "collapsed": true,
    "deletable": true,
    "editable": true
   },
   "outputs": [],
   "source": [
    "nscans = 30\n",
    "datafname = 'AGBT17A_259_05'"
   ]
  },
  {
   "cell_type": "code",
   "execution_count": null,
   "metadata": {
    "collapsed": true
   },
   "outputs": [],
   "source": []
  },
  {
   "cell_type": "code",
   "execution_count": null,
   "metadata": {
    "collapsed": true
   },
   "outputs": [],
   "source": []
  },
  {
   "cell_type": "code",
   "execution_count": 20,
   "metadata": {
    "collapsed": true,
    "deletable": true,
    "editable": true
   },
   "outputs": [],
   "source": [
    "x = np.genfromtxt('/users/mabitbol/GBT-S140/scanlist01.txt', delimiter='\\t\\t', dtype='str')"
   ]
  },
  {
   "cell_type": "code",
   "execution_count": 22,
   "metadata": {
    "collapsed": true,
    "deletable": true,
    "editable": true
   },
   "outputs": [],
   "source": [
    "import shutil"
   ]
  },
  {
   "cell_type": "code",
   "execution_count": 24,
   "metadata": {
    "collapsed": true,
    "deletable": true,
    "editable": true
   },
   "outputs": [],
   "source": [
    "datadir = '/home/scratch/mabitbol/'"
   ]
  },
  {
   "cell_type": "code",
   "execution_count": 28,
   "metadata": {
    "collapsed": false,
    "deletable": true,
    "editable": true
   },
   "outputs": [],
   "source": [
    "for line in x:\n",
    "    try:\n",
    "        shutil.move(datadir+'scan'+line[0]+'.raw.vegas', datadir+line[1]+'/.')\n",
    "    except:\n",
    "        continue"
   ]
  },
  {
   "cell_type": "raw",
   "metadata": {
    "deletable": true,
    "editable": true
   },
   "source": []
  },
  {
   "cell_type": "code",
   "execution_count": null,
   "metadata": {
    "collapsed": true,
    "deletable": true,
    "editable": true
   },
   "outputs": [],
   "source": []
  },
  {
   "cell_type": "code",
   "execution_count": 5,
   "metadata": {
    "collapsed": true,
    "deletable": true,
    "editable": true
   },
   "outputs": [],
   "source": [
    "with open('/users/mabitbol/GBT-S140/scanlist02.txt', 'w') as fh:\n",
    "    fh.write('\\n'.join(lines))"
   ]
  },
  {
   "cell_type": "code",
   "execution_count": null,
   "metadata": {
    "collapsed": true,
    "deletable": true,
    "editable": true
   },
   "outputs": [],
   "source": []
  },
  {
   "cell_type": "code",
   "execution_count": 7,
   "metadata": {
    "collapsed": true,
    "deletable": true,
    "editable": true
   },
   "outputs": [],
   "source": [
    "nscans = 52"
   ]
  },
  {
   "cell_type": "code",
   "execution_count": 8,
   "metadata": {
    "collapsed": false,
    "deletable": true,
    "editable": true
   },
   "outputs": [],
   "source": [
    "lines = []\n",
    "for k in range(nscans):\n",
    "    lines.append(str(k)+'\\t\\t')"
   ]
  },
  {
   "cell_type": "code",
   "execution_count": 9,
   "metadata": {
    "collapsed": false,
    "deletable": true,
    "editable": true
   },
   "outputs": [],
   "source": [
    "lines = []\n",
    "for k in range(nscans):\n",
    "    if k < 10:\n",
    "        numk = '00' + str(k)\n",
    "    elif k < 100:\n",
    "        numk = '0' + str(k)\n",
    "    else:\n",
    "        numk = str(k)\n",
    "    lines.append('sdfits '+datafname+' -scans='+str(k)+' scan_05_'+numk+' &')"
   ]
  },
  {
   "cell_type": "code",
   "execution_count": 10,
   "metadata": {
    "collapsed": false,
    "deletable": true,
    "editable": true
   },
   "outputs": [
    {
     "name": "stdout",
     "output_type": "stream",
     "text": [
      "sdfits AGBT17A_259_05 -scans=0 scan_05_000 &\n",
      "sdfits AGBT17A_259_05 -scans=1 scan_05_001 &\n",
      "sdfits AGBT17A_259_05 -scans=2 scan_05_002 &\n",
      "sdfits AGBT17A_259_05 -scans=3 scan_05_003 &\n",
      "sdfits AGBT17A_259_05 -scans=4 scan_05_004 &\n",
      "sdfits AGBT17A_259_05 -scans=5 scan_05_005 &\n",
      "sdfits AGBT17A_259_05 -scans=6 scan_05_006 &\n",
      "sdfits AGBT17A_259_05 -scans=7 scan_05_007 &\n",
      "sdfits AGBT17A_259_05 -scans=8 scan_05_008 &\n",
      "sdfits AGBT17A_259_05 -scans=9 scan_05_009 &\n",
      "sdfits AGBT17A_259_05 -scans=10 scan_05_010 &\n",
      "sdfits AGBT17A_259_05 -scans=11 scan_05_011 &\n",
      "sdfits AGBT17A_259_05 -scans=12 scan_05_012 &\n",
      "sdfits AGBT17A_259_05 -scans=13 scan_05_013 &\n",
      "sdfits AGBT17A_259_05 -scans=14 scan_05_014 &\n",
      "sdfits AGBT17A_259_05 -scans=15 scan_05_015 &\n",
      "sdfits AGBT17A_259_05 -scans=16 scan_05_016 &\n",
      "sdfits AGBT17A_259_05 -scans=17 scan_05_017 &\n",
      "sdfits AGBT17A_259_05 -scans=18 scan_05_018 &\n",
      "sdfits AGBT17A_259_05 -scans=19 scan_05_019 &\n",
      "sdfits AGBT17A_259_05 -scans=20 scan_05_020 &\n",
      "sdfits AGBT17A_259_05 -scans=21 scan_05_021 &\n",
      "sdfits AGBT17A_259_05 -scans=22 scan_05_022 &\n",
      "sdfits AGBT17A_259_05 -scans=23 scan_05_023 &\n",
      "sdfits AGBT17A_259_05 -scans=24 scan_05_024 &\n",
      "sdfits AGBT17A_259_05 -scans=25 scan_05_025 &\n",
      "sdfits AGBT17A_259_05 -scans=26 scan_05_026 &\n",
      "sdfits AGBT17A_259_05 -scans=27 scan_05_027 &\n",
      "sdfits AGBT17A_259_05 -scans=28 scan_05_028 &\n",
      "sdfits AGBT17A_259_05 -scans=29 scan_05_029 &\n",
      "sdfits AGBT17A_259_05 -scans=30 scan_05_030 &\n",
      "sdfits AGBT17A_259_05 -scans=31 scan_05_031 &\n",
      "sdfits AGBT17A_259_05 -scans=32 scan_05_032 &\n",
      "sdfits AGBT17A_259_05 -scans=33 scan_05_033 &\n",
      "sdfits AGBT17A_259_05 -scans=34 scan_05_034 &\n",
      "sdfits AGBT17A_259_05 -scans=35 scan_05_035 &\n",
      "sdfits AGBT17A_259_05 -scans=36 scan_05_036 &\n",
      "sdfits AGBT17A_259_05 -scans=37 scan_05_037 &\n",
      "sdfits AGBT17A_259_05 -scans=38 scan_05_038 &\n",
      "sdfits AGBT17A_259_05 -scans=39 scan_05_039 &\n",
      "sdfits AGBT17A_259_05 -scans=40 scan_05_040 &\n",
      "sdfits AGBT17A_259_05 -scans=41 scan_05_041 &\n",
      "sdfits AGBT17A_259_05 -scans=42 scan_05_042 &\n",
      "sdfits AGBT17A_259_05 -scans=43 scan_05_043 &\n",
      "sdfits AGBT17A_259_05 -scans=44 scan_05_044 &\n",
      "sdfits AGBT17A_259_05 -scans=45 scan_05_045 &\n",
      "sdfits AGBT17A_259_05 -scans=46 scan_05_046 &\n",
      "sdfits AGBT17A_259_05 -scans=47 scan_05_047 &\n",
      "sdfits AGBT17A_259_05 -scans=48 scan_05_048 &\n",
      "sdfits AGBT17A_259_05 -scans=49 scan_05_049 &\n",
      "sdfits AGBT17A_259_05 -scans=50 scan_05_050 &\n",
      "sdfits AGBT17A_259_05 -scans=51 scan_05_051 &\n"
     ]
    }
   ],
   "source": [
    "print '\\n'.join(lines)"
   ]
  },
  {
   "cell_type": "code",
   "execution_count": 11,
   "metadata": {
    "collapsed": true,
    "deletable": true,
    "editable": true
   },
   "outputs": [],
   "source": [
    "with open('/home/scratch/mabitbol/sdfits_script_05.sh', 'w') as fh:\n",
    "    fh.write('\\n'.join(lines))"
   ]
  },
  {
   "cell_type": "code",
   "execution_count": null,
   "metadata": {
    "collapsed": true,
    "deletable": true,
    "editable": true
   },
   "outputs": [],
   "source": []
  },
  {
   "cell_type": "code",
   "execution_count": null,
   "metadata": {
    "collapsed": true,
    "deletable": true,
    "editable": true
   },
   "outputs": [],
   "source": []
  },
  {
   "cell_type": "code",
   "execution_count": null,
   "metadata": {
    "collapsed": true,
    "deletable": true,
    "editable": true
   },
   "outputs": [],
   "source": []
  },
  {
   "cell_type": "code",
   "execution_count": null,
   "metadata": {
    "collapsed": true,
    "deletable": true,
    "editable": true
   },
   "outputs": [],
   "source": []
  }
 ],
 "metadata": {
  "kernelspec": {
   "display_name": "Python 2",
   "language": "python",
   "name": "python2"
  },
  "language_info": {
   "codemirror_mode": {
    "name": "ipython",
    "version": 2
   },
   "file_extension": ".py",
   "mimetype": "text/x-python",
   "name": "python",
   "nbconvert_exporter": "python",
   "pygments_lexer": "ipython2",
   "version": "2.7.13"
  }
 },
 "nbformat": 4,
 "nbformat_minor": 2
}
