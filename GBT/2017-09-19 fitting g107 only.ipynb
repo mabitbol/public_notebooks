{
 "cells": [
  {
   "cell_type": "code",
   "execution_count": 1,
   "metadata": {
    "collapsed": false
   },
   "outputs": [
    {
     "name": "stdout",
     "output_type": "stream",
     "text": [
      "Populating the interactive namespace from numpy and matplotlib\n"
     ]
    }
   ],
   "source": [
    "%pylab inline"
   ]
  },
  {
   "cell_type": "code",
   "execution_count": 2,
   "metadata": {
    "collapsed": false
   },
   "outputs": [
    {
     "name": "stdout",
     "output_type": "stream",
     "text": [
      "/home/mabitbol/GBT-S140/analysis\n"
     ]
    }
   ],
   "source": [
    "cd /home/mabitbol/GBT-S140/analysis/"
   ]
  },
  {
   "cell_type": "code",
   "execution_count": 3,
   "metadata": {
    "collapsed": false
   },
   "outputs": [],
   "source": [
    "import foregrounds as fg\n",
    "from scipy.optimize import curve_fit\n",
    "import emcee\n",
    "import corner"
   ]
  },
  {
   "cell_type": "code",
   "execution_count": 4,
   "metadata": {
    "collapsed": true
   },
   "outputs": [],
   "source": [
    "from __future__ import unicode_literals\n",
    "\n",
    "figsize(10,8)\n",
    "\n",
    "matplotlib.rcParams['text.usetex'] = True\n",
    "matplotlib.rcParams['text.latex.unicode'] = True\n",
    "    \n",
    "rcParams['xtick.labelsize'] = 20\n",
    "rcParams['xtick.major.size'] = 10\n",
    "rcParams['xtick.major.width'] = 1\n",
    "rcParams['xtick.major.pad'] = 10\n",
    "rcParams['xtick.minor.size'] = 5\n",
    "rcParams['xtick.minor.width'] = 1\n",
    "\n",
    "rcParams['ytick.labelsize'] = 20\n",
    "rcParams['ytick.major.size'] = 10\n",
    "rcParams['ytick.major.width'] = 1\n",
    "rcParams['ytick.major.pad'] = 10\n",
    "rcParams['ytick.minor.size'] = 5\n",
    "rcParams['ytick.minor.width'] = 1\n",
    "\n",
    "rcParams['legend.fontsize'] = 24\n",
    "rcParams['legend.borderaxespad'] = 1\n",
    "\n",
    "rcParams['axes.labelsize'] = 24\n",
    "rcParams['axes.titlesize'] = 24"
   ]
  },
  {
   "cell_type": "code",
   "execution_count": 5,
   "metadata": {
    "collapsed": true
   },
   "outputs": [],
   "source": [
    "freqs = np.array([408e6, 4.575e9, 5.625e9, 6.125e9, 28.5e9, 44.1e9, 70.3e9, 143e9, 217e9, 353e9, 545e9, 857e9])"
   ]
  },
  {
   "cell_type": "code",
   "execution_count": 6,
   "metadata": {
    "collapsed": false
   },
   "outputs": [],
   "source": [
    "tflux = np.array([26.8198, 13.388, 13.837, 14.069, 14.573, 13.875, 15.495, 44.376, 191.47, 766.38, 2455., 7653.])\n",
    "terrs = 0.2 * tflux"
   ]
  },
  {
   "cell_type": "code",
   "execution_count": 7,
   "metadata": {
    "collapsed": false
   },
   "outputs": [
    {
     "data": {
      "image/png": "[encoded data removed]",
      "text/plain": [
       "<matplotlib.figure.Figure at 0x7fe02d42b090>"
      ]
     },
     "metadata": {},
     "output_type": "display_data"
    }
   ],
   "source": [
    "errorbar(freqs, tflux, terrs, fmt='.')\n",
    "yscale('log')\n",
    "xscale('log')\n",
    "grid()"
   ]
  },
  {
   "cell_type": "code",
   "execution_count": null,
   "metadata": {
    "collapsed": true
   },
   "outputs": [],
   "source": []
  },
  {
   "cell_type": "code",
   "execution_count": 8,
   "metadata": {
    "collapsed": true
   },
   "outputs": [],
   "source": [
    "beam = pi*( 0.8 * pi/180.)**2\n",
    "beam2 = pi*( (0.16/60.) * pi/180.)**2"
   ]
  },
  {
   "cell_type": "code",
   "execution_count": 9,
   "metadata": {
    "collapsed": false
   },
   "outputs": [],
   "source": [
    "def signal(freqs, EM, Asd, nup, Ad, Bd, Td, Acmb):\n",
    "    fffit = fg.freefreep(freqs, EM=EM, Te=8000.)\n",
    "    dustfit = fg.thermal_dust(freqs, Ad=Ad, Bd=Bd, Td=Td)\n",
    "    amefit = fg.ame(freqs, Asd=Asd, nup=nup) \n",
    "    ccmb = fg.cmb(freqs, A=Acmb)\n",
    "    return (fffit + dustfit + amefit + ccmb) * beam"
   ]
  },
  {
   "cell_type": "code",
   "execution_count": 10,
   "metadata": {
    "collapsed": true
   },
   "outputs": [],
   "source": [
    "def signal2(freqs, EM1, EM2, Ad, Bd, Td, abeam, Acmb):\n",
    "    fffit = fg.freefreep(freqs, EM=EM1, Te=8000.) * beam\n",
    "    fffit2 = fg.freefreep(freqs, EM=EM2, Te=8000.) * abeam\n",
    "    dustfit = fg.thermal_dust(freqs, Ad=Ad, Bd=Bd, Td=Td) * beam\n",
    "    ccmb = fg.cmb(freqs, A=Acmb) * beam\n",
    "    return fffit + fffit2 + dustfit + ccmb"
   ]
  },
  {
   "cell_type": "code",
   "execution_count": 11,
   "metadata": {
    "collapsed": true
   },
   "outputs": [],
   "source": [
    "def signal3(freqs, EM, Ad, Bd, Td, Acmb):\n",
    "    fffit = fg.freefreep(freqs, EM=EM, Te=8000.)\n",
    "    dustfit = fg.thermal_dust(freqs, Ad=Ad, Bd=Bd, Td=Td)\n",
    "    ccmb = fg.cmb(freqs, A=Acmb)\n",
    "    return (fffit + dustfit + ccmb) * beam"
   ]
  },
  {
   "cell_type": "code",
   "execution_count": null,
   "metadata": {
    "collapsed": true
   },
   "outputs": [],
   "source": []
  },
  {
   "cell_type": "code",
   "execution_count": 12,
   "metadata": {
    "collapsed": false
   },
   "outputs": [],
   "source": [
    "pn = np.array([1e3, 1e-3, 20e9, 1, 2, 20, 30e-6])\n",
    "bounds = ( [0, 0, 0, 0, 0, 0, -1], [1e4, 1, 1e11, 1, 3, 40, 1])\n",
    "x = curve_fit(signal, freqs, tflux, p0=pn, sigma=terrs, absolute_sigma=True, bounds=bounds)\n",
    "pfit = x[0]"
   ]
  },
  {
   "cell_type": "code",
   "execution_count": 13,
   "metadata": {
    "collapsed": false
   },
   "outputs": [],
   "source": [
    "pn2 = np.array([1e3 , 1e7, 0.1, 2, 20, beam2, 30e-6])\n",
    "bounds2 = ( [0, 1e5, 0, 0, 0, 0, -1.], [1e4, 1e9, 1, 3, 40, 1, 1])\n",
    "x = curve_fit(signal2, freqs, tflux, p0=pn2, sigma=terrs, absolute_sigma=True, bounds=bounds2)\n",
    "pfit2 = x[0]"
   ]
  },
  {
   "cell_type": "code",
   "execution_count": 14,
   "metadata": {
    "collapsed": false
   },
   "outputs": [],
   "source": [
    "pn3 = np.array([1e3, 1, 2, 20, 30e-6])\n",
    "bounds3 = ( [0, 0, 0, 0, -1], [1e4, 1, 3, 40, 1])\n",
    "x = curve_fit(signal3, freqs, tflux, p0=pn3, sigma=terrs, absolute_sigma=True, bounds=bounds3)\n",
    "pfit3 = x[0]"
   ]
  },
  {
   "cell_type": "code",
   "execution_count": null,
   "metadata": {
    "collapsed": true
   },
   "outputs": [],
   "source": []
  },
  {
   "cell_type": "code",
   "execution_count": 15,
   "metadata": {
    "collapsed": false
   },
   "outputs": [
    {
     "name": "stdout",
     "output_type": "stream",
     "text": [
      "0.697411311286 0.851912529372 0.608717046961\n"
     ]
    }
   ],
   "source": [
    "rchisq1 = np.sum( ( tflux - signal(freqs, *pfit))**2 / terrs**2 ) / (len(freqs) - 7.)\n",
    "rchisq2 = np.sum( ( tflux - signal2(freqs, *pfit2))**2 / terrs**2 ) / (len(freqs) - 7.)\n",
    "rchisq3 = np.sum( ( tflux - signal3(freqs, *pfit3))**2 / terrs**2 ) / (len(freqs) - 5.)\n",
    "print rchisq1, rchisq2, rchisq3"
   ]
  },
  {
   "cell_type": "code",
   "execution_count": 16,
   "metadata": {
    "collapsed": false
   },
   "outputs": [
    {
     "name": "stdout",
     "output_type": "stream",
     "text": [
      "EM, Asd, nup, Ad, Bd, Td, Acmb, As, alps\n"
     ]
    },
    {
     "data": {
      "text/plain": [
       "array([  2.65218498e+02,   1.55624978e-04,   3.71073555e+10,\n",
       "         4.63120942e-04,   1.60323260e+00,   1.71963296e+01,\n",
       "        -9.68464942e-07])"
      ]
     },
     "execution_count": 16,
     "metadata": {},
     "output_type": "execute_result"
    }
   ],
   "source": [
    "print \"EM, Asd, nup, Ad, Bd, Td, Acmb, As, alps\"\n",
    "pfit"
   ]
  },
  {
   "cell_type": "code",
   "execution_count": 17,
   "metadata": {
    "collapsed": false
   },
   "outputs": [
    {
     "name": "stdout",
     "output_type": "stream",
     "text": [
      "EM1, EM2, Ad, Bd, Td, abeam, Acmb, As, alps\n"
     ]
    },
    {
     "data": {
      "text/plain": [
       "array([  2.72279887e+02,   5.11899606e+06,   4.72615794e-04,\n",
       "         1.86944025e+00,   1.41645487e+01,   5.33700160e-22,\n",
       "         2.65194945e-05])"
      ]
     },
     "execution_count": 17,
     "metadata": {},
     "output_type": "execute_result"
    }
   ],
   "source": [
    "print \"EM1, EM2, Ad, Bd, Td, abeam, Acmb, As, alps\"\n",
    "pfit2"
   ]
  },
  {
   "cell_type": "code",
   "execution_count": 18,
   "metadata": {
    "collapsed": false
   },
   "outputs": [
    {
     "name": "stdout",
     "output_type": "stream",
     "text": [
      "EM, Ad, Bd, Td, Acmb, As, alps\n"
     ]
    },
    {
     "data": {
      "text/plain": [
       "array([  2.73110196e+02,   4.72824127e-04,   1.87057046e+00,\n",
       "         1.41193282e+01,   2.59700510e-05])"
      ]
     },
     "execution_count": 18,
     "metadata": {},
     "output_type": "execute_result"
    }
   ],
   "source": [
    "print \"EM, Ad, Bd, Td, Acmb, As, alps\"\n",
    "pfit3"
   ]
  },
  {
   "cell_type": "code",
   "execution_count": null,
   "metadata": {
    "collapsed": true
   },
   "outputs": [],
   "source": []
  },
  {
   "cell_type": "code",
   "execution_count": 19,
   "metadata": {
    "collapsed": false
   },
   "outputs": [],
   "source": [
    "def signal_b(freqs, EM, Asd, nup, Ad, Bd, Td, Acmb):\n",
    "    fffit = fg.freefreep(freqs, EM=EM, Te=8000.)*beam\n",
    "    dustfit = fg.thermal_dust(freqs, Ad=Ad, Bd=Bd, Td=Td)*beam\n",
    "    amefit = fg.ame(freqs, Asd=Asd, nup=nup) *beam\n",
    "    ccmb = fg.cmb(freqs, A=Acmb)*beam\n",
    "    return fffit, dustfit, amefit, ccmb"
   ]
  },
  {
   "cell_type": "code",
   "execution_count": 20,
   "metadata": {
    "collapsed": true
   },
   "outputs": [],
   "source": [
    "def signal2_b(freqs, EM1, EM2, Ad, Bd, Td, abeam, Acmb):\n",
    "    fffit = fg.freefreep(freqs, EM=EM1, Te=8000.) * beam\n",
    "    fffit2 = fg.freefreep(freqs, EM=EM2, Te=8000.) * abeam\n",
    "    dustfit = fg.thermal_dust(freqs, Ad=Ad, Bd=Bd, Td=Td) * beam\n",
    "    ccmb = fg.cmb(freqs, A=Acmb) * beam\n",
    "    return fffit, dustfit, fffit2, ccmb"
   ]
  },
  {
   "cell_type": "code",
   "execution_count": 21,
   "metadata": {
    "collapsed": true
   },
   "outputs": [],
   "source": [
    "nu = np.linspace(freqs[0], freqs[-1], 1000)"
   ]
  },
  {
   "cell_type": "code",
   "execution_count": 22,
   "metadata": {
    "collapsed": false
   },
   "outputs": [],
   "source": [
    "fffit, dustfit, amefit, ccmb = signal_b(nu, *pfit)"
   ]
  },
  {
   "cell_type": "code",
   "execution_count": 23,
   "metadata": {
    "collapsed": false
   },
   "outputs": [],
   "source": [
    "fffit2, dustfit2, fffit3, ccmb2 = signal2_b(nu, *pfit2)"
   ]
  },
  {
   "cell_type": "code",
   "execution_count": 25,
   "metadata": {
    "collapsed": false
   },
   "outputs": [
    {
     "data": {
      "text/plain": [
       "<matplotlib.text.Text at 0x7fe084e05850>"
      ]
     },
     "execution_count": 25,
     "metadata": {},
     "output_type": "execute_result"
    },
    {
     "data": {
      "image/png": "[encoded data removed]",
      "text/plain": [
       "<matplotlib.figure.Figure at 0x7fe087a4f750>"
      ]
     },
     "metadata": {},
     "output_type": "display_data"
    }
   ],
   "source": [
    "figure(figsize=(16,10))\n",
    "plot(nu*1e-9, signal3(nu, *pfit3), label='$\\mathrm{Free-Free,\\ CMB,\\ and\\ Thermal\\ Dust}$', c='C9')\n",
    "plot(nu*1e-9, signal(nu, *pfit), label='$\\mathrm{+Spinning\\ Dust}$', c='C1')\n",
    "plot(nu*1e-9, signal2(nu, *pfit2), label='$\\mathrm{+UCHII\\ Region}$', c='C2')\n",
    "errorbar(freqs*1e-9, tflux, yerr=terrs, fmt='ko',label='$\\mathrm{CGPS,\\ GBT,\\ and\\ Planck\\ data}$')\n",
    "plot(nu*1e-9, amefit, ls='dotted', c='C1')\n",
    "#plot(nu*1e-9, fffit)\n",
    "plot(nu*1e-9, fffit3, ls='dotted', c='C2')\n",
    "#plot(nu*1e-9, dustfit)\n",
    "#plot(nu*1e-9, ccmb)\n",
    "\n",
    "xscale('log')\n",
    "yscale('log')\n",
    "xlabel('$\\mathrm{Frequency}\\ (GHz)$')\n",
    "ylabel('$\\mathrm{Flux\\ Intensity}\\ (Jy)$')\n",
    "legend(loc=2, ncol=1)\n",
    "grid()\n",
    "ylim(2, 2e4)\n",
    "grid(which='minor')\n",
    "title('$\\mathrm{G107\\ Spectrum}$')\n",
    "#savefig('../notebooks/wholeregion_smoothed_spectrum_synch')"
   ]
  },
  {
   "cell_type": "code",
   "execution_count": null,
   "metadata": {
    "collapsed": true
   },
   "outputs": [],
   "source": []
  }
 ],
 "metadata": {
  "kernelspec": {
   "display_name": "Python 2",
   "language": "python",
   "name": "python2"
  },
  "language_info": {
   "codemirror_mode": {
    "name": "ipython",
    "version": 2
   },
   "file_extension": ".py",
   "mimetype": "text/x-python",
   "name": "python",
   "nbconvert_exporter": "python",
   "pygments_lexer": "ipython2",
   "version": "2.7.13"
  }
 },
 "nbformat": 4,
 "nbformat_minor": 0
}
