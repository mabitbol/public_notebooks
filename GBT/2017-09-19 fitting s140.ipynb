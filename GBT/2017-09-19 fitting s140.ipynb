{
 "cells": [
  {
   "cell_type": "code",
   "execution_count": 1,
   "metadata": {
    "collapsed": false
   },
   "outputs": [
    {
     "name": "stdout",
     "output_type": "stream",
     "text": [
      "Populating the interactive namespace from numpy and matplotlib\n"
     ]
    }
   ],
   "source": [
    "%pylab inline"
   ]
  },
  {
   "cell_type": "code",
   "execution_count": 2,
   "metadata": {
    "collapsed": false
   },
   "outputs": [
    {
     "name": "stdout",
     "output_type": "stream",
     "text": [
      "/home/mabitbol/GBT-S140/analysis\n"
     ]
    }
   ],
   "source": [
    "cd /home/mabitbol/GBT-S140/analysis/"
   ]
  },
  {
   "cell_type": "code",
   "execution_count": 3,
   "metadata": {
    "collapsed": false
   },
   "outputs": [],
   "source": [
    "import foregrounds as fg\n",
    "from scipy.optimize import curve_fit\n",
    "import emcee\n",
    "import corner"
   ]
  },
  {
   "cell_type": "code",
   "execution_count": 4,
   "metadata": {
    "collapsed": true
   },
   "outputs": [],
   "source": [
    "from __future__ import unicode_literals\n",
    "\n",
    "figsize(10,8)\n",
    "\n",
    "matplotlib.rcParams['text.usetex'] = True\n",
    "matplotlib.rcParams['text.latex.unicode'] = True\n",
    "    \n",
    "rcParams['xtick.labelsize'] = 20\n",
    "rcParams['xtick.major.size'] = 10\n",
    "rcParams['xtick.major.width'] = 1\n",
    "rcParams['xtick.major.pad'] = 10\n",
    "rcParams['xtick.minor.size'] = 5\n",
    "rcParams['xtick.minor.width'] = 1\n",
    "\n",
    "rcParams['ytick.labelsize'] = 20\n",
    "rcParams['ytick.major.size'] = 10\n",
    "rcParams['ytick.major.width'] = 1\n",
    "rcParams['ytick.major.pad'] = 10\n",
    "rcParams['ytick.minor.size'] = 5\n",
    "rcParams['ytick.minor.width'] = 1\n",
    "\n",
    "rcParams['legend.fontsize'] = 24\n",
    "rcParams['legend.borderaxespad'] = 1\n",
    "\n",
    "rcParams['axes.labelsize'] = 24\n",
    "rcParams['axes.titlesize'] = 24"
   ]
  },
  {
   "cell_type": "code",
   "execution_count": 5,
   "metadata": {
    "collapsed": true
   },
   "outputs": [],
   "source": [
    "freqs = np.array([408e6, 4.575e9, 5.625e9, 6.125e9, 28.5e9, 44.1e9, 70.3e9, 143e9, 217e9, 353e9, 545e9, 857e9])"
   ]
  },
  {
   "cell_type": "code",
   "execution_count": 6,
   "metadata": {
    "collapsed": true
   },
   "outputs": [],
   "source": [
    "s140flux = np.array([5.419, 2.132, 2.045, 1.947, 3.138, 3.015, 4.127, 24.915, 126.023, 572.549, 2049.176, 7049.524])\n",
    "serrs = 0.2 * s140flux"
   ]
  },
  {
   "cell_type": "code",
   "execution_count": 7,
   "metadata": {
    "collapsed": false
   },
   "outputs": [
    {
     "data": {
      "image/png": "[encoded data removed]",
      "text/plain": [
       "<matplotlib.figure.Figure at 0x7f18d2c0c050>"
      ]
     },
     "metadata": {},
     "output_type": "display_data"
    }
   ],
   "source": [
    "errorbar(freqs, s140flux, serrs, fmt='.')\n",
    "yscale('log')\n",
    "xscale('log')\n",
    "grid()"
   ]
  },
  {
   "cell_type": "code",
   "execution_count": null,
   "metadata": {
    "collapsed": true
   },
   "outputs": [],
   "source": []
  },
  {
   "cell_type": "code",
   "execution_count": 8,
   "metadata": {
    "collapsed": true
   },
   "outputs": [],
   "source": [
    "beam = pi*(0.2*pi/180.)**2\n",
    "beam2 = pi*((0.16/60.)*pi/180.)**2"
   ]
  },
  {
   "cell_type": "code",
   "execution_count": 9,
   "metadata": {
    "collapsed": true
   },
   "outputs": [],
   "source": [
    "def signal(freqs, EM, Asd, nup, Ad, Bd, Acmb, As):\n",
    "    fffit = fg.freefreep(freqs, EM=EM, Te=8000.)\n",
    "    dustfit = fg.thermal_dust(freqs, Ad=Ad, Bd=Bd, Td=18.96)\n",
    "    amefit = fg.ame(freqs, Asd=Asd, nup=nup) \n",
    "    ccmb = fg.cmb(freqs, A=Acmb)\n",
    "    synch = fg.synchrotron(freqs, As=As)\n",
    "    return (fffit + dustfit + amefit + ccmb + synch) * beam"
   ]
  },
  {
   "cell_type": "code",
   "execution_count": 10,
   "metadata": {
    "collapsed": true
   },
   "outputs": [],
   "source": [
    "def signal2(freqs, EM1, EM2, Ad, Bd, abeam, Acmb, As):\n",
    "    fffit = fg.freefreep(freqs, EM=EM1, Te=8000.) * beam\n",
    "    fffit2 = fg.freefreep(freqs, EM=EM2, Te=8000.) * abeam\n",
    "    dustfit = fg.thermal_dust(freqs, Ad=Ad, Bd=Bd, Td=18.96) * beam\n",
    "    ccmb = fg.cmb(freqs, A=Acmb) * beam\n",
    "    synch = fg.synchrotron(freqs, As=As) * beam\n",
    "    return np.abs(fffit) + np.abs(fffit2) + np.abs(dustfit) + np.abs(ccmb) + np.abs(synch)"
   ]
  },
  {
   "cell_type": "code",
   "execution_count": 11,
   "metadata": {
    "collapsed": true
   },
   "outputs": [],
   "source": [
    "def signal3(freqs, EM, Ad, Bd, Acmb, As):\n",
    "    fffit = fg.freefreep(freqs, EM=EM, Te=8000.)\n",
    "    dustfit = fg.thermal_dust(freqs, Ad=Ad, Bd=Bd, Td=18.96)\n",
    "    ccmb = fg.cmb(freqs, A=Acmb)\n",
    "    synch = fg.synchrotron(freqs, As=As)\n",
    "    return (fffit + dustfit + ccmb + synch) * beam"
   ]
  },
  {
   "cell_type": "code",
   "execution_count": null,
   "metadata": {
    "collapsed": true
   },
   "outputs": [],
   "source": []
  },
  {
   "cell_type": "code",
   "execution_count": 16,
   "metadata": {
    "collapsed": false
   },
   "outputs": [],
   "source": [
    "pn = np.array([5e3, 1.e-3, 20.e9, 1., 2., 30.e-6, 1e3])\n",
    "bounds = ( [0, 0, 0, 0, 0, -1., 0], [1e4, 1., 1e11, 1., 3., 1., 1e6])\n",
    "x = curve_fit(signal, freqs, s140flux, p0=pn, sigma=serrs, absolute_sigma=True, bounds=bounds)\n",
    "pfit = x[0]"
   ]
  },
  {
   "cell_type": "code",
   "execution_count": 17,
   "metadata": {
    "collapsed": false
   },
   "outputs": [],
   "source": [
    "pn2 = np.array([5e3 , 1.e7, 0.1, 2., beam2, 30e-6, 1e3])\n",
    "bounds2 = ( [0, 1.e5, 0, 0, 0, -1., 0], [1e4, 1.e9, 1., 3., 1., 1., 1e6])\n",
    "x = curve_fit(signal2, freqs, s140flux, p0=pn2, sigma=serrs, absolute_sigma=True, bounds=bounds2)\n",
    "pfit2 = x[0]"
   ]
  },
  {
   "cell_type": "code",
   "execution_count": 18,
   "metadata": {
    "collapsed": false
   },
   "outputs": [],
   "source": [
    "pn3 = np.array([5e3, 1., 2., 30.e-6, 1e3])\n",
    "bounds3 = ( [0, 0, 0, -1., 0], [1e4, 1., 3., 1., 1e6])\n",
    "x = curve_fit(signal3, freqs, s140flux, p0=pn3, sigma=serrs, absolute_sigma=True, bounds=bounds3)\n",
    "pfit3 = x[0]"
   ]
  },
  {
   "cell_type": "code",
   "execution_count": null,
   "metadata": {
    "collapsed": true
   },
   "outputs": [],
   "source": []
  },
  {
   "cell_type": "code",
   "execution_count": 19,
   "metadata": {
    "collapsed": false
   },
   "outputs": [
    {
     "name": "stdout",
     "output_type": "stream",
     "text": [
      "0.165053327788 1.29325009939 0.923744601635\n"
     ]
    }
   ],
   "source": [
    "rchisq1 = np.sum( ( s140flux - signal(freqs, *pfit))**2 / serrs**2 ) / (len(freqs) - 7.)\n",
    "rchisq2 = np.sum( ( s140flux - signal2(freqs, *pfit2))**2 / serrs**2 ) / (len(freqs) - 7.)\n",
    "rchisq3 = np.sum( ( s140flux - signal3(freqs, *pfit3))**2 / serrs**2 ) / (len(freqs) - 5.)\n",
    "print rchisq1, rchisq2, rchisq3"
   ]
  },
  {
   "cell_type": "code",
   "execution_count": null,
   "metadata": {
    "collapsed": true
   },
   "outputs": [],
   "source": []
  },
  {
   "cell_type": "code",
   "execution_count": 20,
   "metadata": {
    "collapsed": false
   },
   "outputs": [
    {
     "name": "stdout",
     "output_type": "stream",
     "text": [
      "EM, Asd, nup, Ad, Bd, Acmb, As\n",
      "[  4.60070813e+02   1.88889769e-03   3.23075308e+10   6.08829779e-03\n",
      "   1.77217290e+00   1.53562008e-04   1.06913623e+03]\n"
     ]
    }
   ],
   "source": [
    "print \"EM, Asd, nup, Ad, Bd, Acmb, As\"\n",
    "print pfit"
   ]
  },
  {
   "cell_type": "code",
   "execution_count": 21,
   "metadata": {
    "collapsed": false
   },
   "outputs": [
    {
     "name": "stdout",
     "output_type": "stream",
     "text": [
      "EM1, EM2, Ad, Bd, abeam, Acmb, As\n",
      "[  5.31585742e+02   6.23129536e+05   6.04823201e-03   1.88389994e+00\n",
      "   2.37069230e-14   3.75548563e-04   8.67290849e+02]\n"
     ]
    }
   ],
   "source": [
    "print \"EM1, EM2, Ad, Bd, abeam, Acmb, As\"\n",
    "print pfit2"
   ]
  },
  {
   "cell_type": "code",
   "execution_count": 22,
   "metadata": {
    "collapsed": false
   },
   "outputs": [
    {
     "name": "stdout",
     "output_type": "stream",
     "text": [
      "EM, Ad, Bd, Acmb, As\n",
      "[  5.31363745e+02   6.04820206e-03   1.88396344e+00   3.75735170e-04\n",
      "   8.67812470e+02]\n"
     ]
    }
   ],
   "source": [
    "print \"EM, Ad, Bd, Acmb, As\"\n",
    "print pfit3"
   ]
  },
  {
   "cell_type": "code",
   "execution_count": null,
   "metadata": {
    "collapsed": true
   },
   "outputs": [],
   "source": []
  },
  {
   "cell_type": "code",
   "execution_count": 23,
   "metadata": {
    "collapsed": true
   },
   "outputs": [],
   "source": [
    "nu = np.linspace(freqs[0], freqs[-1], 1000)"
   ]
  },
  {
   "cell_type": "code",
   "execution_count": 26,
   "metadata": {
    "collapsed": false
   },
   "outputs": [
    {
     "data": {
      "text/plain": [
       "<matplotlib.text.Text at 0x7f1930f4a510>"
      ]
     },
     "execution_count": 26,
     "metadata": {},
     "output_type": "execute_result"
    },
    {
     "data": {
      "image/png": "[encoded data removed]",
      "text/plain": [
       "<matplotlib.figure.Figure at 0x7f1930d60750>"
      ]
     },
     "metadata": {},
     "output_type": "display_data"
    }
   ],
   "source": [
    "figure(figsize=(16,10))\n",
    "plot(nu*1e-9, signal(nu, *pfit), label='$\\mathrm{Spinning\\ Dust}$')\n",
    "plot(nu*1e-9, signal2(nu, *pfit2), label='$\\mathrm{UCHII\\ Region}$')\n",
    "plot(nu*1e-9, signal3(nu, *pfit3), label='$\\mathrm{Baseline}$')\n",
    "errorbar(freqs*1e-9, s140flux, yerr=serrs, fmt='ko',label='$\\mathrm{CGPS,\\ GBT,\\ and\\ Planck\\ data}$')\n",
    "\n",
    "xscale('log')\n",
    "yscale('log')\n",
    "xlabel('$\\mathrm{Frequency}\\ (GHz)$')\n",
    "ylabel('$\\mathrm{Flux}\\ (Jy)$')\n",
    "legend(loc=2, ncol=1)\n",
    "grid()\n",
    "#ylim(1e-1, 1e5)\n",
    "grid(which='minor')\n",
    "title('$\\mathrm{S140\\ Flux\\ Spectrum}$')\n",
    "#savefig('../notebooks/fullspectrum_withspinningdust')"
   ]
  },
  {
   "cell_type": "code",
   "execution_count": null,
   "metadata": {
    "collapsed": true
   },
   "outputs": [],
   "source": []
  }
 ],
 "metadata": {
  "kernelspec": {
   "display_name": "Python 2",
   "language": "python",
   "name": "python2"
  },
  "language_info": {
   "codemirror_mode": {
    "name": "ipython",
    "version": 2
   },
   "file_extension": ".py",
   "mimetype": "text/x-python",
   "name": "python",
   "nbconvert_exporter": "python",
   "pygments_lexer": "ipython2",
   "version": "2.7.13"
  }
 },
 "nbformat": 4,
 "nbformat_minor": 0
}
