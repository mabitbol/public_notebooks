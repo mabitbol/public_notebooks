{
 "cells": [
  {
   "cell_type": "code",
   "execution_count": 1,
   "metadata": {
    "collapsed": false
   },
   "outputs": [
    {
     "name": "stdout",
     "output_type": "stream",
     "text": [
      "Populating the interactive namespace from numpy and matplotlib\n"
     ]
    }
   ],
   "source": [
    "%pylab inline"
   ]
  },
  {
   "cell_type": "code",
   "execution_count": 2,
   "metadata": {
    "collapsed": false
   },
   "outputs": [
    {
     "name": "stdout",
     "output_type": "stream",
     "text": [
      "/home/mabitbol/foregrounds/gbt\n"
     ]
    }
   ],
   "source": [
    "cd ~/foregrounds/gbt/"
   ]
  },
  {
   "cell_type": "code",
   "execution_count": 3,
   "metadata": {
    "collapsed": true
   },
   "outputs": [],
   "source": [
    "import foregrounds as fg\n",
    "from scipy.optimize import curve_fit"
   ]
  },
  {
   "cell_type": "code",
   "execution_count": 4,
   "metadata": {
    "collapsed": true
   },
   "outputs": [],
   "source": [
    "fdg = np.fromfile('/home/mabitbol/notebooks/aether_notebooks/images/g107.dat', sep='\\t')"
   ]
  },
  {
   "cell_type": "code",
   "execution_count": 5,
   "metadata": {
    "collapsed": true
   },
   "outputs": [],
   "source": [
    "cfs = fdg[::6]\n",
    "cjys = fdg[1::6]\n",
    "cerrs = fdg[2::6]\n",
    "cfit = fdg[3::6]\n",
    "crem = fdg[4::6]\n",
    "cremerr = fdg[5::6]"
   ]
  },
  {
   "cell_type": "code",
   "execution_count": 6,
   "metadata": {
    "collapsed": true
   },
   "outputs": [],
   "source": [
    "freqs = np.logspace(8, 13, 2000)\n",
    "nu = freqs*1.e-9\n",
    "gfs = np.linspace(4.5, 7.5, 4)*1.e9\n",
    "gfs = np.concatenate([gfs, np.linspace(12.5, 17.5, 6)*1.e9])"
   ]
  },
  {
   "cell_type": "code",
   "execution_count": 7,
   "metadata": {
    "collapsed": true
   },
   "outputs": [],
   "source": [
    "beam = pi*(1.*pi/180.)**2\n",
    "beam2 = pi*((0.16/60.)*pi/180.)**2"
   ]
  },
  {
   "cell_type": "code",
   "execution_count": 8,
   "metadata": {
    "collapsed": true
   },
   "outputs": [],
   "source": [
    "def freefreep(freqs, EM=100., Te=8000.):\n",
    "    nu = freqs*1.e-9\n",
    "    gff = np.log(4.955e-2 / nu) + 1.5 * np.log(Te)\n",
    "    tff = 3.014e-2 * (Te**-1.5) * (nu**-2) * EM * gff\n",
    "    return Te * (1. - np.exp(-tff))"
   ]
  },
  {
   "cell_type": "code",
   "execution_count": 9,
   "metadata": {
    "collapsed": true
   },
   "outputs": [],
   "source": [
    "def signal(freqs, EM, Ad, Bd, Asd, nup, A):\n",
    "    fffit = freefreep(freqs, EM=EM, Te=8000.)\n",
    "    fffit = fg.krj_to_radiance(freqs, fffit)*1.e26*beam\n",
    "    dustfit = fg.thermal_dust(freqs, Ad=Ad, Bd=Bd, Td=18.96)\n",
    "    dustfit = fg.krj_to_radiance(freqs, dustfit)*1.e26*beam\n",
    "    amefit = fg.ame(freqs, Asd=Asd, nup=nup, nu0=22.8e9)\n",
    "    amefit = fg.krj_to_radiance(freqs, amefit)*1.e26*beam\n",
    "    ccmb = fg.cmb(freqs, A=A)\n",
    "    ccmb = fg.krj_to_radiance(freqs, ccmb)*1.e26*beam\n",
    "    total = fffit + dustfit + amefit + ccmb\n",
    "    return total"
   ]
  },
  {
   "cell_type": "code",
   "execution_count": 10,
   "metadata": {
    "collapsed": true
   },
   "outputs": [],
   "source": [
    "def signalame(freqs, EM, Ad, Bd, Asd, nup, A):\n",
    "    fffit = freefreep(freqs, EM=EM, Te=8000.)\n",
    "    fffit = fg.krj_to_radiance(freqs, fffit)*1.e26*beam\n",
    "    dustfit = fg.thermal_dust(freqs, Ad=Ad, Bd=Bd, Td=18.96)\n",
    "    dustfit = fg.krj_to_radiance(freqs, dustfit)*1.e26*beam\n",
    "    amefit = fg.ame(freqs, Asd=Asd, nup=nup, nu0=22.8e9)\n",
    "    amefit = fg.krj_to_radiance(freqs, amefit)*1.e26*beam\n",
    "    ccmb = fg.cmb(freqs, A=A)\n",
    "    ccmb = fg.krj_to_radiance(freqs, ccmb)*1.e26*beam\n",
    "    total = fffit + dustfit + amefit + ccmb\n",
    "    return total, amefit, fffit"
   ]
  },
  {
   "cell_type": "code",
   "execution_count": 11,
   "metadata": {
    "collapsed": true
   },
   "outputs": [],
   "source": [
    "def signal2(freqs, EM1, EM2, Ad, Bd):\n",
    "    fffit = freefreep(freqs, EM=EM1, Te=8000.)\n",
    "    fffit = fg.krj_to_radiance(freqs, fffit)*1.e26*beam\n",
    "    fffit2 = freefreep(freqs, EM=EM2, Te=8000.)\n",
    "    fffit2 = fg.krj_to_radiance(freqs, fffit2)*1.e26*beam2\n",
    "    dustfit = fg.thermal_dust(freqs, Ad=Ad, Bd=Bd, Td=18.96)\n",
    "    dustfit = fg.krj_to_radiance(freqs, dustfit)*1.e26*beam\n",
    "    return fffit + fffit2 + dustfit"
   ]
  },
  {
   "cell_type": "code",
   "execution_count": 12,
   "metadata": {
    "collapsed": true
   },
   "outputs": [],
   "source": [
    "def signal2ff(freqs, EM1, EM2, Ad, Bd):\n",
    "    fffit = freefreep(freqs, EM=EM1, Te=8000.)\n",
    "    fffit = fg.krj_to_radiance(freqs, fffit)*1.e26*beam\n",
    "    fffit2 = freefreep(freqs, EM=EM2, Te=8000.)\n",
    "    fffit2 = fg.krj_to_radiance(freqs, fffit2)*1.e26*beam2\n",
    "    dustfit = fg.thermal_dust(freqs, Ad=Ad, Bd=Bd, Td=18.96)\n",
    "    dustfit = fg.krj_to_radiance(freqs, dustfit)*1.e26*beam\n",
    "    return fffit + fffit2 + dustfit, fffit, fffit2"
   ]
  },
  {
   "cell_type": "code",
   "execution_count": 13,
   "metadata": {
    "collapsed": false
   },
   "outputs": [],
   "source": [
    "pn = np.array([200., 80.e-5, 2., 1.e-3, 20.e9, 30.e-6])\n",
    "x = curve_fit(signal, cfs*1.e9, cjys, p0=pn, sigma=cerrs, absolute_sigma=True)\n",
    "pfit = x[0]\n",
    "sig, amefit, ff_fit0 = signalame(freqs, *pfit)"
   ]
  },
  {
   "cell_type": "code",
   "execution_count": 14,
   "metadata": {
    "collapsed": true
   },
   "outputs": [],
   "source": [
    "pn2 = np.array([145. , 1.e7, 50.e-5, 2.])\n",
    "y = curve_fit(signal2, cfs*1.e9, cjys, p0=pn2, sigma=cerrs, absolute_sigma=True)\n",
    "pfit2 = y[0]\n",
    "sig2, ff_fit, ff_fit2 = signal2ff(freqs, *pfit2)"
   ]
  },
  {
   "cell_type": "code",
   "execution_count": 15,
   "metadata": {
    "collapsed": false
   },
   "outputs": [
    {
     "data": {
      "text/plain": [
       "array([  1.91797206e+02,   6.05964463e-04,   2.26293386e+00,\n",
       "         1.20243161e-03,   2.97316176e+10,   1.14531859e-04])"
      ]
     },
     "execution_count": 15,
     "metadata": {},
     "output_type": "execute_result"
    }
   ],
   "source": [
    "pfit"
   ]
  },
  {
   "cell_type": "code",
   "execution_count": 16,
   "metadata": {
    "collapsed": false
   },
   "outputs": [
    {
     "data": {
      "text/plain": [
       "array([  1.74405977e+02,   4.58267176e+07,   6.57312914e-04,\n",
       "         2.20404324e+00])"
      ]
     },
     "execution_count": 16,
     "metadata": {},
     "output_type": "execute_result"
    }
   ],
   "source": [
    "pfit2"
   ]
  },
  {
   "cell_type": "code",
   "execution_count": 17,
   "metadata": {
    "collapsed": false
   },
   "outputs": [
    {
     "data": {
      "text/plain": [
       "array([  1.00000000e-01,   1.00577596e-01,   1.01158528e-01, ...,\n",
       "         9.88547401e+03,   9.94257211e+03,   1.00000000e+04])"
      ]
     },
     "execution_count": 17,
     "metadata": {},
     "output_type": "execute_result"
    }
   ],
   "source": [
    "nu"
   ]
  },
  {
   "cell_type": "code",
   "execution_count": 15,
   "metadata": {
    "collapsed": true
   },
   "outputs": [],
   "source": [
    "gf2 = gfs*1.e-9\n",
    "sprd = 0.01\n",
    "off = 0.1"
   ]
  },
  {
   "cell_type": "code",
   "execution_count": 16,
   "metadata": {
    "collapsed": true
   },
   "outputs": [],
   "source": [
    "gdata1 = signal(gfs, *pfit)\n",
    "gerrs1 = sprd * gdata1\n",
    "offset1 = off * gdata1\n",
    "spread = np.zeros(len(gfs))\n",
    "for k in range(len(gfs)):\n",
    "    spread[k] = np.random.normal(scale=gerrs1[k])\n",
    "gdata1 += spread"
   ]
  },
  {
   "cell_type": "code",
   "execution_count": 17,
   "metadata": {
    "collapsed": true
   },
   "outputs": [],
   "source": [
    "gdata2 = signal2(gfs, *pfit2)\n",
    "gerrs2 = sprd * gdata2\n",
    "offset2 = off * gdata2\n",
    "spread2 = np.zeros(len(gfs))\n",
    "for k in range(len(gfs)):\n",
    "    spread2[k] = np.random.normal(scale=gerrs2[k])\n",
    "gdata2 += spread2"
   ]
  },
  {
   "cell_type": "code",
   "execution_count": 18,
   "metadata": {
    "collapsed": false
   },
   "outputs": [
    {
     "data": {
      "image/png": "[encoded data removed]",
      "text/plain": [
       "<matplotlib.figure.Figure at 0x7f53d0dcac10>"
      ]
     },
     "metadata": {},
     "output_type": "display_data"
    }
   ],
   "source": [
    "figure(figsize=(16,10))\n",
    "plot(nu, sig, 'b', label='Spinning Dust Model')\n",
    "plot(nu, sig2, 'g', label='UCHII Region Model')\n",
    "#plot(nu, amefit, color='grey', alpha=1., linestyle='dotted', label='Spinning Dust')\n",
    "#plot(nu, ff_fit0, 'b--', label='Free-free SD')\n",
    "#fill_between(nu, ff_fit, ff_fit0, alpha=0.2, color='grey', label='Diffuse free-free')\n",
    "#plot(nu, ff_fit, 'r--', label='Free-free')\n",
    "#plot(nu, ff_fit2, color='grey', alpha=1., linestyle='dashed', label='Free-free UCHII region')\n",
    "errorbar(cfs, cjys, yerr=cerrs, fmt='ko', label='Planck and ancillary data')\n",
    "#errorbar(gf2, gdata1, yerr=gerrs1, fmt='b.', label='Simulated GBT data: spinning dust')\n",
    "#errorbar(gf2, gdata1, yerr=offset1, fmt='b,', capsize=0, label='Calibration uncertainty')\n",
    "#errorbar(gf2, gdata2, yerr=gerrs2, fmt='g.', label='Simulated GBT data: UCHII region')\n",
    "#errorbar(gf2, gdata2, yerr=offset2, fmt='g,', capsize=0, label='Calibration uncertainty')\n",
    "axvspan(4., 8., alpha=0.1)\n",
    "axvspan(12., 18., alpha=0.1, label='Proposed Observing Bands')\n",
    "xscale('log')\n",
    "ylim([0, 90])\n",
    "xlim([1, 100])\n",
    "xlabel('Frequency [GHz]')\n",
    "ylabel('Flux [Jy]')\n",
    "legend(loc=2, ncol=2, fontsize=20)\n",
    "grid()\n",
    "grid(which='minor')"
   ]
  },
  {
   "cell_type": "code",
   "execution_count": null,
   "metadata": {
    "collapsed": true
   },
   "outputs": [],
   "source": []
  }
 ],
 "metadata": {
  "kernelspec": {
   "display_name": "Python 2",
   "language": "python",
   "name": "python2"
  },
  "language_info": {
   "codemirror_mode": {
    "name": "ipython",
    "version": 2
   },
   "file_extension": ".py",
   "mimetype": "text/x-python",
   "name": "python",
   "nbconvert_exporter": "python",
   "pygments_lexer": "ipython2",
   "version": "2.7.13"
  }
 },
 "nbformat": 4,
 "nbformat_minor": 0
}
