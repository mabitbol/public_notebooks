{
 "cells": [
  {
   "cell_type": "code",
   "execution_count": 1,
   "metadata": {
    "collapsed": false
   },
   "outputs": [
    {
     "name": "stdout",
     "output_type": "stream",
     "text": [
      "Populating the interactive namespace from numpy and matplotlib\n"
     ]
    }
   ],
   "source": [
    "%pylab inline"
   ]
  },
  {
   "cell_type": "code",
   "execution_count": 2,
   "metadata": {
    "collapsed": true
   },
   "outputs": [],
   "source": [
    "import glob"
   ]
  },
  {
   "cell_type": "code",
   "execution_count": 3,
   "metadata": {
    "collapsed": true
   },
   "outputs": [],
   "source": [
    "fdir = '/data2/GBT/'"
   ]
  },
  {
   "cell_type": "code",
   "execution_count": 4,
   "metadata": {
    "collapsed": true
   },
   "outputs": [],
   "source": [
    "def S295(freqs):\n",
    "    a0 = 1.4866 \n",
    "    a1 = -0.7871\n",
    "    a2 = -0.3440\n",
    "    a3 = 0.0749\n",
    "    f = freqs * 1.e-9\n",
    "    logf = np.log10(f)\n",
    "    logS = a0 + a1*logf + a2*logf**2 + a3*logf**3\n",
    "    return 10.**(logS)"
   ]
  },
  {
   "cell_type": "code",
   "execution_count": 5,
   "metadata": {
    "collapsed": false
   },
   "outputs": [],
   "source": [
    "def get_calib(k=0):\n",
    "    x = np.load(f295[k])\n",
    "    if x['source'] == 'ON':\n",
    "        mask1 = x['valid']\n",
    "        onSoffD = x['xxoff']\n",
    "        onSonD = x['xxon']\n",
    "        freqs = x['freqs']\n",
    "    else:\n",
    "        print 'bad'\n",
    "\n",
    "    x = np.load(f295[k+1])\n",
    "    if x['source'] == 'OFF':\n",
    "        mask2 = x['valid']\n",
    "        offSoffD = x['xxoff']\n",
    "        offSonD = x['xxon']\n",
    "        offSfreqs = x['freqs']\n",
    "    else:\n",
    "        print 'bad'\n",
    "\n",
    "    Psource = S295(freqs)\n",
    "    gain = np.nanmean(onSoffD - offSoffD, 0) / Psource\n",
    "    Pdiode = np.nanmean(offSonD - offSoffD, 0) / gain\n",
    "    return freqs, Pdiode"
   ]
  },
  {
   "cell_type": "code",
   "execution_count": 6,
   "metadata": {
    "collapsed": true
   },
   "outputs": [],
   "source": [
    "banks = ['A', 'B', 'C', 'D']"
   ]
  },
  {
   "cell_type": "code",
   "execution_count": 7,
   "metadata": {
    "collapsed": false
   },
   "outputs": [
    {
     "data": {
      "text/plain": [
       "['/data2/GBT/3C295/OnOff/scan_01_007.raw.vegas/scan_01_007.raw.vegas.A.fits.rfireduced_new.npz',\n",
       " '/data2/GBT/3C295/OnOff/scan_01_008.raw.vegas/scan_01_008.raw.vegas.A.fits.rfireduced_new.npz',\n",
       " '/data2/GBT/3C295/OnOff/scan_01_039.raw.vegas/scan_01_039.raw.vegas.A.fits.rfireduced_new.npz',\n",
       " '/data2/GBT/3C295/OnOff/scan_01_040.raw.vegas/scan_01_040.raw.vegas.A.fits.rfireduced_new.npz']"
      ]
     },
     "execution_count": 7,
     "metadata": {},
     "output_type": "execute_result"
    }
   ],
   "source": [
    "bank = 'A'\n",
    "session = '01'\n",
    "f295 = glob.glob(fdir+'3C295/*/*/*_'+session+'_*'+bank+'*rfireduced_new.npz')\n",
    "f295.sort()\n",
    "f295"
   ]
  },
  {
   "cell_type": "code",
   "execution_count": 8,
   "metadata": {
    "collapsed": false
   },
   "outputs": [
    {
     "name": "stderr",
     "output_type": "stream",
     "text": [
      "/usr/lib/python2.7/site-packages/ipykernel/__main__.py:21: RuntimeWarning: Mean of empty slice\n",
      "/usr/lib/python2.7/site-packages/ipykernel/__main__.py:22: RuntimeWarning: Mean of empty slice\n"
     ]
    }
   ],
   "source": [
    "freqs, pdiode = get_calib()\n",
    "freqs1, pdiode1 = get_calib(2)\n",
    "z = {'freqs':freqs, 'pdiode':pdiode, 'freqs1':freqs1, 'pdiode1':pdiode1}\n",
    "#np.save('/home/mabitbol/GBT-S140/calibrations/calibration_3C295_'+session+'_'+bank+'.npy', z)"
   ]
  },
  {
   "cell_type": "code",
   "execution_count": 9,
   "metadata": {
    "collapsed": false
   },
   "outputs": [
    {
     "name": "stderr",
     "output_type": "stream",
     "text": [
      "/usr/lib/python2.7/site-packages/ipykernel/__main__.py:21: RuntimeWarning: Mean of empty slice\n",
      "/usr/lib/python2.7/site-packages/ipykernel/__main__.py:22: RuntimeWarning: Mean of empty slice\n"
     ]
    },
    {
     "ename": "IndexError",
     "evalue": "list index out of range",
     "output_type": "error",
     "traceback": [
      "\u001b[0;31m---------------------------------------------------------------------------\u001b[0m",
      "\u001b[0;31mIndexError\u001b[0m                                Traceback (most recent call last)",
      "\u001b[0;32m<ipython-input-9-a26f762baaf0>\u001b[0m in \u001b[0;36m<module>\u001b[0;34m()\u001b[0m\n\u001b[1;32m      1\u001b[0m \u001b[0mfreqs\u001b[0m\u001b[0;34m,\u001b[0m \u001b[0mpdiode\u001b[0m \u001b[0;34m=\u001b[0m \u001b[0mget_calib\u001b[0m\u001b[0;34m(\u001b[0m\u001b[0;34m)\u001b[0m\u001b[0;34m\u001b[0m\u001b[0m\n\u001b[1;32m      2\u001b[0m \u001b[0mfreqs1\u001b[0m\u001b[0;34m,\u001b[0m \u001b[0mpdiode1\u001b[0m \u001b[0;34m=\u001b[0m \u001b[0mget_calib\u001b[0m\u001b[0;34m(\u001b[0m\u001b[0;36m2\u001b[0m\u001b[0;34m)\u001b[0m\u001b[0;34m\u001b[0m\u001b[0m\n\u001b[0;32m----> 3\u001b[0;31m \u001b[0mfreqs2\u001b[0m\u001b[0;34m,\u001b[0m \u001b[0mpdiode2\u001b[0m \u001b[0;34m=\u001b[0m \u001b[0mget_calib\u001b[0m\u001b[0;34m(\u001b[0m\u001b[0;36m4\u001b[0m\u001b[0;34m)\u001b[0m\u001b[0;34m\u001b[0m\u001b[0m\n\u001b[0m\u001b[1;32m      4\u001b[0m \u001b[0mz\u001b[0m \u001b[0;34m=\u001b[0m \u001b[0;34m{\u001b[0m\u001b[0;34m'freqs'\u001b[0m\u001b[0;34m:\u001b[0m\u001b[0mfreqs\u001b[0m\u001b[0;34m,\u001b[0m \u001b[0;34m'pdiode'\u001b[0m\u001b[0;34m:\u001b[0m\u001b[0mpdiode\u001b[0m\u001b[0;34m,\u001b[0m \u001b[0;34m'freqs1'\u001b[0m\u001b[0;34m:\u001b[0m\u001b[0mfreqs1\u001b[0m\u001b[0;34m,\u001b[0m \u001b[0;34m'pdiode1'\u001b[0m\u001b[0;34m:\u001b[0m\u001b[0mpdiode1\u001b[0m\u001b[0;34m,\u001b[0m \u001b[0;34m'freqs2'\u001b[0m\u001b[0;34m:\u001b[0m\u001b[0mfreqs2\u001b[0m\u001b[0;34m,\u001b[0m \u001b[0;34m'pdiode2'\u001b[0m\u001b[0;34m:\u001b[0m\u001b[0mpdiode2\u001b[0m\u001b[0;34m}\u001b[0m\u001b[0;34m\u001b[0m\u001b[0m\n\u001b[1;32m      5\u001b[0m \u001b[0;31m#np.save('/home/mabitbol/GBT-S140/calibrations/calibration_3C295_04_'+bank+'.npy', z)\u001b[0m\u001b[0;34m\u001b[0m\u001b[0;34m\u001b[0m\u001b[0m\n",
      "\u001b[0;32m<ipython-input-5-f32d3e600f0b>\u001b[0m in \u001b[0;36mget_calib\u001b[0;34m(k)\u001b[0m\n\u001b[1;32m      1\u001b[0m \u001b[0;32mdef\u001b[0m \u001b[0mget_calib\u001b[0m\u001b[0;34m(\u001b[0m\u001b[0mk\u001b[0m\u001b[0;34m=\u001b[0m\u001b[0;36m0\u001b[0m\u001b[0;34m)\u001b[0m\u001b[0;34m:\u001b[0m\u001b[0;34m\u001b[0m\u001b[0m\n\u001b[0;32m----> 2\u001b[0;31m     \u001b[0mx\u001b[0m \u001b[0;34m=\u001b[0m \u001b[0mnp\u001b[0m\u001b[0;34m.\u001b[0m\u001b[0mload\u001b[0m\u001b[0;34m(\u001b[0m\u001b[0mf295\u001b[0m\u001b[0;34m[\u001b[0m\u001b[0mk\u001b[0m\u001b[0;34m]\u001b[0m\u001b[0;34m)\u001b[0m\u001b[0;34m\u001b[0m\u001b[0m\n\u001b[0m\u001b[1;32m      3\u001b[0m     \u001b[0;32mif\u001b[0m \u001b[0mx\u001b[0m\u001b[0;34m[\u001b[0m\u001b[0;34m'source'\u001b[0m\u001b[0;34m]\u001b[0m \u001b[0;34m==\u001b[0m \u001b[0;34m'ON'\u001b[0m\u001b[0;34m:\u001b[0m\u001b[0;34m\u001b[0m\u001b[0m\n\u001b[1;32m      4\u001b[0m         \u001b[0mmask1\u001b[0m \u001b[0;34m=\u001b[0m \u001b[0mx\u001b[0m\u001b[0;34m[\u001b[0m\u001b[0;34m'valid'\u001b[0m\u001b[0;34m]\u001b[0m\u001b[0;34m\u001b[0m\u001b[0m\n\u001b[1;32m      5\u001b[0m         \u001b[0monSoffD\u001b[0m \u001b[0;34m=\u001b[0m \u001b[0mx\u001b[0m\u001b[0;34m[\u001b[0m\u001b[0;34m'xxoff'\u001b[0m\u001b[0;34m]\u001b[0m\u001b[0;34m\u001b[0m\u001b[0m\n",
      "\u001b[0;31mIndexError\u001b[0m: list index out of range"
     ]
    }
   ],
   "source": [
    "freqs, pdiode = get_calib()\n",
    "freqs1, pdiode1 = get_calib(2)\n",
    "freqs2, pdiode2 = get_calib(4)\n",
    "z = {'freqs':freqs, 'pdiode':pdiode, 'freqs1':freqs1, 'pdiode1':pdiode1, 'freqs2':freqs2, 'pdiode2':pdiode2}\n",
    "#np.save('/home/mabitbol/GBT-S140/calibrations/calibration_3C295_04_'+bank+'.npy', z)"
   ]
  },
  {
   "cell_type": "code",
   "execution_count": 10,
   "metadata": {
    "collapsed": false
   },
   "outputs": [
    {
     "data": {
      "text/plain": [
       "[<matplotlib.lines.Line2D at 0x7fde78142150>]"
      ]
     },
     "execution_count": 10,
     "metadata": {},
     "output_type": "execute_result"
    },
    {
     "data": {
      "image/png": "[encoded data removed]",
      "text/plain": [
       "<matplotlib.figure.Figure at 0x7fde78142290>"
      ]
     },
     "metadata": {},
     "output_type": "display_data"
    }
   ],
   "source": [
    "plot(freqs, pdiode)\n",
    "plot(freqs1, pdiode1)\n",
    "#plot(freqs2, pdiode2)"
   ]
  },
  {
   "cell_type": "code",
   "execution_count": null,
   "metadata": {
    "collapsed": true
   },
   "outputs": [],
   "source": []
  },
  {
   "cell_type": "code",
   "execution_count": 11,
   "metadata": {
    "collapsed": false
   },
   "outputs": [
    {
     "name": "stderr",
     "output_type": "stream",
     "text": [
      "/usr/lib/python2.7/site-packages/ipykernel/__main__.py:21: RuntimeWarning: Mean of empty slice\n",
      "/usr/lib/python2.7/site-packages/ipykernel/__main__.py:22: RuntimeWarning: Mean of empty slice\n"
     ]
    }
   ],
   "source": [
    "session = '01'\n",
    "for bank in banks:\n",
    "    f295 = glob.glob(fdir+'3C295/*/*/*_'+session+'_*'+bank+'*rfireduced_new.npz')\n",
    "    f295.sort()\n",
    "    freqs, pdiode = get_calib()\n",
    "    freqs1, pdiode1 = get_calib(2)\n",
    "    meanp = pdiode1\n",
    "    z = {'freqs':freqs, 'pdiode':pdiode, 'freqs1':freqs1, 'pdiode1':pdiode1}\n",
    "    np.save('/home/mabitbol/GBT-S140/calibrations/calibration_3C295_'+session+'_'+bank+'.npy', z)"
   ]
  },
  {
   "cell_type": "code",
   "execution_count": 12,
   "metadata": {
    "collapsed": false
   },
   "outputs": [
    {
     "name": "stderr",
     "output_type": "stream",
     "text": [
      "/usr/lib/python2.7/site-packages/ipykernel/__main__.py:21: RuntimeWarning: Mean of empty slice\n",
      "/usr/lib/python2.7/site-packages/ipykernel/__main__.py:22: RuntimeWarning: Mean of empty slice\n"
     ]
    }
   ],
   "source": [
    "session = '02'\n",
    "for bank in banks:\n",
    "    f295 = glob.glob(fdir+'3C295/*/*/*_'+session+'_*'+bank+'*rfireduced_new.npz')\n",
    "    f295.sort()\n",
    "    freqs, pdiode = get_calib()\n",
    "    z = {'freqs':freqs, 'pdiode':pdiode}\n",
    "    np.save('/home/mabitbol/GBT-S140/calibrations/calibration_3C295_'+session+'_'+bank+'.npy', z)"
   ]
  },
  {
   "cell_type": "code",
   "execution_count": 13,
   "metadata": {
    "collapsed": false
   },
   "outputs": [
    {
     "name": "stderr",
     "output_type": "stream",
     "text": [
      "/usr/lib/python2.7/site-packages/ipykernel/__main__.py:21: RuntimeWarning: Mean of empty slice\n",
      "/usr/lib/python2.7/site-packages/ipykernel/__main__.py:22: RuntimeWarning: Mean of empty slice\n"
     ]
    }
   ],
   "source": [
    "session = '03'\n",
    "for bank in banks:\n",
    "    f295 = glob.glob(fdir+'3C295/*/*/*_'+session+'_*'+bank+'*rfireduced_new.npz')\n",
    "    f295.sort()\n",
    "    freqs, pdiode = get_calib()\n",
    "    z = {'freqs':freqs, 'pdiode':pdiode}\n",
    "    np.save('/home/mabitbol/GBT-S140/calibrations/calibration_3C295_'+session+'_'+bank+'.npy', z)"
   ]
  },
  {
   "cell_type": "code",
   "execution_count": 14,
   "metadata": {
    "collapsed": false
   },
   "outputs": [
    {
     "name": "stderr",
     "output_type": "stream",
     "text": [
      "/usr/lib/python2.7/site-packages/ipykernel/__main__.py:21: RuntimeWarning: Mean of empty slice\n",
      "/usr/lib/python2.7/site-packages/ipykernel/__main__.py:22: RuntimeWarning: Mean of empty slice\n"
     ]
    }
   ],
   "source": [
    "session = '04'\n",
    "for bank in banks:\n",
    "    f295 = glob.glob(fdir+'3C295/*/*/*_'+session+'_*'+bank+'*rfireduced_new.npz')\n",
    "    f295.sort()\n",
    "    freqs, pdiode = get_calib()\n",
    "    freqs1, pdiode1 = get_calib(2)\n",
    "    freqs2, pdiode2 = get_calib(4)\n",
    "    z = {'freqs':freqs, 'pdiode':pdiode, 'freqs1':freqs1, 'pdiode1':pdiode1, 'freqs2':freqs2, 'pdiode2':pdiode2}\n",
    "    np.save('/home/mabitbol/GBT-S140/calibrations/calibration_3C295_'+session+'_'+bank+'.npy', z)"
   ]
  },
  {
   "cell_type": "code",
   "execution_count": 15,
   "metadata": {
    "collapsed": false
   },
   "outputs": [
    {
     "name": "stderr",
     "output_type": "stream",
     "text": [
      "/usr/lib/python2.7/site-packages/ipykernel/__main__.py:21: RuntimeWarning: Mean of empty slice\n",
      "/usr/lib/python2.7/site-packages/ipykernel/__main__.py:22: RuntimeWarning: Mean of empty slice\n"
     ]
    }
   ],
   "source": [
    "session = '05'\n",
    "for bank in banks:\n",
    "    f295 = glob.glob(fdir+'3C295/*/*/*_'+session+'_*'+bank+'*rfireduced_new.npz')\n",
    "    f295.sort()\n",
    "    freqs, pdiode = get_calib()\n",
    "    freqs1, pdiode1 = get_calib(2)\n",
    "    z = {'freqs':freqs, 'pdiode':pdiode, 'freqs1':freqs1, 'pdiode1':pdiode1}\n",
    "    np.save('/home/mabitbol/GBT-S140/calibrations/calibration_3C295_'+session+'_'+bank+'.npy', z)"
   ]
  },
  {
   "cell_type": "code",
   "execution_count": null,
   "metadata": {
    "collapsed": true
   },
   "outputs": [],
   "source": []
  },
  {
   "cell_type": "code",
   "execution_count": 28,
   "metadata": {
    "collapsed": true
   },
   "outputs": [],
   "source": [
    "#y = np.load('/home/mabitbol/GBT-S140/calibrations/calibration_3C295_05_A.npy').item()"
   ]
  }
 ],
 "metadata": {
  "kernelspec": {
   "display_name": "Python 2",
   "language": "python",
   "name": "python2"
  },
  "language_info": {
   "codemirror_mode": {
    "name": "ipython",
    "version": 2
   },
   "file_extension": ".py",
   "mimetype": "text/x-python",
   "name": "python",
   "nbconvert_exporter": "python",
   "pygments_lexer": "ipython2",
   "version": "2.7.13"
  }
 },
 "nbformat": 4,
 "nbformat_minor": 2
}
