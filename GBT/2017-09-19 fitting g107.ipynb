{
 "cells": [
  {
   "cell_type": "code",
   "execution_count": 1,
   "metadata": {
    "collapsed": false
   },
   "outputs": [
    {
     "name": "stdout",
     "output_type": "stream",
     "text": [
      "Populating the interactive namespace from numpy and matplotlib\n"
     ]
    }
   ],
   "source": [
    "%pylab inline"
   ]
  },
  {
   "cell_type": "code",
   "execution_count": 2,
   "metadata": {
    "collapsed": false
   },
   "outputs": [
    {
     "name": "stdout",
     "output_type": "stream",
     "text": [
      "/home/mabitbol/GBT-S140/analysis\n"
     ]
    }
   ],
   "source": [
    "cd /home/mabitbol/GBT-S140/analysis/"
   ]
  },
  {
   "cell_type": "code",
   "execution_count": 3,
   "metadata": {
    "collapsed": false
   },
   "outputs": [],
   "source": [
    "import foregrounds as fg\n",
    "from scipy.optimize import curve_fit\n",
    "import emcee\n",
    "import corner"
   ]
  },
  {
   "cell_type": "code",
   "execution_count": 4,
   "metadata": {
    "collapsed": true
   },
   "outputs": [],
   "source": [
    "from __future__ import unicode_literals\n",
    "\n",
    "figsize(10,8)\n",
    "\n",
    "matplotlib.rcParams['text.usetex'] = True\n",
    "matplotlib.rcParams['text.latex.unicode'] = True\n",
    "    \n",
    "rcParams['xtick.labelsize'] = 20\n",
    "rcParams['xtick.major.size'] = 10\n",
    "rcParams['xtick.major.width'] = 1\n",
    "rcParams['xtick.major.pad'] = 10\n",
    "rcParams['xtick.minor.size'] = 5\n",
    "rcParams['xtick.minor.width'] = 1\n",
    "\n",
    "rcParams['ytick.labelsize'] = 20\n",
    "rcParams['ytick.major.size'] = 10\n",
    "rcParams['ytick.major.width'] = 1\n",
    "rcParams['ytick.major.pad'] = 10\n",
    "rcParams['ytick.minor.size'] = 5\n",
    "rcParams['ytick.minor.width'] = 1\n",
    "\n",
    "rcParams['legend.fontsize'] = 24\n",
    "rcParams['legend.borderaxespad'] = 1\n",
    "\n",
    "rcParams['axes.labelsize'] = 24\n",
    "rcParams['axes.titlesize'] = 24"
   ]
  },
  {
   "cell_type": "code",
   "execution_count": 5,
   "metadata": {
    "collapsed": true
   },
   "outputs": [],
   "source": [
    "freqs = np.array([408e6, 4.575e9, 5.625e9, 6.125e9, 28.5e9, 44.1e9, 70.3e9, 143e9, 217e9, 353e9, 545e9, 857e9])"
   ]
  },
  {
   "cell_type": "code",
   "execution_count": 6,
   "metadata": {
    "collapsed": true
   },
   "outputs": [],
   "source": [
    "gflux = np.array([26.8198, 13.388, 13.837, 14.069, 14.573, 13.875, 15.495, 44.376, 191.47, 766.38, 2455., 7653.])\n",
    "gerrs = 0.2 * gflux"
   ]
  },
  {
   "cell_type": "code",
   "execution_count": 7,
   "metadata": {
    "collapsed": false
   },
   "outputs": [
    {
     "data": {
      "image/png": "[encoded data removed]",
      "text/plain": [
       "<matplotlib.figure.Figure at 0x7f601922d190>"
      ]
     },
     "metadata": {},
     "output_type": "display_data"
    }
   ],
   "source": [
    "errorbar(freqs, gflux, gerrs, fmt='.')\n",
    "yscale('log')\n",
    "xscale('log')\n",
    "grid()"
   ]
  },
  {
   "cell_type": "code",
   "execution_count": null,
   "metadata": {
    "collapsed": true
   },
   "outputs": [],
   "source": []
  },
  {
   "cell_type": "code",
   "execution_count": 8,
   "metadata": {
    "collapsed": true
   },
   "outputs": [],
   "source": [
    "beam = pi*( 0.4 * pi/180.)**2\n",
    "beam2 = pi*( (0.16/60.) * pi/180.)**2"
   ]
  },
  {
   "cell_type": "code",
   "execution_count": 9,
   "metadata": {
    "collapsed": true
   },
   "outputs": [],
   "source": [
    "def signal(freqs, EM, Asd, nup, Ad, Bd, Acmb, As):\n",
    "    fffit = fg.freefreep(freqs, EM=EM, Te=8000.)\n",
    "    dustfit = fg.thermal_dust(freqs, Ad=Ad, Bd=Bd, Td=18.96)\n",
    "    amefit = fg.ame(freqs, Asd=Asd, nup=nup) \n",
    "    ccmb = fg.cmb(freqs, A=Acmb)\n",
    "    synch = fg.synchrotron(freqs, As=As)\n",
    "    return (fffit + dustfit + amefit + ccmb + synch) * beam"
   ]
  },
  {
   "cell_type": "code",
   "execution_count": 10,
   "metadata": {
    "collapsed": true
   },
   "outputs": [],
   "source": [
    "def signal2(freqs, EM1, EM2, Ad, Bd, abeam, Acmb, As):\n",
    "    fffit = fg.freefreep(freqs, EM=EM1, Te=8000.) * beam\n",
    "    fffit2 = fg.freefreep(freqs, EM=EM2, Te=8000.) * abeam\n",
    "    dustfit = fg.thermal_dust(freqs, Ad=Ad, Bd=Bd, Td=18.96) * beam\n",
    "    ccmb = fg.cmb(freqs, A=Acmb) * beam\n",
    "    synch = fg.synchrotron(freqs, As=As) * beam\n",
    "    return np.abs(fffit) + np.abs(fffit2) + np.abs(dustfit) + np.abs(ccmb) + np.abs(synch)"
   ]
  },
  {
   "cell_type": "code",
   "execution_count": 11,
   "metadata": {
    "collapsed": true
   },
   "outputs": [],
   "source": [
    "def signal3(freqs, EM, Ad, Bd, Acmb, As):\n",
    "    fffit = fg.freefreep(freqs, EM=EM, Te=8000.)\n",
    "    dustfit = fg.thermal_dust(freqs, Ad=Ad, Bd=Bd, Td=18.96)\n",
    "    ccmb = fg.cmb(freqs, A=Acmb)\n",
    "    synch = fg.synchrotron(freqs, As=As)\n",
    "    return (fffit + dustfit + ccmb + synch) * beam"
   ]
  },
  {
   "cell_type": "code",
   "execution_count": null,
   "metadata": {
    "collapsed": true
   },
   "outputs": [],
   "source": []
  },
  {
   "cell_type": "code",
   "execution_count": 12,
   "metadata": {
    "collapsed": false
   },
   "outputs": [],
   "source": [
    "pn = np.array([5e3, 1.e-3, 20.e9, 1., 2., 30.e-6, 1e3])\n",
    "bounds = ( [0, 0, 0, 0, 0, -1., 0], [1e4, 1., 1e11, 1., 3., 1., 1e6])\n",
    "x = curve_fit(signal, freqs, gflux, p0=pn, sigma=gerrs, absolute_sigma=True, bounds=bounds)\n",
    "pfit = x[0]"
   ]
  },
  {
   "cell_type": "code",
   "execution_count": 30,
   "metadata": {
    "collapsed": false
   },
   "outputs": [],
   "source": [
    "pn2 = np.array([5e3 , 1.e7, 0.1, 2., beam2, 30e-6, 1e3])\n",
    "bounds2 = ( [0, 1.e5, 0, 0, 0, -1., 0], [1e4, 1.e9, 1., 3., 1., 1., 1e6])\n",
    "x = curve_fit(signal2, freqs, gflux, p0=pn2, sigma=gerrs, absolute_sigma=True, bounds=bounds2)\n",
    "pfit2 = x[0]"
   ]
  },
  {
   "cell_type": "code",
   "execution_count": 31,
   "metadata": {
    "collapsed": false
   },
   "outputs": [],
   "source": [
    "pn3 = np.array([5e3, 1., 2., 30.e-6, 1e3])\n",
    "bounds3 = ( [0, 0, 0, -1., 0], [1e4, 1., 3., 1., 1e6])\n",
    "x = curve_fit(signal3, freqs, gflux, p0=pn3, sigma=gerrs, absolute_sigma=True, bounds=bounds3)\n",
    "pfit3 = x[0]"
   ]
  },
  {
   "cell_type": "code",
   "execution_count": null,
   "metadata": {
    "collapsed": true
   },
   "outputs": [],
   "source": []
  },
  {
   "cell_type": "code",
   "execution_count": 32,
   "metadata": {
    "collapsed": false
   },
   "outputs": [
    {
     "name": "stdout",
     "output_type": "stream",
     "text": [
      "0.208563353822 0.613120891248 0.437716427365\n"
     ]
    }
   ],
   "source": [
    "rchisq1 = np.sum( ( gflux - signal(freqs, *pfit))**2 / gerrs**2 ) / (len(freqs) - 7.)\n",
    "rchisq2 = np.sum( ( gflux - signal2(freqs, *pfit2))**2 / gerrs**2 ) / (len(freqs) - 7.)\n",
    "rchisq3 = np.sum( ( gflux - signal3(freqs, *pfit3))**2 / gerrs**2 ) / (len(freqs) - 5.)\n",
    "print rchisq1, rchisq2, rchisq3"
   ]
  },
  {
   "cell_type": "code",
   "execution_count": null,
   "metadata": {
    "collapsed": true
   },
   "outputs": [],
   "source": []
  },
  {
   "cell_type": "code",
   "execution_count": 33,
   "metadata": {
    "collapsed": false
   },
   "outputs": [
    {
     "name": "stdout",
     "output_type": "stream",
     "text": [
      "EM, Asd, nup, Ad, Bd, Acmb, As\n",
      "[  9.13476148e+02   5.89101603e-04   5.44146712e+10   1.85509708e-03\n",
      "   1.41452721e+00  -1.76733542e-04   8.04778895e+02]\n"
     ]
    }
   ],
   "source": [
    "print \"EM, Asd, nup, Ad, Bd, Acmb, As\"\n",
    "print pfit"
   ]
  },
  {
   "cell_type": "code",
   "execution_count": 34,
   "metadata": {
    "collapsed": false
   },
   "outputs": [
    {
     "name": "stdout",
     "output_type": "stream",
     "text": [
      "EM1, EM2, Ad, Bd, abeam, Acmb, As\n",
      "[  9.99046447e+02   9.36578420e+05   1.81226086e-03   1.61057285e+00\n",
      "   1.10702537e-13  -1.05835683e-04   6.00445504e+02]\n"
     ]
    }
   ],
   "source": [
    "print \"EM1, EM2, Ad, Bd, abeam, Acmb, As\"\n",
    "print pfit2"
   ]
  },
  {
   "cell_type": "code",
   "execution_count": 35,
   "metadata": {
    "collapsed": false
   },
   "outputs": [
    {
     "name": "stdout",
     "output_type": "stream",
     "text": [
      "EM, Ad, Bd, Acmb, As\n",
      "[  9.93907462e+02   1.81174064e-03   1.61251553e+00   1.09295070e-04\n",
      "   6.14282534e+02]\n"
     ]
    }
   ],
   "source": [
    "print \"EM, Ad, Bd, Acmb, As\"\n",
    "print pfit3"
   ]
  },
  {
   "cell_type": "code",
   "execution_count": null,
   "metadata": {
    "collapsed": true
   },
   "outputs": [],
   "source": []
  },
  {
   "cell_type": "code",
   "execution_count": 36,
   "metadata": {
    "collapsed": true
   },
   "outputs": [],
   "source": [
    "nu = np.linspace(freqs[0], freqs[-1], 1000)"
   ]
  },
  {
   "cell_type": "code",
   "execution_count": 40,
   "metadata": {
    "collapsed": false
   },
   "outputs": [
    {
     "data": {
      "text/plain": [
       "<matplotlib.text.Text at 0x7f6070ea4510>"
      ]
     },
     "execution_count": 40,
     "metadata": {},
     "output_type": "execute_result"
    },
    {
     "data": {
      "image/png": "[encoded data removed]",
      "text/plain": [
       "<matplotlib.figure.Figure at 0x7f6073b21290>"
      ]
     },
     "metadata": {},
     "output_type": "display_data"
    }
   ],
   "source": [
    "figure(figsize=(16,10))\n",
    "plot(nu*1e-9, signal(nu, *pfit), label='$\\mathrm{Spinning\\ Dust}$')\n",
    "plot(nu*1e-9, signal2(nu, *pfit2), label='$\\mathrm{UCHII\\ Region}$')\n",
    "plot(nu*1e-9, signal3(nu, *pfit3), label='$\\mathrm{Baseline}$')\n",
    "errorbar(freqs*1e-9, gflux, yerr=gerrs, fmt='ko',label='$\\mathrm{CGPS,\\ GBT,\\ and\\ Planck\\ data}$')\n",
    "\n",
    "xscale('log')\n",
    "yscale('log')\n",
    "xlabel('$\\mathrm{Frequency}\\ (GHz)$')\n",
    "ylabel('$\\mathrm{Flux}\\ (Jy)$')\n",
    "legend(loc=2, ncol=1)\n",
    "grid()\n",
    "#ylim(1e-1, 1e5)\n",
    "grid(which='minor')\n",
    "title('$\\mathrm{G107\\ Flux\\ Spectrum}$')\n",
    "#savefig('../notebooks/fullspectrum_withspinningdust')"
   ]
  },
  {
   "cell_type": "code",
   "execution_count": null,
   "metadata": {
    "collapsed": true
   },
   "outputs": [],
   "source": []
  }
 ],
 "metadata": {
  "kernelspec": {
   "display_name": "Python 2",
   "language": "python",
   "name": "python2"
  },
  "language_info": {
   "codemirror_mode": {
    "name": "ipython",
    "version": 2
   },
   "file_extension": ".py",
   "mimetype": "text/x-python",
   "name": "python",
   "nbconvert_exporter": "python",
   "pygments_lexer": "ipython2",
   "version": "2.7.13"
  }
 },
 "nbformat": 4,
 "nbformat_minor": 0
}
