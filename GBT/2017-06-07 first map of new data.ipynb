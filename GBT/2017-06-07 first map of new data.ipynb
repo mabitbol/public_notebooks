{
 "cells": [
  {
   "cell_type": "code",
   "execution_count": 1,
   "metadata": {
    "collapsed": false
   },
   "outputs": [
    {
     "name": "stdout",
     "output_type": "stream",
     "text": [
      "Populating the interactive namespace from numpy and matplotlib\n"
     ]
    }
   ],
   "source": [
    "%pylab inline"
   ]
  },
  {
   "cell_type": "code",
   "execution_count": 2,
   "metadata": {
    "collapsed": true
   },
   "outputs": [],
   "source": [
    "from astropy.io import fits\n",
    "import glob"
   ]
  },
  {
   "cell_type": "code",
   "execution_count": 3,
   "metadata": {
    "collapsed": true
   },
   "outputs": [],
   "source": [
    "def S295(freqs):\n",
    "    a0 = 1.4866 \n",
    "    a1 = -0.7871\n",
    "    a2 = -0.3440\n",
    "    a3 = 0.0749\n",
    "    f = freqs * 1.e-9\n",
    "    logf = np.log10(f)\n",
    "    logS = a0 + a1*logf + a2*logf**2 + a3*logf**3\n",
    "    return 10.**(logS)"
   ]
  },
  {
   "cell_type": "code",
   "execution_count": null,
   "metadata": {
    "collapsed": true
   },
   "outputs": [],
   "source": []
  },
  {
   "cell_type": "code",
   "execution_count": 4,
   "metadata": {
    "collapsed": true
   },
   "outputs": [],
   "source": [
    "def get_freqs_pdiode():\n",
    "    f = fits.open(fnames[0])\n",
    "    hdu = f[1]\n",
    "    data = hdu.data['DATA']\n",
    "    N = 2**14\n",
    "    df = hdu.data['CDELT1'][0]\n",
    "    center_freq = hdu.data['CRVAL1'][0]\n",
    "    centerbin = hdu.data['CRPIX1'][0]\n",
    "    index = np.arange(N)\n",
    "    if_freqs = freqstest = index * (-df) # in Hz\n",
    "    freqs = (center_freq + df * (index + 1 - centerbin))[::-1]\n",
    "    mask = np.ones(N, dtype=bool)\n",
    "    mask[(index % 512) == 0] = False\n",
    "    mask[if_freqs < 150.e6] = False\n",
    "    mask[if_freqs > 1400.e6] = False  \n",
    "    mask[(freqs >= 4.225e9) & (freqs <= 4.375e9)] = False\n",
    "    xxoff = data[::8, ::-1]\n",
    "    onSoffD = xxoff[200:, mask]\n",
    "    xxon = data[1::8, ::-1]\n",
    "    onSonD = xxon[200:, mask]\n",
    "\n",
    "    f = fits.open(fnames[1])\n",
    "    hdu = f[1]\n",
    "    data = hdu.data['DATA']\n",
    "    N = 2**14\n",
    "    df = hdu.data['CDELT1'][0]\n",
    "    center_freq = hdu.data['CRVAL1'][0]\n",
    "    centerbin = hdu.data['CRPIX1'][0]\n",
    "    index = np.arange(N)\n",
    "    if_freqs = freqstest = index * (-df) # in Hz\n",
    "    freqs = (center_freq + df * (index + 1 - centerbin))[::-1]\n",
    "    mask = np.ones(N, dtype=bool)\n",
    "    mask[(index % 512) == 0] = False\n",
    "    mask[if_freqs < 150.e6] = False\n",
    "    mask[if_freqs > 1400.e6] = False\n",
    "    mask[(freqs >= 4.225e9) & (freqs <= 4.375e9)] = False\n",
    "    xxoff = data[::8, ::-1]\n",
    "    offSoffD = xxoff[200:, mask]\n",
    "    xxon = data[1::8, ::-1]\n",
    "    offSonD = xxon[200:, mask]\n",
    "  \n",
    "    Psource = S295(freqs[mask])\n",
    "    gain = np.nanmean(onSoffD - offSoffD, 0) / Psource\n",
    "    Pdiode = np.nanmean(offSonD - offSoffD, 0) / gain\n",
    "    return freqs, Pdiode, mask"
   ]
  },
  {
   "cell_type": "code",
   "execution_count": 13,
   "metadata": {
    "collapsed": false
   },
   "outputs": [],
   "source": [
    "fnames = glob.glob('/data2/GBT/3C295/OnOff/scan_03*/scan_03*A.fits')\n",
    "fnames.sort()\n",
    "fdiode3, pdiode3, mask3 = get_freqs_pdiode()"
   ]
  },
  {
   "cell_type": "code",
   "execution_count": 14,
   "metadata": {
    "collapsed": false
   },
   "outputs": [
    {
     "data": {
      "text/plain": [
       "[<matplotlib.lines.Line2D at 0x7feb00ff1f90>]"
      ]
     },
     "execution_count": 14,
     "metadata": {},
     "output_type": "execute_result"
    },
    {
     "data": {
      "image/png": "[encoded data removed]",
      "text/plain": [
       "<matplotlib.figure.Figure at 0x7feb0314d390>"
      ]
     },
     "metadata": {},
     "output_type": "display_data"
    }
   ],
   "source": [
    "plot(fdiode3[mask3], pdiode3)"
   ]
  },
  {
   "cell_type": "code",
   "execution_count": null,
   "metadata": {
    "collapsed": true
   },
   "outputs": [],
   "source": []
  },
  {
   "cell_type": "code",
   "execution_count": 15,
   "metadata": {
    "collapsed": false
   },
   "outputs": [],
   "source": [
    "fnames = glob.glob('/data2/GBT/3C295/OnOff/scan_05*/scan_05*A.fits')\n",
    "fnames.sort()\n",
    "fdiode5, pdiode5, mask5 = get_freqs_pdiode()"
   ]
  },
  {
   "cell_type": "code",
   "execution_count": 17,
   "metadata": {
    "collapsed": false
   },
   "outputs": [
    {
     "data": {
      "text/plain": [
       "[<matplotlib.lines.Line2D at 0x7feb00fa0290>]"
      ]
     },
     "execution_count": 17,
     "metadata": {},
     "output_type": "execute_result"
    },
    {
     "data": {
      "image/png": "[encoded data removed]",
      "text/plain": [
       "<matplotlib.figure.Figure at 0x7feb01042610>"
      ]
     },
     "metadata": {},
     "output_type": "display_data"
    }
   ],
   "source": [
    "plot(fdiode5[mask5], pdiode5)"
   ]
  },
  {
   "cell_type": "code",
   "execution_count": null,
   "metadata": {
    "collapsed": true
   },
   "outputs": [],
   "source": []
  },
  {
   "cell_type": "code",
   "execution_count": null,
   "metadata": {
    "collapsed": true
   },
   "outputs": [],
   "source": []
  },
  {
   "cell_type": "code",
   "execution_count": 25,
   "metadata": {
    "collapsed": false
   },
   "outputs": [],
   "source": [
    "fnames = glob.glob('/data2/GBT/S140/Daisy/scan_03*/*A.fits')\n",
    "fnames.sort()\n",
    "\n",
    "calibrated3 = [] \n",
    "ras3 = []\n",
    "decs3 = []\n",
    "meansub3 = []\n",
    "for fname in fnames:\n",
    "    f = fits.open(fname)\n",
    "    hdu = f[1]\n",
    "    data = hdu.data['DATA']\n",
    "    ra = hdu.data['CRVAL2'][::8]\n",
    "    dec = hdu.data['CRVAL3'][::8]\n",
    "    xxoff = data[::8, ::-1]\n",
    "    xxon = data[1::8, ::-1]\n",
    "\n",
    "    gain = pdiode3 / (xxon - xxoff)[:, mask3]\n",
    "    calibd = xxoff[:, mask3] * gain\n",
    "\n",
    "    calibrated3 = np.concatenate([calibrated3, np.nanmean(calibd - np.nanmedian(calibd,0), 1)])\n",
    "    meansub3 = np.concatenate([meansub3, np.nanmean(calibd,1) - np.nanmedian(np.nanmean(calibd,1))])\n",
    "    ras3 = np.concatenate([ras3, ra])\n",
    "    decs3 = np.concatenate([decs3, dec])"
   ]
  },
  {
   "cell_type": "code",
   "execution_count": 170,
   "metadata": {
    "collapsed": false
   },
   "outputs": [
    {
     "data": {
      "text/plain": [
       "(0, 1)"
      ]
     },
     "execution_count": 170,
     "metadata": {},
     "output_type": "execute_result"
    },
    {
     "data": {
      "image/png": "[encoded data removed]",
      "text/plain": [
       "<matplotlib.figure.Figure at 0x7feafe48cb90>"
      ]
     },
     "metadata": {},
     "output_type": "display_data"
    }
   ],
   "source": [
    "plot(np.abs(calibrated3))\n",
    "ylim(0, 1)"
   ]
  },
  {
   "cell_type": "code",
   "execution_count": 171,
   "metadata": {
    "collapsed": false
   },
   "outputs": [
    {
     "name": "stderr",
     "output_type": "stream",
     "text": [
      "/usr/lib/python2.7/site-packages/ipykernel/__main__.py:1: RuntimeWarning: invalid value encountered in greater\n",
      "  if __name__ == '__main__':\n"
     ]
    }
   ],
   "source": [
    "bad3 = np.abs(calibrated3) > 1."
   ]
  },
  {
   "cell_type": "code",
   "execution_count": null,
   "metadata": {
    "collapsed": true
   },
   "outputs": [],
   "source": []
  },
  {
   "cell_type": "code",
   "execution_count": 27,
   "metadata": {
    "collapsed": false
   },
   "outputs": [
    {
     "name": "stderr",
     "output_type": "stream",
     "text": [
      "/usr/lib/python2.7/site-packages/ipykernel/__main__.py:20: RuntimeWarning: Mean of empty slice\n",
      "/usr/lib/python2.7/site-packages/ipykernel/__main__.py:21: RuntimeWarning: Mean of empty slice\n"
     ]
    }
   ],
   "source": [
    "fnames = glob.glob('/data2/GBT/S140/Daisy/scan_05*/*A.fits')\n",
    "fnames.sort()\n",
    "\n",
    "calibrated5 = [] \n",
    "ras5 = []\n",
    "decs5 = []\n",
    "meansub5 = []\n",
    "for fname in fnames:\n",
    "    f = fits.open(fname)\n",
    "    hdu = f[1]\n",
    "    data = hdu.data['DATA']\n",
    "    ra = hdu.data['CRVAL2'][::8]\n",
    "    dec = hdu.data['CRVAL3'][::8]\n",
    "    xxoff = data[::8, ::-1]\n",
    "    xxon = data[1::8, ::-1]\n",
    "\n",
    "    gain = pdiode5 / (xxon - xxoff)[:, mask5]\n",
    "    calibd = xxoff[:, mask5] * gain\n",
    "\n",
    "    calibrated5 = np.concatenate([calibrated5, np.nanmean(calibd - np.nanmedian(calibd,0), 1)])\n",
    "    meansub5 = np.concatenate([meansub5, np.nanmean(calibd,1) - np.nanmedian(np.nanmean(calibd,1))])\n",
    "    ras5 = np.concatenate([ras5, ra])\n",
    "    decs5 = np.concatenate([decs5, dec])"
   ]
  }
 ],
 "metadata": {
  "kernelspec": {
   "display_name": "Python 2",
   "language": "python",
   "name": "python2"
  },
  "language_info": {
   "codemirror_mode": {
    "name": "ipython",
    "version": 2
   },
   "file_extension": ".py",
   "mimetype": "text/x-python",
   "name": "python",
   "nbconvert_exporter": "python",
   "pygments_lexer": "ipython2",
   "version": "2.7.13"
  }
 },
 "nbformat": 4,
 "nbformat_minor": 2
}
