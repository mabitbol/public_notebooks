{
 "cells": [
  {
   "cell_type": "code",
   "execution_count": 1,
   "metadata": {
    "collapsed": false
   },
   "outputs": [
    {
     "name": "stdout",
     "output_type": "stream",
     "text": [
      "Populating the interactive namespace from numpy and matplotlib\n"
     ]
    }
   ],
   "source": [
    "%pylab inline"
   ]
  },
  {
   "cell_type": "code",
   "execution_count": 2,
   "metadata": {
    "collapsed": true
   },
   "outputs": [],
   "source": [
    "from astropy.io import fits\n",
    "import healpy as hp"
   ]
  },
  {
   "cell_type": "code",
   "execution_count": 3,
   "metadata": {
    "collapsed": true
   },
   "outputs": [],
   "source": [
    "kboltz=1.3806503e-23 #MKS\n",
    "clight=299792458.0 #MKS\n",
    "hplanck=6.626068e-34 #MKS\n",
    "TCMB = 2.72548 #Kelvin\n",
    "d2r = np.pi / 180."
   ]
  },
  {
   "cell_type": "code",
   "execution_count": 4,
   "metadata": {
    "collapsed": true
   },
   "outputs": [],
   "source": [
    "lonc = 107.2\n",
    "latc = 5.2"
   ]
  },
  {
   "cell_type": "code",
   "execution_count": null,
   "metadata": {
    "collapsed": true
   },
   "outputs": [],
   "source": []
  },
  {
   "cell_type": "code",
   "execution_count": 17,
   "metadata": {
    "collapsed": false
   },
   "outputs": [
    {
     "data": {
      "text/plain": [
       "1.0030555555555556"
      ]
     },
     "execution_count": 17,
     "metadata": {},
     "output_type": "execute_result"
    }
   ],
   "source": [
    "((90./60)**2 - (67./60)**2)"
   ]
  },
  {
   "cell_type": "code",
   "execution_count": 5,
   "metadata": {
    "collapsed": true
   },
   "outputs": [],
   "source": [
    "wmapfiles = ['../externaldata/wmap_band_smth_imap_r9_9yr_K_v5.fits', \\\n",
    "             '../externaldata/wmap_band_smth_imap_r9_9yr_Ka_v5.fits',\\\n",
    "             '../externaldata/wmap_band_smth_imap_r9_9yr_Q_v5.fits', \\\n",
    "             '../externaldata/wmap_band_smth_imap_r9_9yr_V_v5.fits', \\\n",
    "             '../externaldata/wmap_band_smth_imap_r9_9yr_W_v5.fits']\n",
    "wmapfreqs = np.array([22.71, 32.95, 40.65, 60.64, 93.44]) * 1e9"
   ]
  },
  {
   "cell_type": "code",
   "execution_count": 18,
   "metadata": {
    "collapsed": true
   },
   "outputs": [],
   "source": [
    "def wmap_calc(wmap, nu, inside=60., outside=90., radius=60.):\n",
    "    wmapmap = hp.read_map(wmap, verbose=False) * 1.e-3\n",
    "    x = np.copy(wmapmap)\n",
    "    nside = hp.get_nside(x)\n",
    "    vecc = hp.rotator.dir2vec(lonc, latc, lonlat=True)\n",
    "    rmask = hp.query_disc(nside, vecc, (radius/60.)*d2r, inclusive=False)\n",
    "    amaskout = set(hp.query_disc(nside, vecc, (outside/60.)*d2r, inclusive=False))\n",
    "    amaskin = set(hp.query_disc(nside, vecc, (inside/60.)*d2r, inclusive=False))\n",
    "    amask = np.array(list(amaskout.difference(amaskin)))\n",
    "    X = hplanck * nu / (kboltz * TCMB) \n",
    "    kthermo_to_intensity = 2. * kboltz * (nu / clight)**2 * (X**2 * np.exp(X)) / (np.exp(X) - 1.)**2\n",
    "    y = x * kthermo_to_intensity * hp.nside2pixarea(nside) * 1.e26 \n",
    "    rdata = y[rmask]\n",
    "    adata = y[amask]\n",
    "    flux = np.sum(rdata - np.median(adata))\n",
    "    rms = np.std(adata) * np.sqrt(len(rdata) + pi/2. * float(len(rdata)**2) / len(adata))\n",
    "    print int(nu*1e-9), flux, np.sqrt(rms**2 + (0.03*flux)**2)"
   ]
  },
  {
   "cell_type": "code",
   "execution_count": 19,
   "metadata": {
    "collapsed": false
   },
   "outputs": [
    {
     "name": "stdout",
     "output_type": "stream",
     "text": [
      "22 31.8368764744 1.30263687972\n",
      "32 31.3203840584 1.28472920074\n",
      "40 28.592130141 1.20302540388\n",
      "60 25.8088666908 1.30079429895\n",
      "93 34.4799875708 2.25968866322\n"
     ]
    }
   ],
   "source": [
    "for k, wf in enumerate(wmapfiles):\n",
    "    wmap_calc(wf, wmapfreqs[k], inside=67, outside=90, radius=60)"
   ]
  },
  {
   "cell_type": "code",
   "execution_count": null,
   "metadata": {
    "collapsed": true
   },
   "outputs": [],
   "source": []
  },
  {
   "cell_type": "code",
   "execution_count": 21,
   "metadata": {
    "collapsed": true
   },
   "outputs": [],
   "source": [
    "planckfiles = ['../externaldata/LFI_SkyMap_030-field-IQU_1024_R2.01_full.fits', \\\n",
    "              '../externaldata/LFI_SkyMap_044-field-IQU_1024_R2.01_full.fits', \\\n",
    "              '../externaldata/LFI_SkyMap_070-field-IQU_1024_R2.01_full.fits', \\\n",
    "              '../externaldata/HFI_SkyMap_143-field-IQU_2048_R2.02_full.fits', \\\n",
    "              '../externaldata/HFI_SkyMap_217-field-IQU_2048_R2.02_full.fits', \\\n",
    "              '../externaldata/HFI_SkyMap_353-field-IQU_2048_R2.02_full.fits', \\\n",
    "              '../externaldata/HFI_SkyMap_545-field-Int_2048_R2.02_full.fits', \\\n",
    "              '../externaldata/HFI_SkyMap_857-field-Int_2048_R2.02_full.fits']\n",
    "planckfreqs = np.array([28.4, 44.1, 70.4, 143., 217., 353., 545., 857.]) * 1e9\n",
    "planckbeams = np.array([32.3, 27.1, 13.3, 7.3, 5., 4.8, 4.7, 4.3])"
   ]
  },
  {
   "cell_type": "code",
   "execution_count": 26,
   "metadata": {
    "collapsed": true
   },
   "outputs": [],
   "source": [
    "def planck_calc(planck, nu, beam, inside=60., outside=90., radius=60.):\n",
    "    planckmap = hp.read_map(planck, verbose=False)\n",
    "    newbeam = np.sqrt(60.**2 - beam**2) / 60.\n",
    "    planckmap = hp.ud_grade(hp.smoothing(planckmap, fwhm=1.*d2r, verbose=False), 512)\n",
    "    #planckmap = hp.smoothing(hp.ud_grade(planckmap, 512), fwhm=newbeam*d2r, verbose=False)\n",
    "    x = np.copy(planckmap)\n",
    "    nside = hp.get_nside(x)\n",
    "    vecc = hp.rotator.dir2vec(lonc, latc, lonlat=True)\n",
    "    rmask = hp.query_disc(nside, vecc, (radius/60.)*d2r, inclusive=False)\n",
    "    amaskout = set(hp.query_disc(nside, vecc, (outside/60.)*d2r, inclusive=False))\n",
    "    amaskin = set(hp.query_disc(nside, vecc, (inside/60.)*d2r, inclusive=False))\n",
    "    amask = np.array(list(amaskout.difference(amaskin)))\n",
    "    X = hplanck * nu / (kboltz * TCMB) \n",
    "    kthermo_to_intensity = 2. * kboltz * (nu / clight)**2 * (X**2 * np.exp(X)) / (np.exp(X) - 1.)**2\n",
    "    if nu < 400e9:\n",
    "        y = x * kthermo_to_intensity * hp.nside2pixarea(nside) * 1.e26 \n",
    "    else:\n",
    "        y = x * 1e6 * hp.nside2pixarea(nside)\n",
    "    rdata = y[rmask]\n",
    "    adata = y[amask]\n",
    "    flux = np.sum(rdata - np.median(adata))\n",
    "    rms = np.std(adata) * np.sqrt(len(rdata) + pi/2. * float(len(rdata)**2) / len(adata))\n",
    "    print int(nu*1e-9), flux, np.sqrt(rms**2 + (0.03*flux)**2)"
   ]
  },
  {
   "cell_type": "code",
   "execution_count": 27,
   "metadata": {
    "collapsed": false
   },
   "outputs": [
    {
     "name": "stdout",
     "output_type": "stream",
     "text": [
      "Sigma is 0.000000 arcmin (0.000000 rad) \n",
      "-> fwhm is 0.000000 arcmin\n",
      "28 27.8998438334 1.15152940024\n",
      "Sigma is 0.000000 arcmin (0.000000 rad) \n",
      "-> fwhm is 0.000000 arcmin\n",
      "44 25.4430834825 1.12141717128\n",
      "Sigma is 0.000000 arcmin (0.000000 rad) \n",
      "-> fwhm is 0.000000 arcmin\n",
      "70 24.9374150319 1.44216819046\n",
      "Sigma is 0.000000 arcmin (0.000000 rad) \n",
      "-> fwhm is 0.000000 arcmin\n",
      "143 90.3707794099 6.07673172698\n",
      "Sigma is 0.000000 arcmin (0.000000 rad) \n",
      "-> fwhm is 0.000000 arcmin\n",
      "217 430.854687606 24.4283889186\n",
      "Sigma is 0.000000 arcmin (0.000000 rad) \n",
      "-> fwhm is 0.000000 arcmin\n",
      "353 1804.99031718 98.7423046027\n",
      "Sigma is 0.000000 arcmin (0.000000 rad) \n",
      "-> fwhm is 0.000000 arcmin\n",
      "545 6021.91762403 308.172669826\n",
      "Sigma is 0.000000 arcmin (0.000000 rad) \n",
      "-> fwhm is 0.000000 arcmin\n",
      "857 19103.0625733 896.062273461\n"
     ]
    }
   ],
   "source": [
    "for k, pf in enumerate(planckfiles):\n",
    "    planck_calc(pf, planckfreqs[k], planckbeams[k], inside=67, outside=90, radius=60)"
   ]
  },
  {
   "cell_type": "code",
   "execution_count": null,
   "metadata": {
    "collapsed": true
   },
   "outputs": [],
   "source": []
  },
  {
   "cell_type": "code",
   "execution_count": null,
   "metadata": {
    "collapsed": true
   },
   "outputs": [],
   "source": []
  }
 ],
 "metadata": {
  "kernelspec": {
   "display_name": "Python 2",
   "language": "python",
   "name": "python2"
  },
  "language_info": {
   "codemirror_mode": {
    "name": "ipython",
    "version": 2
   },
   "file_extension": ".py",
   "mimetype": "text/x-python",
   "name": "python",
   "nbconvert_exporter": "python",
   "pygments_lexer": "ipython2",
   "version": "2.7.13"
  }
 },
 "nbformat": 4,
 "nbformat_minor": 2
}
