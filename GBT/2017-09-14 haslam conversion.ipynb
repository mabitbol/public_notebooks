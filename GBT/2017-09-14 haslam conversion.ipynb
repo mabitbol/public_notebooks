{
 "cells": [
  {
   "cell_type": "code",
   "execution_count": 1,
   "metadata": {
    "collapsed": false
   },
   "outputs": [
    {
     "name": "stdout",
     "output_type": "stream",
     "text": [
      "Populating the interactive namespace from numpy and matplotlib\n"
     ]
    }
   ],
   "source": [
    "%pylab inline"
   ]
  },
  {
   "cell_type": "code",
   "execution_count": 2,
   "metadata": {
    "collapsed": true
   },
   "outputs": [],
   "source": [
    "from astropy.io import fits\n",
    "import healpy as hp"
   ]
  },
  {
   "cell_type": "code",
   "execution_count": 3,
   "metadata": {
    "collapsed": true
   },
   "outputs": [],
   "source": [
    "kboltz=1.3806503e-23 #MKS\n",
    "clight=299792458.0 #MKS\n",
    "hplanck=6.626068e-34 #MKS\n",
    "TCMB = 2.72548 #Kelvin\n",
    "d2r = np.pi / 180."
   ]
  },
  {
   "cell_type": "code",
   "execution_count": 4,
   "metadata": {
    "collapsed": true
   },
   "outputs": [],
   "source": [
    "lonc = 107.2\n",
    "latc = 5.2\n",
    "lonra = [lonc-2., lonc+2.]\n",
    "latra = [latc-2., latc+2.]"
   ]
  },
  {
   "cell_type": "code",
   "execution_count": 10,
   "metadata": {
    "collapsed": false
   },
   "outputs": [
    {
     "name": "stdout",
     "output_type": "stream",
     "text": [
      "Sigma is 25.479654 arcmin (0.007412 rad) \n",
      "-> fwhm is 60.000000 arcmin\n",
      "Sigma is 0.000000 arcmin (0.000000 rad) \n",
      "-> fwhm is 0.000000 arcmin\n"
     ]
    }
   ],
   "source": [
    "haslam0408 = hp.read_map('../externaldata/lambda_haslam408_nofilt.fits', verbose=False)\n",
    "haslam0408 = hp.ud_grade(hp.smoothing(haslam0408, fwhm=1.*d2r), 512)"
   ]
  },
  {
   "cell_type": "code",
   "execution_count": 11,
   "metadata": {
    "collapsed": false
   },
   "outputs": [],
   "source": [
    "x = np.copy(haslam0408) * 1.e-3\n",
    "nside = hp.get_nside(x)\n",
    "vecc = hp.rotator.dir2vec(lonc, latc, lonlat=True)\n",
    "rmask = hp.query_disc(nside, vecc, 1.*d2r)\n",
    "amaskout = set(hp.query_disc(nside, vecc, 2.*d2r))\n",
    "amaskin = set(hp.query_disc(nside, vecc, (80./60.)*d2r))\n",
    "amask = np.array(list(amaskout.difference(amaskin)))"
   ]
  },
  {
   "cell_type": "code",
   "execution_count": 12,
   "metadata": {
    "collapsed": false
   },
   "outputs": [
    {
     "name": "stdout",
     "output_type": "stream",
     "text": [
      "24.2922436838 0.771177343007\n"
     ]
    }
   ],
   "source": [
    "nu = 408.e6\n",
    "kthermo_to_intensity = 2. * kboltz * (nu / clight)**2 * hp.nside2pixarea(nside) * 1.e26\n",
    "y = x * kthermo_to_intensity\n",
    "rdata = y[rmask]\n",
    "adata = y[amask]\n",
    "print np.sum(rdata - np.median(adata)), np.std(adata) * np.sqrt(len(rdata))"
   ]
  },
  {
   "cell_type": "code",
   "execution_count": null,
   "metadata": {
    "collapsed": true
   },
   "outputs": [],
   "source": []
  },
  {
   "cell_type": "code",
   "execution_count": null,
   "metadata": {
    "collapsed": true
   },
   "outputs": [],
   "source": []
  }
 ],
 "metadata": {
  "kernelspec": {
   "display_name": "Python 2",
   "language": "python",
   "name": "python2"
  },
  "language_info": {
   "codemirror_mode": {
    "name": "ipython",
    "version": 2
   },
   "file_extension": ".py",
   "mimetype": "text/x-python",
   "name": "python",
   "nbconvert_exporter": "python",
   "pygments_lexer": "ipython2",
   "version": "2.7.13"
  }
 },
 "nbformat": 4,
 "nbformat_minor": 2
}
