{
 "cells": [
  {
   "cell_type": "code",
   "execution_count": 1,
   "metadata": {
    "collapsed": false
   },
   "outputs": [
    {
     "name": "stdout",
     "output_type": "stream",
     "text": [
      "Populating the interactive namespace from numpy and matplotlib\n"
     ]
    }
   ],
   "source": [
    "%pylab inline"
   ]
  },
  {
   "cell_type": "code",
   "execution_count": 2,
   "metadata": {
    "collapsed": true
   },
   "outputs": [],
   "source": [
    "import glob\n",
    "from astropy.io import fits"
   ]
  },
  {
   "cell_type": "code",
   "execution_count": 3,
   "metadata": {
    "collapsed": true
   },
   "outputs": [],
   "source": [
    "def mad(x, axis=None):\n",
    "    return np.nanmedian(np.abs(x - np.nanmedian(x, axis)), axis)"
   ]
  },
  {
   "cell_type": "code",
   "execution_count": 4,
   "metadata": {
    "collapsed": false
   },
   "outputs": [
    {
     "name": "stdout",
     "output_type": "stream",
     "text": [
      "97\n"
     ]
    }
   ],
   "source": [
    "fnames = glob.glob('/data2/GBT/S140/Daisy/*/*A*.fits')\n",
    "fnames.sort()\n",
    "print len(fnames)"
   ]
  },
  {
   "cell_type": "code",
   "execution_count": 23,
   "metadata": {
    "collapsed": true
   },
   "outputs": [],
   "source": [
    "f = fits.open(fnames[50])\n",
    "hdu = f[1]\n",
    "data = hdu.data['DATA']"
   ]
  },
  {
   "cell_type": "code",
   "execution_count": 24,
   "metadata": {
    "collapsed": true
   },
   "outputs": [],
   "source": [
    "N = 2**14\n",
    "df = hdu.data['CDELT1'][0]\n",
    "center_freq = hdu.data['CRVAL1'][0]\n",
    "centerbin = hdu.data['CRPIX1'][0]\n",
    "index = np.arange(N)\n",
    "if_freqs = freqstest = index * (-df)\n",
    "freqs = (center_freq + df * (index + 1 - centerbin))[::-1]\n",
    "mask = np.ones(N, dtype=bool)\n",
    "mask[(index % 512) == 511] = False\n",
    "mask[if_freqs < 150.e6] = False\n",
    "mask[if_freqs > 1400.e6] = False\n",
    "#mask[(freqs >= 4.225e9) & (freqs <= 4.375e9)] = False"
   ]
  },
  {
   "cell_type": "code",
   "execution_count": 32,
   "metadata": {
    "collapsed": false
   },
   "outputs": [
    {
     "data": {
      "text/plain": [
       "'A'"
      ]
     },
     "execution_count": 32,
     "metadata": {},
     "output_type": "execute_result"
    }
   ],
   "source": [
    "fnames[0].split('.')[-2]"
   ]
  },
  {
   "cell_type": "code",
   "execution_count": 25,
   "metadata": {
    "collapsed": true
   },
   "outputs": [],
   "source": [
    "xxoff = data[::8, ::-1]\n",
    "xxoff[:, ~mask] = np.nan"
   ]
  },
  {
   "cell_type": "code",
   "execution_count": null,
   "metadata": {
    "collapsed": true
   },
   "outputs": [],
   "source": []
  },
  {
   "cell_type": "code",
   "execution_count": 26,
   "metadata": {
    "collapsed": false
   },
   "outputs": [],
   "source": [
    "ratio = np.zeros(N)\n",
    "ratio[mask] = np.nanstd(xxoff[:, mask], 0) / np.nanmean(xxoff[:, mask], 0)\n",
    "ratio[~mask] = np.nan\n",
    "ratio_mad = 5. / 0.67449 * mad(ratio[mask])"
   ]
  },
  {
   "cell_type": "code",
   "execution_count": 27,
   "metadata": {
    "collapsed": false
   },
   "outputs": [
    {
     "data": {
      "text/plain": [
       "(-0.005, 0.005)"
      ]
     },
     "execution_count": 27,
     "metadata": {},
     "output_type": "execute_result"
    },
    {
     "data": {
      "image/png": "[encoded data removed]",
      "text/plain": [
       "<matplotlib.figure.Figure at 0x7fcf69363410>"
      ]
     },
     "metadata": {},
     "output_type": "display_data"
    }
   ],
   "source": [
    "plot(ratio - np.nanmean(ratio))\n",
    "axhline(ratio_mad, color='r')\n",
    "axhline(-ratio_mad, color='r')\n",
    "ylim(-0.005, 0.005)"
   ]
  },
  {
   "cell_type": "code",
   "execution_count": 11,
   "metadata": {
    "collapsed": false
   },
   "outputs": [],
   "source": [
    "bad = np.zeros_like(mask)\n",
    "bad[mask] = np.abs(ratio[mask] - np.nanmean(ratio[mask])) > ratio_mad\n",
    "mask[bad] = False\n",
    "xxoff[:, ~mask] = np.nan"
   ]
  },
  {
   "cell_type": "code",
   "execution_count": null,
   "metadata": {
    "collapsed": false
   },
   "outputs": [],
   "source": []
  },
  {
   "cell_type": "code",
   "execution_count": 15,
   "metadata": {
    "collapsed": false
   },
   "outputs": [],
   "source": [
    "msdata = np.zeros_like(xxoff)\n",
    "msdata[:, mask] = xxoff[:, mask] - np.nanmean(xxoff[:, mask], 0)\n",
    "msdata[:, ~mask] = np.nan\n",
    "msstd = np.nanstd(msdata[:, mask], 1)\n",
    "msdata_mad = 2 * 5. / 0.67449 * mad(msstd)"
   ]
  },
  {
   "cell_type": "code",
   "execution_count": 16,
   "metadata": {
    "collapsed": false
   },
   "outputs": [
    {
     "data": {
      "text/plain": [
       "<matplotlib.lines.Line2D at 0x7fcf85ccb610>"
      ]
     },
     "execution_count": 16,
     "metadata": {},
     "output_type": "execute_result"
    },
    {
     "data": {
      "image/png": "[encoded data removed]",
      "text/plain": [
       "<matplotlib.figure.Figure at 0x7fcf85da4210>"
      ]
     },
     "metadata": {},
     "output_type": "display_data"
    }
   ],
   "source": [
    "plot(msstd - np.nanmean(msstd))\n",
    "axhline(msdata_mad, color='r')\n",
    "axhline(-msdata_mad, color='r')"
   ]
  },
  {
   "cell_type": "code",
   "execution_count": 17,
   "metadata": {
    "collapsed": false
   },
   "outputs": [],
   "source": [
    "tbad = np.zeros(xxoff.shape[0])\n",
    "tbad = np.abs(msstd - np.nanmean(msstd)) > msdata_mad\n",
    "xxoff[tbad, :] = np.nan"
   ]
  },
  {
   "cell_type": "code",
   "execution_count": null,
   "metadata": {
    "collapsed": true
   },
   "outputs": [],
   "source": []
  },
  {
   "cell_type": "code",
   "execution_count": 18,
   "metadata": {
    "collapsed": false
   },
   "outputs": [],
   "source": [
    "speck = np.zeros(xxoff.shape[1])\n",
    "speck[mask] = np.nanmean((msdata[:, mask][~tbad, :]**4), 0) / np.nanmean((msdata[:, mask][~tbad, :]**2), 0)**2\n",
    "speck[~mask] = np.nan\n",
    "speck_mad = 5. / 0.67449 * mad(speck[mask])"
   ]
  },
  {
   "cell_type": "code",
   "execution_count": 19,
   "metadata": {
    "collapsed": false
   },
   "outputs": [
    {
     "data": {
      "text/plain": [
       "<matplotlib.lines.Line2D at 0x7fcf694c2bd0>"
      ]
     },
     "execution_count": 19,
     "metadata": {},
     "output_type": "execute_result"
    },
    {
     "data": {
      "image/png": "[encoded data removed]",
      "text/plain": [
       "<matplotlib.figure.Figure at 0x7fcf85d2f110>"
      ]
     },
     "metadata": {},
     "output_type": "display_data"
    }
   ],
   "source": [
    "plot(speck - np.nanmean(speck))\n",
    "axhline(speck_mad, color='r')\n",
    "axhline(-speck_mad, color='r')"
   ]
  },
  {
   "cell_type": "code",
   "execution_count": 20,
   "metadata": {
    "collapsed": false
   },
   "outputs": [],
   "source": [
    "bad = np.zeros_like(mask)\n",
    "bad[mask] = np.abs(speck[mask] - np.nanmean(speck[mask])) > speck_mad\n",
    "mask[bad] = False\n",
    "xxoff[:, ~mask] = np.nan"
   ]
  },
  {
   "cell_type": "code",
   "execution_count": null,
   "metadata": {
    "collapsed": false
   },
   "outputs": [],
   "source": []
  },
  {
   "cell_type": "code",
   "execution_count": 21,
   "metadata": {
    "collapsed": false
   },
   "outputs": [],
   "source": [
    "speck = np.zeros(xxoff.shape[1])\n",
    "speck[mask] = np.nanmean((msdata[:, mask][~tbad, :]**4), 0) / np.nanmean((msdata[:, mask][~tbad, :]**2), 0)**2\n",
    "speck[~mask] = np.nan\n",
    "speck_mad = 5. / 0.67449 * mad(speck[mask])"
   ]
  },
  {
   "cell_type": "code",
   "execution_count": 22,
   "metadata": {
    "collapsed": false
   },
   "outputs": [
    {
     "data": {
      "text/plain": [
       "<matplotlib.lines.Line2D at 0x7fcf6940bd10>"
      ]
     },
     "execution_count": 22,
     "metadata": {},
     "output_type": "execute_result"
    },
    {
     "data": {
      "image/png": "[encoded data removed]",
      "text/plain": [
       "<matplotlib.figure.Figure at 0x7fcf85c79410>"
      ]
     },
     "metadata": {},
     "output_type": "display_data"
    }
   ],
   "source": [
    "plot(speck - np.nanmean(speck))\n",
    "axhline(speck_mad, color='r')\n",
    "axhline(-speck_mad, color='r')"
   ]
  },
  {
   "cell_type": "code",
   "execution_count": null,
   "metadata": {
    "collapsed": true
   },
   "outputs": [],
   "source": []
  },
  {
   "cell_type": "code",
   "execution_count": null,
   "metadata": {
    "collapsed": true
   },
   "outputs": [],
   "source": []
  }
 ],
 "metadata": {
  "kernelspec": {
   "display_name": "Python 2",
   "language": "python",
   "name": "python2"
  },
  "language_info": {
   "codemirror_mode": {
    "name": "ipython",
    "version": 2
   },
   "file_extension": ".py",
   "mimetype": "text/x-python",
   "name": "python",
   "nbconvert_exporter": "python",
   "pygments_lexer": "ipython2",
   "version": "2.7.13"
  }
 },
 "nbformat": 4,
 "nbformat_minor": 2
}
