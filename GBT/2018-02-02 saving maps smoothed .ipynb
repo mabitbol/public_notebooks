{
 "cells": [
  {
   "cell_type": "code",
   "execution_count": 1,
   "metadata": {
    "collapsed": false
   },
   "outputs": [
    {
     "name": "stdout",
     "output_type": "stream",
     "text": [
      "Populating the interactive namespace from numpy and matplotlib\n"
     ]
    }
   ],
   "source": [
    "%pylab inline"
   ]
  },
  {
   "cell_type": "code",
   "execution_count": 2,
   "metadata": {
    "collapsed": true
   },
   "outputs": [],
   "source": [
    "import healpy as hp"
   ]
  },
  {
   "cell_type": "code",
   "execution_count": 3,
   "metadata": {
    "collapsed": true
   },
   "outputs": [],
   "source": [
    "kboltz=1.3806503e-23\n",
    "clight=299792458.0\n",
    "hplanck=6.626068e-34\n",
    "TCMB = 2.72548\n",
    "d2r = np.pi / 180.\n",
    "pi = np.pi\n",
    "\n",
    "lonc = 107.2\n",
    "latc = 5.2"
   ]
  },
  {
   "cell_type": "code",
   "execution_count": 4,
   "metadata": {
    "collapsed": true
   },
   "outputs": [],
   "source": [
    "dirbefiles = ['../externaldata/DIRBE_ZSMA_1_256.fits', \\\n",
    "              '../externaldata/DIRBE_ZSMA_2_256.fits', \\\n",
    "              '../externaldata/DIRBE_ZSMA_3_256.fits', \\\n",
    "              '../externaldata/DIRBE_ZSMA_4_256.fits', \\\n",
    "              '../externaldata/DIRBE_ZSMA_5_256.fits', \\\n",
    "              '../externaldata/DIRBE_ZSMA_6_256.fits', \\\n",
    "              '../externaldata/DIRBE_ZSMA_7_256.fits', \\\n",
    "              '../externaldata/DIRBE_ZSMA_8_256.fits', \\\n",
    "              '../externaldata/DIRBE_ZSMA_9_256.fits', \\\n",
    "              '../externaldata/DIRBE_ZSMA_10_256.fits']\n",
    "dirbefreqs = np.array([240, 136.36, 85.71, 61.22, 25, 12, 5, 3, 2.1428, 1.25]) * 1.e12\n",
    "dirbebeams = np.array([37.6, 41.0, 39.0, 41.5, 41.0, 41.5, 42.3, 41.0, 40.4, 39.5])"
   ]
  },
  {
   "cell_type": "code",
   "execution_count": 8,
   "metadata": {
    "collapsed": false
   },
   "outputs": [
    {
     "name": "stderr",
     "output_type": "stream",
     "text": [
      "Overwriting existing file '/home/mabitbol/GBT-S140/externaldata/dirbe_smoothed_240000_40.fits'.\n",
      "Overwriting existing file '/home/mabitbol/GBT-S140/externaldata/dirbe_smoothed_136360_40.fits'.\n",
      "Overwriting existing file '/home/mabitbol/GBT-S140/externaldata/dirbe_smoothed_85710_40.fits'.\n",
      "Overwriting existing file '/home/mabitbol/GBT-S140/externaldata/dirbe_smoothed_61220_40.fits'.\n",
      "Overwriting existing file '/home/mabitbol/GBT-S140/externaldata/dirbe_smoothed_25000_40.fits'.\n",
      "Overwriting existing file '/home/mabitbol/GBT-S140/externaldata/dirbe_smoothed_12000_40.fits'.\n",
      "Overwriting existing file '/home/mabitbol/GBT-S140/externaldata/dirbe_smoothed_5000_40.fits'.\n",
      "Overwriting existing file '/home/mabitbol/GBT-S140/externaldata/dirbe_smoothed_3000_40.fits'.\n",
      "Overwriting existing file '/home/mabitbol/GBT-S140/externaldata/dirbe_smoothed_2142_40.fits'.\n",
      "Overwriting existing file '/home/mabitbol/GBT-S140/externaldata/dirbe_smoothed_1250_40.fits'.\n"
     ]
    }
   ],
   "source": [
    "for k, pf in enumerate(dirbefiles):\n",
    "    dirbemap = hp.read_map(pf, verbose=False)\n",
    "    dirbemap = hp.ud_grade(dirbemap, 512)\n",
    "    \n",
    "    nside = hp.get_nside(dirbemap)\n",
    "    dirbemap *= 1.e6 * hp.nside2pixarea(nside)\n",
    "    name = '/home/mabitbol/GBT-S140/externaldata/dirbe_smoothed_'+str(int(dirbefreqs[k]*1e-9))+'_40.fits'\n",
    "    hp.write_map(name, dirbemap)"
   ]
  },
  {
   "cell_type": "code",
   "execution_count": 4,
   "metadata": {
    "collapsed": false
   },
   "outputs": [
    {
     "name": "stderr",
     "output_type": "stream",
     "text": [
      "Overwriting existing file '/home/mabitbol/GBT-S140/externaldata/wmap_smoothed_22.fits'.\n",
      "Overwriting existing file '/home/mabitbol/GBT-S140/externaldata/wmap_smoothed_32.fits'.\n",
      "Overwriting existing file '/home/mabitbol/GBT-S140/externaldata/wmap_smoothed_40.fits'.\n",
      "Overwriting existing file '/home/mabitbol/GBT-S140/externaldata/wmap_smoothed_60.fits'.\n",
      "Overwriting existing file '/home/mabitbol/GBT-S140/externaldata/wmap_smoothed_93.fits'.\n"
     ]
    }
   ],
   "source": [
    "for k, pf in enumerate(wmapfiles):\n",
    "    wmapmap = hp.read_map(pf, verbose=False) * 1.e-3\n",
    "    nside = hp.get_nside(wmapmap)\n",
    "    nu = wmapfreqs[k]\n",
    "    \n",
    "    X = hplanck * nu / (kboltz * TCMB)\n",
    "    kthermo_to_intensity = 2. * kboltz * (nu / clight)**2 * (X**2 * np.exp(X)) / (np.exp(X) - 1.)**2\n",
    "    \n",
    "    wmapmap *= kthermo_to_intensity * hp.nside2pixarea(nside) * 1.e26\n",
    "    name = '/home/mabitbol/GBT-S140/externaldata/wmap_smoothed_'+str(int(nu*1e-9))+'.fits'\n",
    "    hp.write_map(name, wmapmap)"
   ]
  },
  {
   "cell_type": "code",
   "execution_count": 4,
   "metadata": {
    "collapsed": true
   },
   "outputs": [],
   "source": [
    "planckfiles = ['../externaldata/LFI_SkyMap_030-field-IQU_1024_R2.01_full.fits', \\\n",
    "              '../externaldata/LFI_SkyMap_044-field-IQU_1024_R2.01_full.fits', \\\n",
    "              '../externaldata/LFI_SkyMap_070-field-IQU_1024_R2.01_full.fits', \\\n",
    "              '../externaldata/HFI_SkyMap_100-field-IQU_2048_R2.02_full.fits', \\\n",
    "              '../externaldata/HFI_SkyMap_143-field-IQU_2048_R2.02_full.fits', \\\n",
    "              '../externaldata/HFI_SkyMap_217-field-IQU_2048_R2.02_full.fits', \\\n",
    "              '../externaldata/HFI_SkyMap_353-field-IQU_2048_R2.02_full.fits', \\\n",
    "              '../externaldata/HFI_SkyMap_545-field-Int_2048_R2.02_full.fits', \\\n",
    "              '../externaldata/HFI_SkyMap_857-field-Int_2048_R2.02_full.fits']\n",
    "planckfreqs = np.array([28.4, 44.1, 70.4, 100., 143., 217., 353., 545., 857.]) * 1e9\n",
    "planckbeams = np.array([32.3, 27.1, 13.3, 9.7, 7.3, 5., 4.8, 4.7, 4.3])"
   ]
  },
  {
   "cell_type": "code",
   "execution_count": null,
   "metadata": {
    "collapsed": true
   },
   "outputs": [],
   "source": []
  },
  {
   "cell_type": "code",
   "execution_count": 7,
   "metadata": {
    "collapsed": false
   },
   "outputs": [
    {
     "name": "stdout",
     "output_type": "stream",
     "text": [
      "Sigma is 16.479415 arcmin (0.004794 rad) \n",
      "-> fwhm is 38.806056 arcmin\n",
      "Sigma is 0.000000 arcmin (0.000000 rad) \n",
      "-> fwhm is 0.000000 arcmin\n"
     ]
    }
   ],
   "source": [
    "k = 3\n",
    "pf = planckfiles[k]\n",
    "planckmap = hp.read_map(pf, verbose=False)\n",
    "newbeam = np.sqrt(40.**2 - planckbeams[k]**2) / 60.\n",
    "planckmap = hp.ud_grade(hp.smoothing(planckmap, fwhm=newbeam*d2r), 512)\n",
    "\n",
    "nside = hp.get_nside(planckmap)\n",
    "nu = planckfreqs[k]\n",
    "\n",
    "X = hplanck * nu / (kboltz * TCMB)\n",
    "kthermo_to_intensity = 2. * kboltz * (nu / clight)**2 * (X**2 * np.exp(X)) / (np.exp(X) - 1.)**2\n",
    "if nu < 400e9:\n",
    "    planckmap *= kthermo_to_intensity * hp.nside2pixarea(nside) * 1.e26\n",
    "else:\n",
    "    planckmap *= 1e6 * hp.nside2pixarea(nside)\n",
    "\n",
    "name = '/home/mabitbol/GBT-S140/externaldata/planck_smoothed_'+str(int(planckfreqs[k]*1e-9))+'_40.fits'\n",
    "hp.write_map(name, planckmap)"
   ]
  },
  {
   "cell_type": "code",
   "execution_count": null,
   "metadata": {
    "collapsed": true
   },
   "outputs": [],
   "source": []
  },
  {
   "cell_type": "code",
   "execution_count": 12,
   "metadata": {
    "collapsed": false
   },
   "outputs": [
    {
     "name": "stdout",
     "output_type": "stream",
     "text": [
      "Sigma is 10.019748 arcmin (0.002915 rad) \n",
      "-> fwhm is 23.594703 arcmin\n",
      "Sigma is 0.000000 arcmin (0.000000 rad) \n",
      "-> fwhm is 0.000000 arcmin\n",
      "Sigma is 12.493911 arcmin (0.003634 rad) \n",
      "-> fwhm is 29.420911 arcmin\n",
      "Sigma is 0.000000 arcmin (0.000000 rad) \n",
      "-> fwhm is 0.000000 arcmin\n",
      "Sigma is 16.019963 arcmin (0.004660 rad) \n",
      "-> fwhm is 37.724130 arcmin\n",
      "Sigma is 0.000000 arcmin (0.000000 rad) \n",
      "-> fwhm is 0.000000 arcmin\n",
      "Sigma is 16.701163 arcmin (0.004858 rad) \n",
      "-> fwhm is 39.328234 arcmin\n",
      "Sigma is 0.000000 arcmin (0.000000 rad) \n",
      "-> fwhm is 0.000000 arcmin\n",
      "Sigma is 16.853207 arcmin (0.004902 rad) \n",
      "-> fwhm is 39.686270 arcmin\n",
      "Sigma is 0.000000 arcmin (0.000000 rad) \n",
      "-> fwhm is 0.000000 arcmin\n",
      "Sigma is 16.863690 arcmin (0.004905 rad) \n",
      "-> fwhm is 39.710956 arcmin\n",
      "Sigma is 0.000000 arcmin (0.000000 rad) \n",
      "-> fwhm is 0.000000 arcmin\n",
      "Sigma is 16.868769 arcmin (0.004907 rad) \n",
      "-> fwhm is 39.722915 arcmin\n",
      "Sigma is 0.000000 arcmin (0.000000 rad) \n",
      "-> fwhm is 0.000000 arcmin\n",
      "Sigma is 16.888001 arcmin (0.004913 rad) \n",
      "-> fwhm is 39.768203 arcmin\n",
      "Sigma is 0.000000 arcmin (0.000000 rad) \n",
      "-> fwhm is 0.000000 arcmin\n"
     ]
    }
   ],
   "source": [
    "for k, pf in enumerate(planckfiles):\n",
    "    planckmap = hp.read_map(pf, verbose=False)\n",
    "    newbeam = np.sqrt(40.**2 - planckbeams[k]**2) / 60.\n",
    "    planckmap = hp.ud_grade(hp.smoothing(planckmap, fwhm=newbeam*d2r), 512)\n",
    "\n",
    "    nside = hp.get_nside(planckmap)\n",
    "    nu = planckfreqs[k]\n",
    "    \n",
    "    X = hplanck * nu / (kboltz * TCMB)\n",
    "    kthermo_to_intensity = 2. * kboltz * (nu / clight)**2 * (X**2 * np.exp(X)) / (np.exp(X) - 1.)**2\n",
    "    if nu < 400e9:\n",
    "        planckmap *= kthermo_to_intensity * hp.nside2pixarea(nside) * 1.e26\n",
    "    else:\n",
    "        planckmap *= 1e6 * hp.nside2pixarea(nside)\n",
    "        \n",
    "    name = '/home/mabitbol/GBT-S140/externaldata/planck_smoothed_'+str(int(planckfreqs[k]*1e-9))+'_40.fits'\n",
    "    hp.write_map(name, planckmap)"
   ]
  },
  {
   "cell_type": "code",
   "execution_count": null,
   "metadata": {
    "collapsed": true
   },
   "outputs": [],
   "source": []
  },
  {
   "cell_type": "code",
   "execution_count": 13,
   "metadata": {
    "collapsed": true
   },
   "outputs": [],
   "source": [
    "\n",
    "for k, pf in enumerate(ph.planckfiles):\n",
    "    planckmap = hp.read_map(pf, verbose=False)\n",
    "    newbeam = np.sqrt(60.**2 - ph.planckbeams[k]**2) / 60.\n",
    "    planckmap = hp.ud_grade(hp.smoothing(planckmap, fwhm=newbeam*ph.d2r), 512)\n",
    "    name = '/home/mabitbol/GBT-S140/externaldata/planck_smoothed_'+str(int(ph.planckfreqs[k]*1e-9))+'.fits'\n",
    "    hp.write_map(name, planckmap)"
   ]
  },
  {
   "cell_type": "code",
   "execution_count": 13,
   "metadata": {
    "collapsed": true
   },
   "outputs": [],
   "source": [
    "def smoothingscript():\n",
    "    for k, pf in enumerate(ph.planckfiles):\n",
    "        planckmap = hp.read_map(pf, verbose=False)\n",
    "        newbeam = np.sqrt(60.**2 - ph.planckbeams[k]**2) / 60.\n",
    "        planckmap = hp.ud_grade(hp.smoothing(planckmap, fwhm=newbeam*ph.d2r), 512)\n",
    "        name = '/home/mabitbol/GBT-S140/externaldata/planck_smoothed_'+str(int(ph.planckfreqs[k]*1e-9))+'.fits'\n",
    "        hp.write_map(name, planckmap)"
   ]
  },
  {
   "cell_type": "code",
   "execution_count": null,
   "metadata": {
    "collapsed": true
   },
   "outputs": [],
   "source": []
  },
  {
   "cell_type": "code",
   "execution_count": null,
   "metadata": {
    "collapsed": true
   },
   "outputs": [],
   "source": []
  }
 ],
 "metadata": {
  "kernelspec": {
   "display_name": "Python 2",
   "language": "python",
   "name": "python2"
  },
  "language_info": {
   "codemirror_mode": {
    "name": "ipython",
    "version": 2
   },
   "file_extension": ".py",
   "mimetype": "text/x-python",
   "name": "python",
   "nbconvert_exporter": "python",
   "pygments_lexer": "ipython2",
   "version": "2.7.13"
  }
 },
 "nbformat": 4,
 "nbformat_minor": 2
}
