{
 "cells": [
  {
   "cell_type": "code",
   "execution_count": 1,
   "metadata": {
    "collapsed": false
   },
   "outputs": [
    {
     "name": "stdout",
     "output_type": "stream",
     "text": [
      "Populating the interactive namespace from numpy and matplotlib\n"
     ]
    }
   ],
   "source": [
    "%pylab inline"
   ]
  },
  {
   "cell_type": "code",
   "execution_count": 2,
   "metadata": {
    "collapsed": true
   },
   "outputs": [],
   "source": [
    "import glob\n",
    "from scipy.ndimage.filters import gaussian_filter\n",
    "from scipy.optimize import curve_fit"
   ]
  },
  {
   "cell_type": "code",
   "execution_count": 3,
   "metadata": {
    "collapsed": true
   },
   "outputs": [],
   "source": [
    "figsize(10, 8)"
   ]
  },
  {
   "cell_type": "code",
   "execution_count": 4,
   "metadata": {
    "collapsed": true
   },
   "outputs": [],
   "source": [
    "freqs = [4.575, 5.625, 6.125, 7.175]\n",
    "banks = ['A', 'B', 'C', 'D']"
   ]
  },
  {
   "cell_type": "code",
   "execution_count": 5,
   "metadata": {
    "collapsed": true
   },
   "outputs": [],
   "source": [
    "def naive_map(data,ra,dec,ra_num_bins=60,dec_num_bins=50):\n",
    "    ra_bins = np.linspace(ra.min(),ra.max(),ra_num_bins)\n",
    "    dec_bins = np.linspace(dec.min(),dec.max(),dec_num_bins)\n",
    "    p,_,_ = np.histogram2d(ra,dec,bins=(ra_bins,dec_bins),weights=data)\n",
    "    hits,_,_ = np.histogram2d(ra,dec,bins=(ra_bins,dec_bins))\n",
    "    return p.T, hits.T, ra_bins, dec_bins"
   ]
  },
  {
   "cell_type": "code",
   "execution_count": 6,
   "metadata": {
    "collapsed": true
   },
   "outputs": [],
   "source": [
    "def calculate_sflux(bank='A', session='5', doplot=True, pixbeam=4.):\n",
    "    rc = 335.7134\n",
    "    dc = 63.4380\n",
    "    dataf = np.load('/home/mabitbol/GBT-S140/datamaps/datamaps_'+bank+'_'+session+'.npz')\n",
    "    tmask = dataf['tmask']\n",
    "    ras = dataf['ras'][tmask]\n",
    "    decs = dataf['decs'][tmask]\n",
    "    calibrated = dataf['calibrated'][tmask]\n",
    "    \n",
    "    tmask2 = ~np.isnan(calibrated)\n",
    "    ras = ras[tmask2]\n",
    "    decs = decs[tmask2]\n",
    "    calibrated = calibrated[tmask2] \n",
    "    \n",
    "    if bank == 'A':\n",
    "        cfreq = 4.575\n",
    "    elif bank == 'B':\n",
    "        cfreq = 5.625\n",
    "    elif bank == 'C':\n",
    "        cfreq = 6.125\n",
    "    elif bank == 'D':\n",
    "        cfreq = 7.175\n",
    "    beam = 12.6 / cfreq\n",
    "    \n",
    "    # units !!\n",
    "    # units now are Jy * beam area per pixel area\n",
    "    beamarea = np.pi / (4. * np.log(2)) * beam**2\n",
    "    pixelarea = pixbeam**2\n",
    "    units = pixelarea / beamarea\n",
    "    \n",
    "    nrapix = int((ras.max() - ras.min()) / (pixbeam / 60.))\n",
    "    ndecpix = int((decs.max() - decs.min()) / (pixbeam / 60.))\n",
    "    \n",
    "    datamap, hits, rabins, decbins = naive_map(calibrated, ras, decs, nrapix, ndecpix) \n",
    "    mask = hits == 0\n",
    "    signal = np.zeros_like(datamap)\n",
    "    signal[~mask] = datamap[~mask] / hits[~mask] * units\n",
    "    \n",
    "    signal = gaussian_filter(signal, beam/pixbeam)\n",
    "    shits = gaussian_filter(hits, beam/pixbeam)\n",
    "    signal[mask] = np.nan\n",
    "    \n",
    "    radius = np.sqrt( (ras-rc)**2 + (decs-dc)**2)\n",
    "    \n",
    "    rmask = radius <= 1.\n",
    "    insidedata = np.zeros_like(calibrated)\n",
    "    insidedata[rmask] = 10.\n",
    "    innermap, innerhits, rabins, decbins = naive_map(insidedata, ras, decs, nrapix, ndecpix) \n",
    "    innerregion = innermap > 0\n",
    "    \n",
    "    annulus = (radius >= 80./60.) & (radius <= 2.)\n",
    "    outerdata = np.zeros_like(calibrated)\n",
    "    outerdata[annulus] = 10.\n",
    "    outermap, outerhits, rabins, decbins = naive_map(outerdata, ras, decs, nrapix, ndecpix)\n",
    "    outerregion = outermap > 0\n",
    "    \n",
    "    if doplot:\n",
    "        figure()\n",
    "        pc = pcolormesh(rabins, decbins, signal)\n",
    "        clim(-0.1*units, 0.1*units)\n",
    "        cb = colorbar()\n",
    "        xlabel('RA [degrees]')\n",
    "        ylabel('DEC [degrees]')\n",
    "        cb.set_label('Flux [Jy]')\n",
    "    \n",
    "    flux = np.nansum(signal[innerregion] - np.nanmedian(signal[outerregion]))\n",
    "    return flux"
   ]
  },
  {
   "cell_type": "code",
   "execution_count": 7,
   "metadata": {
    "collapsed": false
   },
   "outputs": [
    {
     "data": {
      "text/plain": [
       "31.371507966407229"
      ]
     },
     "execution_count": 7,
     "metadata": {},
     "output_type": "execute_result"
    },
    {
     "name": "stderr",
     "output_type": "stream",
     "text": [
      "/usr/lib64/python2.7/site-packages/matplotlib/colors.py:494: RuntimeWarning: invalid value encountered in less\n",
      "  cbook._putmask(xa, xa < 0.0, -1)\n"
     ]
    },
    {
     "data": {
      "image/png": "[encoded data removed]",
      "text/plain": [
       "<matplotlib.figure.Figure at 0x7fd8cc972710>"
      ]
     },
     "metadata": {},
     "output_type": "display_data"
    }
   ],
   "source": [
    "calculate_sflux()"
   ]
  },
  {
   "cell_type": "code",
   "execution_count": null,
   "metadata": {
    "collapsed": true
   },
   "outputs": [],
   "source": []
  }
 ],
 "metadata": {
  "kernelspec": {
   "display_name": "Python 2",
   "language": "python",
   "name": "python2"
  },
  "language_info": {
   "codemirror_mode": {
    "name": "ipython",
    "version": 2
   },
   "file_extension": ".py",
   "mimetype": "text/x-python",
   "name": "python",
   "nbconvert_exporter": "python",
   "pygments_lexer": "ipython2",
   "version": "2.7.13"
  }
 },
 "nbformat": 4,
 "nbformat_minor": 2
}
