{
 "cells": [
  {
   "cell_type": "code",
   "execution_count": 1,
   "metadata": {
    "collapsed": false
   },
   "outputs": [
    {
     "name": "stdout",
     "output_type": "stream",
     "text": [
      "Populating the interactive namespace from numpy and matplotlib\n"
     ]
    }
   ],
   "source": [
    "%pylab inline"
   ]
  },
  {
   "cell_type": "code",
   "execution_count": 2,
   "metadata": {
    "collapsed": true
   },
   "outputs": [],
   "source": [
    "from astropy.io import fits\n",
    "import glob"
   ]
  },
  {
   "cell_type": "code",
   "execution_count": 3,
   "metadata": {
    "collapsed": true
   },
   "outputs": [],
   "source": [
    "fnames = glob.glob('/data2/GBT/3C295/OnOff/scan*/*.fits')\n",
    "fnames.sort()"
   ]
  },
  {
   "cell_type": "code",
   "execution_count": 4,
   "metadata": {
    "collapsed": true
   },
   "outputs": [],
   "source": [
    "k = 4"
   ]
  },
  {
   "cell_type": "code",
   "execution_count": 5,
   "metadata": {
    "collapsed": true
   },
   "outputs": [],
   "source": [
    "plots = True"
   ]
  },
  {
   "cell_type": "code",
   "execution_count": 6,
   "metadata": {
    "collapsed": true
   },
   "outputs": [],
   "source": [
    "def mad(x, axis=None):\n",
    "    return np.nanmedian(np.abs(x - np.nanmedian(x, axis)), axis)"
   ]
  },
  {
   "cell_type": "code",
   "execution_count": 7,
   "metadata": {
    "collapsed": true
   },
   "outputs": [],
   "source": [
    "def moving_median(x, N):\n",
    "    idx = np.arange(N) + np.arange(len(x) - N + 1)[:, None]\n",
    "    return np.nanmedian(x[idx], axis=1)"
   ]
  },
  {
   "cell_type": "code",
   "execution_count": 8,
   "metadata": {
    "collapsed": false
   },
   "outputs": [
    {
     "name": "stdout",
     "output_type": "stream",
     "text": [
      "/data2/GBT/3C295/OnOff/scan40.raw.vegas/scan40.raw.vegas.A.fits\n"
     ]
    },
    {
     "name": "stderr",
     "output_type": "stream",
     "text": [
      "/usr/lib/python2.7/site-packages/ipykernel/__main__.py:43: RuntimeWarning: invalid value encountered in greater\n"
     ]
    },
    {
     "data": {
      "image/png": "[encoded data removed]",
      "text/plain": [
       "<matplotlib.figure.Figure at 0x7f45e6ed8d10>"
      ]
     },
     "metadata": {},
     "output_type": "display_data"
    }
   ],
   "source": [
    "test1 = fits.open(fnames[k])\n",
    "print fnames[k]\n",
    "hdu = test1[1]\n",
    "data = hdu.data['DATA']\n",
    "result = {}\n",
    "result['source'] = hdu.data['PROCSCAN'][0]\n",
    "\n",
    "N = 2**14\n",
    "df = hdu.data['CDELT1'][0]\n",
    "center_freq = hdu.data['CRVAL1'][0]\n",
    "centerbin = hdu.data['CRPIX1'][0]\n",
    "index = np.arange(N)\n",
    "if_freqs = freqstest = index * (-df) # in Hz\n",
    "freqs = (center_freq + df * (index + 1 - centerbin))[::-1]\n",
    "result['if_freqs'] = if_freqs\n",
    "result['centerfreq'] = center_freq\n",
    "result['freqs'] = freqs\n",
    "\n",
    "result['xxoff'] = data[::8,::-1]\n",
    "result['xxon'] = data[1::8,::-1]\n",
    "result['yyoff'] = data[2::8,::-1]\n",
    "result['yyon'] = data[3::8,::-1]\n",
    "result['xyoff'] = data[4::8,::-1]\n",
    "result['xyon'] = data[5::8,::-1]\n",
    "result['yxoff'] = data[6::8,::-1]\n",
    "result['yxon'] = data[7::8,::-1]\n",
    "\n",
    "noiser = result['xxon'] - result['xxoff']\n",
    "mask = np.ones(N, dtype=bool)\n",
    "mask[(index % 512) == 0] = False\n",
    "normed_data = (np.nanmedian(result['xxoff'], 0) / np.nanmedian(noiser, 0))\n",
    "normed_data[~mask] = np.nan\n",
    "mvmedspec = moving_median(normed_data, 5)\n",
    "flatdata = (normed_data[:-4] - mvmedspec)\n",
    "madspec = mad(flatdata)\n",
    "mask[if_freqs < 150.e6] = False\n",
    "mask[if_freqs > 1400.e6] = False\n",
    "flatdata[~mask[:-4]] = np.nan\n",
    "if plots:\n",
    "    plot(flatdata)\n",
    "    axhline(18 * madspec, color='r')\n",
    "    ylim(-0.005, 0.03)\n",
    "mask[:-4][flatdata > (18 * madspec)] = False"
   ]
  },
  {
   "cell_type": "code",
   "execution_count": 9,
   "metadata": {
    "collapsed": false
   },
   "outputs": [
    {
     "data": {
      "text/plain": [
       "[<matplotlib.lines.Line2D at 0x7f45b213ab10>]"
      ]
     },
     "execution_count": 9,
     "metadata": {},
     "output_type": "execute_result"
    },
    {
     "data": {
      "image/png": "[encoded data removed]",
      "text/plain": [
       "<matplotlib.figure.Figure at 0x7f45e6f4b210>"
      ]
     },
     "metadata": {},
     "output_type": "display_data"
    }
   ],
   "source": [
    "plot(mask)"
   ]
  },
  {
   "cell_type": "code",
   "execution_count": 10,
   "metadata": {
    "collapsed": true
   },
   "outputs": [],
   "source": [
    "xx = result['xxoff']"
   ]
  },
  {
   "cell_type": "code",
   "execution_count": 11,
   "metadata": {
    "collapsed": false
   },
   "outputs": [
    {
     "data": {
      "text/plain": [
       "(1431, 16384)"
      ]
     },
     "execution_count": 11,
     "metadata": {},
     "output_type": "execute_result"
    }
   ],
   "source": [
    "xx.shape"
   ]
  },
  {
   "cell_type": "code",
   "execution_count": 12,
   "metadata": {
    "collapsed": false
   },
   "outputs": [
    {
     "data": {
      "text/plain": [
       "(16384,)"
      ]
     },
     "execution_count": 12,
     "metadata": {},
     "output_type": "execute_result"
    }
   ],
   "source": [
    "mask.shape"
   ]
  },
  {
   "cell_type": "code",
   "execution_count": 13,
   "metadata": {
    "collapsed": false
   },
   "outputs": [
    {
     "name": "stderr",
     "output_type": "stream",
     "text": [
      "/usr/lib/python2.7/site-packages/ipykernel/__main__.py:1: VisibleDeprecationWarning: boolean index did not match indexed array along dimension 0; dimension is 1431 but corresponding boolean dimension is 1\n",
      "  if __name__ == '__main__':\n"
     ]
    }
   ],
   "source": [
    "newxx = xx[mask[None,:]]"
   ]
  },
  {
   "cell_type": "code",
   "execution_count": 14,
   "metadata": {
    "collapsed": false
   },
   "outputs": [
    {
     "data": {
      "text/plain": [
       "(1, 16384)"
      ]
     },
     "execution_count": 14,
     "metadata": {},
     "output_type": "execute_result"
    }
   ],
   "source": [
    "mask[None,:].shape"
   ]
  },
  {
   "cell_type": "code",
   "execution_count": null,
   "metadata": {
    "collapsed": true
   },
   "outputs": [],
   "source": []
  },
  {
   "cell_type": "code",
   "execution_count": null,
   "metadata": {
    "collapsed": true
   },
   "outputs": [],
   "source": []
  },
  {
   "cell_type": "code",
   "execution_count": null,
   "metadata": {
    "collapsed": true
   },
   "outputs": [],
   "source": []
  },
  {
   "cell_type": "code",
   "execution_count": 51,
   "metadata": {
    "collapsed": false
   },
   "outputs": [
    {
     "name": "stderr",
     "output_type": "stream",
     "text": [
      "/usr/lib/python2.7/site-packages/ipykernel/__main__.py:1: VisibleDeprecationWarning: boolean index did not match indexed array along dimension 0; dimension is 1431 but corresponding boolean dimension is 16384\n",
      "  if __name__ == '__main__':\n"
     ]
    },
    {
     "ename": "IndexError",
     "evalue": "index 1639 is out of bounds for axis 0 with size 1431",
     "output_type": "error",
     "traceback": [
      "\u001b[0;31m---------------------------------------------------------------------------\u001b[0m",
      "\u001b[0;31mIndexError\u001b[0m                                Traceback (most recent call last)",
      "\u001b[0;32m<ipython-input-51-a89bfdb8565f>\u001b[0m in \u001b[0;36m<module>\u001b[0;34m()\u001b[0m\n\u001b[0;32m----> 1\u001b[0;31m \u001b[0mresult\u001b[0m\u001b[0;34m[\u001b[0m\u001b[0;34m'xxoff'\u001b[0m\u001b[0;34m]\u001b[0m \u001b[0;34m=\u001b[0m \u001b[0mresult\u001b[0m\u001b[0;34m[\u001b[0m\u001b[0;34m'xxoff'\u001b[0m\u001b[0;34m]\u001b[0m\u001b[0;34m[\u001b[0m\u001b[0mmask\u001b[0m\u001b[0;34m]\u001b[0m\u001b[0;34m\u001b[0m\u001b[0m\n\u001b[0m",
      "\u001b[0;31mIndexError\u001b[0m: index 1639 is out of bounds for axis 0 with size 1431"
     ]
    }
   ],
   "source": [
    "result['xxoff'] = result['xxoff'][mask]"
   ]
  },
  {
   "cell_type": "code",
   "execution_count": 34,
   "metadata": {
    "collapsed": false
   },
   "outputs": [],
   "source": []
  }
 ],
 "metadata": {
  "kernelspec": {
   "display_name": "Python 2",
   "language": "python",
   "name": "python2"
  },
  "language_info": {
   "codemirror_mode": {
    "name": "ipython",
    "version": 2
   },
   "file_extension": ".py",
   "mimetype": "text/x-python",
   "name": "python",
   "nbconvert_exporter": "python",
   "pygments_lexer": "ipython2",
   "version": "2.7.13"
  }
 },
 "nbformat": 4,
 "nbformat_minor": 2
}
