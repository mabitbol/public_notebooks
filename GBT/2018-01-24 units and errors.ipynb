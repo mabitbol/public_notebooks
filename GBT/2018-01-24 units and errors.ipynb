{
 "cells": [
  {
   "cell_type": "code",
   "execution_count": 1,
   "metadata": {
    "collapsed": false
   },
   "outputs": [
    {
     "name": "stdout",
     "output_type": "stream",
     "text": [
      "Populating the interactive namespace from numpy and matplotlib\n"
     ]
    }
   ],
   "source": [
    "%pylab inline"
   ]
  },
  {
   "cell_type": "code",
   "execution_count": 2,
   "metadata": {
    "collapsed": true
   },
   "outputs": [],
   "source": [
    "from astropy.io import fits\n",
    "import healpy as hp"
   ]
  },
  {
   "cell_type": "code",
   "execution_count": 3,
   "metadata": {
    "collapsed": true
   },
   "outputs": [],
   "source": [
    "kboltz=1.3806503e-23 #MKS\n",
    "clight=299792458.0 #MKS\n",
    "hplanck=6.626068e-34 #MKS\n",
    "TCMB = 2.72548 #Kelvin\n",
    "d2r = np.pi / 180."
   ]
  },
  {
   "cell_type": "code",
   "execution_count": 4,
   "metadata": {
    "collapsed": true
   },
   "outputs": [],
   "source": [
    "lonc = 107.2\n",
    "latc = 5.2\n",
    "lonra = [lonc-2., lonc+2.]\n",
    "latra = [latc-2., latc+2.]"
   ]
  },
  {
   "cell_type": "code",
   "execution_count": null,
   "metadata": {
    "collapsed": true
   },
   "outputs": [],
   "source": []
  },
  {
   "cell_type": "code",
   "execution_count": 84,
   "metadata": {
    "collapsed": false
   },
   "outputs": [
    {
     "name": "stdout",
     "output_type": "stream",
     "text": [
      "38.35965385662121\n",
      "0.7093497392492907\n"
     ]
    }
   ],
   "source": [
    "wmap = '../externaldata/wmap_band_smth_imap_r9_9yr_K_v5.fits'\n",
    "nu=22.71e9\n",
    "wmapmap = hp.read_map(wmap, verbose=False) * 1.e-3\n",
    "x = np.copy(wmapmap)\n",
    "nside = hp.get_nside(x)\n",
    "vecc = hp.rotator.dir2vec(lonc, latc, lonlat=True)\n",
    "rmask = hp.query_disc(nside, vecc, 1.*d2r, inclusive=False)\n",
    "amaskout = set(hp.query_disc(nside, vecc, 2.*d2r, inclusive=False))\n",
    "amaskin = set(hp.query_disc(nside, vecc, (80./60.)*d2r, inclusive=False))\n",
    "amask = np.array(list(amaskout.difference(amaskin)))\n",
    "\n",
    "X = hplanck * nu / (kboltz * TCMB) \n",
    "kthermo_to_intensity = 2. * kboltz * (nu / clight)**2 * (X**2 * np.exp(X)) / (np.exp(X) - 1.)**2\n",
    "y = x * kthermo_to_intensity * hp.nside2pixarea(nside) * 1.e26 \n",
    "\n",
    "rdata = y[rmask]\n",
    "adata = y[amask]\n",
    "flux = np.sum(rdata - np.median(adata))\n",
    "print flux\n",
    "rms = np.std(adata) * np.sqrt(float(len(rdata)) + pi/2. * float(len(rdata)**2) / float(len(adata)))\n",
    "print rms"
   ]
  },
  {
   "cell_type": "code",
   "execution_count": null,
   "metadata": {
    "collapsed": true
   },
   "outputs": [],
   "source": []
  },
  {
   "cell_type": "code",
   "execution_count": 48,
   "metadata": {
    "collapsed": false
   },
   "outputs": [
    {
     "data": {
      "image/png": "[encoded data removed]",
      "text/plain": [
       "<matplotlib.figure.Figure at 0x7f71f0686f10>"
      ]
     },
     "metadata": {},
     "output_type": "display_data"
    }
   ],
   "source": [
    "hist(rdata);"
   ]
  },
  {
   "cell_type": "code",
   "execution_count": 50,
   "metadata": {
    "collapsed": false
   },
   "outputs": [
    {
     "data": {
      "image/png": "[encoded data removed]",
      "text/plain": [
       "<matplotlib.figure.Figure at 0x7f71ee4c1750>"
      ]
     },
     "metadata": {},
     "output_type": "display_data"
    }
   ],
   "source": [
    "hist(adata, bins=20);"
   ]
  },
  {
   "cell_type": "code",
   "execution_count": null,
   "metadata": {
    "collapsed": true
   },
   "outputs": [],
   "source": []
  },
  {
   "cell_type": "code",
   "execution_count": 56,
   "metadata": {
    "collapsed": true
   },
   "outputs": [],
   "source": [
    "Y = adata.copy()\n",
    "Y0 = np.median(adata)"
   ]
  },
  {
   "cell_type": "code",
   "execution_count": 57,
   "metadata": {
    "collapsed": false
   },
   "outputs": [],
   "source": [
    "mad = np.median(np.abs(Y - Y0)) / 0.6745"
   ]
  },
  {
   "cell_type": "code",
   "execution_count": 60,
   "metadata": {
    "collapsed": true
   },
   "outputs": [],
   "source": [
    "U = (Y - Y0) / (6. * mad)\n",
    "UU = U * U"
   ]
  },
  {
   "cell_type": "code",
   "execution_count": 61,
   "metadata": {
    "collapsed": true
   },
   "outputs": [],
   "source": [
    "Q = np.sum(UU <= 1.)"
   ]
  },
  {
   "cell_type": "code",
   "execution_count": 64,
   "metadata": {
    "collapsed": false
   },
   "outputs": [
    {
     "data": {
      "text/plain": [
       "0"
      ]
     },
     "execution_count": 64,
     "metadata": {},
     "output_type": "execute_result"
    }
   ],
   "source": [
    "np.sum( UU > 1.)"
   ]
  },
  {
   "cell_type": "code",
   "execution_count": 66,
   "metadata": {
    "collapsed": false
   },
   "outputs": [
    {
     "name": "stdout",
     "output_type": "stream",
     "text": [
      "0.036877722346639746\n"
     ]
    }
   ],
   "source": [
    "N = len(Y)\n",
    "numerator = np.sum( (Y - Y0)**2 * (1. - UU)**4)\n",
    "den1 = np.sum( (1. - UU)*(1.-5.*UU))\n",
    "sigma = N * numerator/ (den1*(den1-1.))\n",
    "print np.sqrt(sigma)"
   ]
  },
  {
   "cell_type": "code",
   "execution_count": 68,
   "metadata": {
    "collapsed": false
   },
   "outputs": [
    {
     "name": "stdout",
     "output_type": "stream",
     "text": [
      "0.18194216513899886\n",
      "0.03502924596088463\n"
     ]
    }
   ],
   "source": [
    "print np.sqrt(np.mean(adata*adata))\n",
    "print np.std(adata)"
   ]
  },
  {
   "cell_type": "code",
   "execution_count": null,
   "metadata": {
    "collapsed": true
   },
   "outputs": [],
   "source": []
  },
  {
   "cell_type": "code",
   "execution_count": 73,
   "metadata": {
    "collapsed": false
   },
   "outputs": [
    {
     "name": "stdout",
     "output_type": "stream",
     "text": [
      "0.7093497392492907\n"
     ]
    }
   ],
   "source": [
    "rms = np.std(adata) * np.sqrt(float(len(rdata)) + pi/2. * float(len(rdata)**2) / float(len(adata)))\n",
    "print rms"
   ]
  },
  {
   "cell_type": "code",
   "execution_count": null,
   "metadata": {
    "collapsed": true
   },
   "outputs": [],
   "source": []
  },
  {
   "cell_type": "code",
   "execution_count": null,
   "metadata": {
    "collapsed": true
   },
   "outputs": [],
   "source": []
  },
  {
   "cell_type": "code",
   "execution_count": null,
   "metadata": {
    "collapsed": true
   },
   "outputs": [],
   "source": []
  },
  {
   "cell_type": "code",
   "execution_count": null,
   "metadata": {
    "collapsed": true
   },
   "outputs": [],
   "source": []
  },
  {
   "cell_type": "code",
   "execution_count": null,
   "metadata": {
    "collapsed": true
   },
   "outputs": [],
   "source": []
  },
  {
   "cell_type": "code",
   "execution_count": null,
   "metadata": {
    "collapsed": true
   },
   "outputs": [],
   "source": []
  },
  {
   "cell_type": "code",
   "execution_count": null,
   "metadata": {
    "collapsed": true
   },
   "outputs": [],
   "source": []
  },
  {
   "cell_type": "code",
   "execution_count": 41,
   "metadata": {
    "collapsed": true
   },
   "outputs": [],
   "source": [
    "def wmap_calc(wmap, nu):\n",
    "    wmapmap = hp.read_map(wmap, verbose=False) * 1.e-3\n",
    "    x = np.copy(wmapmap)\n",
    "    nside = hp.get_nside(x)\n",
    "    vecc = hp.rotator.dir2vec(lonc, latc, lonlat=True)\n",
    "    rmask = hp.query_disc(nside, vecc, 1.*d2r, inclusive=False)\n",
    "    amaskout = set(hp.query_disc(nside, vecc, 2.*d2r, inclusive=False))\n",
    "    amaskin = set(hp.query_disc(nside, vecc, (80./60.)*d2r, inclusive=False))\n",
    "    #amaskin = set(hp.query_disc(nside, vecc, (1.)*d2r, inclusive=False))\n",
    "    amask = np.array(list(amaskout.difference(amaskin)))\n",
    "    X = hplanck * nu / (kboltz * TCMB) \n",
    "    kthermo_to_intensity = 2. * kboltz * (nu / clight)**2 * (X**2 * np.exp(X)) / (np.exp(X) - 1.)**2\n",
    "    y = x * kthermo_to_intensity * hp.nside2pixarea(nside) * 1.e26 \n",
    "    rdata = y[rmask]\n",
    "    adata = y[amask]\n",
    "    flux = np.sum(rdata - np.median(adata))\n",
    "    print np.sqrt(np.mean(adata*adata))\n",
    "    rms = np.sqrt(np.mean(adata*adata)) * np.sqrt(len(rdata) + pi/2. * float(len(rdata)**2) / len(adata))\n",
    "    print flux\n",
    "    print np.sqrt(rms**2 + (0.03*flux)**2)"
   ]
  },
  {
   "cell_type": "code",
   "execution_count": 42,
   "metadata": {
    "collapsed": false
   },
   "outputs": [
    {
     "name": "stdout",
     "output_type": "stream",
     "text": [
      "0.18194216513899886\n",
      "38.35965385662121\n",
      "3.859907142108996\n"
     ]
    }
   ],
   "source": [
    "wmap_calc('../externaldata/wmap_band_smth_imap_r9_9yr_K_v5.fits', nu=22.71e9)"
   ]
  },
  {
   "cell_type": "code",
   "execution_count": 43,
   "metadata": {
    "collapsed": false
   },
   "outputs": [
    {
     "data": {
      "text/plain": [
       "108.27067669172932"
      ]
     },
     "execution_count": 43,
     "metadata": {},
     "output_type": "execute_result"
    }
   ],
   "source": [
    "240.**2 / 532."
   ]
  },
  {
   "cell_type": "code",
   "execution_count": 45,
   "metadata": {
    "collapsed": false
   },
   "outputs": [
    {
     "data": {
      "text/plain": [
       "3.6855390118169296"
      ]
     },
     "execution_count": 45,
     "metadata": {},
     "output_type": "execute_result"
    }
   ],
   "source": [
    "np.sqrt(240. + pi/2. * float(240.**2) / 532.) * 0.182"
   ]
  },
  {
   "cell_type": "code",
   "execution_count": null,
   "metadata": {
    "collapsed": true
   },
   "outputs": [],
   "source": []
  },
  {
   "cell_type": "code",
   "execution_count": 29,
   "metadata": {
    "collapsed": false
   },
   "outputs": [
    {
     "name": "stdout",
     "output_type": "stream",
     "text": [
      "37.38066469497693\n",
      "3.3860414508627543\n"
     ]
    }
   ],
   "source": [
    "wmap_calc('../externaldata/wmap_band_smth_imap_r9_9yr_Ka_v5.fits', nu=32.95e9)"
   ]
  },
  {
   "cell_type": "code",
   "execution_count": 30,
   "metadata": {
    "collapsed": false
   },
   "outputs": [
    {
     "name": "stdout",
     "output_type": "stream",
     "text": [
      "34.376646740814266\n",
      "3.0600375863565956\n"
     ]
    }
   ],
   "source": [
    "wmap_calc('../externaldata/wmap_band_smth_imap_r9_9yr_Q_v5.fits', nu=40.65e9)"
   ]
  },
  {
   "cell_type": "code",
   "execution_count": 31,
   "metadata": {
    "collapsed": false
   },
   "outputs": [
    {
     "name": "stdout",
     "output_type": "stream",
     "text": [
      "31.730155670253545\n",
      "3.0939233241108277\n"
     ]
    }
   ],
   "source": [
    "wmap_calc('../externaldata/wmap_band_smth_imap_r9_9yr_V_v5.fits', nu=60.64e9)"
   ]
  },
  {
   "cell_type": "code",
   "execution_count": 32,
   "metadata": {
    "collapsed": false
   },
   "outputs": [
    {
     "name": "stdout",
     "output_type": "stream",
     "text": [
      "40.413470525833034\n",
      "6.081227119362329\n"
     ]
    }
   ],
   "source": [
    "wmap_calc('../externaldata/wmap_band_smth_imap_r9_9yr_W_v5.fits', nu=93.44e9)"
   ]
  },
  {
   "cell_type": "code",
   "execution_count": null,
   "metadata": {
    "collapsed": true
   },
   "outputs": [],
   "source": []
  },
  {
   "cell_type": "code",
   "execution_count": null,
   "metadata": {
    "collapsed": true
   },
   "outputs": [],
   "source": []
  },
  {
   "cell_type": "code",
   "execution_count": 22,
   "metadata": {
    "collapsed": false
   },
   "outputs": [
    {
     "name": "stdout",
     "output_type": "stream",
     "text": [
      "38.35965385662121 0.5426707449468384\n"
     ]
    }
   ],
   "source": [
    "wmap_calc('../externaldata/wmap_band_smth_imap_r9_9yr_K_v5.fits', nu=22.71e9)\n",
    "wmap_calc('../externaldata/wmap_band_smth_imap_r9_9yr_Ka_v5.fits', nu=32.95e9)\n",
    "wmap_calc('../externaldata/wmap_band_smth_imap_r9_9yr_Q_v5.fits', nu=40.65e9)\n",
    "wmap_calc('../externaldata/wmap_band_smth_imap_r9_9yr_V_v5.fits', nu=60.64e9)\n",
    "wmap_calc('../externaldata/wmap_band_smth_imap_r9_9yr_W_v5.fits', nu=93.44e9)"
   ]
  },
  {
   "cell_type": "code",
   "execution_count": null,
   "metadata": {
    "collapsed": true
   },
   "outputs": [],
   "source": []
  },
  {
   "cell_type": "code",
   "execution_count": null,
   "metadata": {
    "collapsed": true
   },
   "outputs": [],
   "source": []
  },
  {
   "cell_type": "code",
   "execution_count": 25,
   "metadata": {
    "collapsed": true
   },
   "outputs": [],
   "source": [
    "def planck_calc(planck, nu):\n",
    "    planckmap = hp.read_map(planck, verbose=False)\n",
    "    #planckmap = hp.ud_grade(hp.smoothing(planckmap, fwhm=1.*d2r, verbose=False), 512)\n",
    "    planckmap = hp.smoothing(hp.ud_grade(planckmap, 512), fwhm=1.*d2r, verbose=False)\n",
    "    x = np.copy(planckmap)\n",
    "    nside = hp.get_nside(x)\n",
    "    vecc = hp.rotator.dir2vec(lonc, latc, lonlat=True)\n",
    "    rmask = hp.query_disc(nside, vecc, 1.*d2r)\n",
    "    amaskout = set(hp.query_disc(nside, vecc, 2.*d2r))\n",
    "    amaskin = set(hp.query_disc(nside, vecc, (80./60.)*d2r))\n",
    "    amask = np.array(list(amaskout.difference(amaskin)))\n",
    "    X = hplanck * nu / (kboltz * TCMB) \n",
    "    kthermo_to_intensity = 2. * kboltz * (nu / clight)**2 * (X**2 * np.exp(X)) / (np.exp(X) - 1.)**2\n",
    "    if nu < 400e9:\n",
    "        y = x * kthermo_to_intensity * hp.nside2pixarea(nside) * 1.e26 \n",
    "    else:\n",
    "        y = x * 1e6 * hp.nside2pixarea(nside)\n",
    "    rdata = y[rmask]\n",
    "    adata = y[amask]\n",
    "    print np.sum(rdata - np.median(adata))\n",
    "    print np.sqrt(np.mean(adata*adata)) * np.sqrt(len(rdata) + pi/2. * len(rdata)**2 / len(adata))\n",
    "    print np.std(adata) * np.sqrt(len(rdata) + (pi/2.) * len(rdata)**2 / len(adata))"
   ]
  },
  {
   "cell_type": "code",
   "execution_count": 26,
   "metadata": {
    "collapsed": false
   },
   "outputs": [
    {
     "name": "stdout",
     "output_type": "stream",
     "text": [
      "Sigma is 0.000000 arcmin (0.000000 rad) \n",
      "-> fwhm is 0.000000 arcmin\n",
      "34.093812922653186\n",
      "2.630185067453714\n",
      "0.6535137621509414\n"
     ]
    }
   ],
   "source": [
    "planck_calc('../externaldata/LFI_SkyMap_030-field-IQU_1024_R2.01_full.fits', nu=28.5e9)"
   ]
  },
  {
   "cell_type": "code",
   "execution_count": 27,
   "metadata": {
    "collapsed": false
   },
   "outputs": [
    {
     "name": "stdout",
     "output_type": "stream",
     "text": [
      "Sigma is 0.000000 arcmin (0.000000 rad) \n",
      "-> fwhm is 0.000000 arcmin\n",
      "31.021471724379836\n",
      "2.2178821616832156\n",
      "0.633326023881649\n"
     ]
    }
   ],
   "source": [
    "planck_calc('../externaldata/LFI_SkyMap_044-field-IQU_1024_R2.01_full.fits', nu=44.1e9)"
   ]
  },
  {
   "cell_type": "code",
   "execution_count": 18,
   "metadata": {
    "collapsed": false
   },
   "outputs": [
    {
     "name": "stdout",
     "output_type": "stream",
     "text": [
      "Sigma is 0.000000 arcmin (0.000000 rad) \n",
      "-> fwhm is 0.000000 arcmin\n",
      "30.841654460058532 2.0981977051675265\n"
     ]
    }
   ],
   "source": [
    "planck_calc('../externaldata/LFI_SkyMap_070-field-IQU_1024_R2.01_full.fits', nu=70.3e9)"
   ]
  },
  {
   "cell_type": "code",
   "execution_count": 17,
   "metadata": {
    "collapsed": false
   },
   "outputs": [
    {
     "name": "stdout",
     "output_type": "stream",
     "text": [
      "Sigma is 0.000000 arcmin (0.000000 rad) \n",
      "-> fwhm is 0.000000 arcmin\n",
      "98.28543446191614 3.9672743699352697\n"
     ]
    }
   ],
   "source": [
    "planck_calc('../externaldata/HFI_SkyMap_143-field-IQU_2048_R2.02_full.fits', nu=143.e9)"
   ]
  },
  {
   "cell_type": "code",
   "execution_count": 18,
   "metadata": {
    "collapsed": false
   },
   "outputs": [
    {
     "name": "stdout",
     "output_type": "stream",
     "text": [
      "Sigma is 0.000000 arcmin (0.000000 rad) \n",
      "-> fwhm is 0.000000 arcmin\n",
      "464.5898263892891 15.76435485389136\n"
     ]
    }
   ],
   "source": [
    "planck_calc('../externaldata/HFI_SkyMap_217-field-IQU_2048_R2.02_full.fits', nu=217.e9)"
   ]
  },
  {
   "cell_type": "code",
   "execution_count": 19,
   "metadata": {
    "collapsed": false
   },
   "outputs": [
    {
     "name": "stdout",
     "output_type": "stream",
     "text": [
      "Sigma is 0.000000 arcmin (0.000000 rad) \n",
      "-> fwhm is 0.000000 arcmin\n",
      "1963.3480068325523 64.71523176000684\n"
     ]
    }
   ],
   "source": [
    "planck_calc('../externaldata/HFI_SkyMap_353-field-IQU_2048_R2.02_full.fits', nu=353.e9)"
   ]
  },
  {
   "cell_type": "code",
   "execution_count": 20,
   "metadata": {
    "collapsed": false
   },
   "outputs": [
    {
     "name": "stdout",
     "output_type": "stream",
     "text": [
      "Sigma is 0.000000 arcmin (0.000000 rad) \n",
      "-> fwhm is 0.000000 arcmin\n",
      "6584.776055775203 199.03117217137333\n"
     ]
    }
   ],
   "source": [
    "planck_calc('../externaldata/HFI_SkyMap_545-field-Int_2048_R2.02_full.fits', nu=545.e9)"
   ]
  },
  {
   "cell_type": "code",
   "execution_count": 21,
   "metadata": {
    "collapsed": false
   },
   "outputs": [
    {
     "name": "stdout",
     "output_type": "stream",
     "text": [
      "Sigma is 0.000000 arcmin (0.000000 rad) \n",
      "-> fwhm is 0.000000 arcmin\n",
      "21576.614453742885 559.2828617319477\n"
     ]
    }
   ],
   "source": [
    "planck_calc('../externaldata/HFI_SkyMap_857-field-Int_2048_R2.02_full.fits', nu=857.e9)"
   ]
  },
  {
   "cell_type": "code",
   "execution_count": null,
   "metadata": {
    "collapsed": true
   },
   "outputs": [],
   "source": []
  }
 ],
 "metadata": {
  "kernelspec": {
   "display_name": "Python 2",
   "language": "python",
   "name": "python2"
  },
  "language_info": {
   "codemirror_mode": {
    "name": "ipython",
    "version": 2
   },
   "file_extension": ".py",
   "mimetype": "text/x-python",
   "name": "python",
   "nbconvert_exporter": "python",
   "pygments_lexer": "ipython2",
   "version": "2.7.13"
  }
 },
 "nbformat": 4,
 "nbformat_minor": 2
}
