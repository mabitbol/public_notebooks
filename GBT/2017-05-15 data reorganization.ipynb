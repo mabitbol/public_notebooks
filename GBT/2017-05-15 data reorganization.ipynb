{
 "cells": [
  {
   "cell_type": "code",
   "execution_count": 1,
   "metadata": {
    "collapsed": false
   },
   "outputs": [
    {
     "name": "stdout",
     "output_type": "stream",
     "text": [
      "Populating the interactive namespace from numpy and matplotlib\n"
     ]
    }
   ],
   "source": [
    "%pylab inline"
   ]
  },
  {
   "cell_type": "code",
   "execution_count": 2,
   "metadata": {
    "collapsed": true
   },
   "outputs": [],
   "source": [
    "import glob\n",
    "import os\n",
    "import shutil"
   ]
  },
  {
   "cell_type": "code",
   "execution_count": 3,
   "metadata": {
    "collapsed": true
   },
   "outputs": [],
   "source": [
    "fnames = glob.glob('/data2/GBT/*/*/scan_0*/')"
   ]
  },
  {
   "cell_type": "code",
   "execution_count": 4,
   "metadata": {
    "collapsed": true
   },
   "outputs": [],
   "source": [
    "fnames.sort()"
   ]
  },
  {
   "cell_type": "code",
   "execution_count": 5,
   "metadata": {
    "collapsed": false
   },
   "outputs": [
    {
     "data": {
      "text/plain": [
       "['/data2/GBT/3C245/OnOff/scan_01_125.raw.vegas/',\n",
       " '/data2/GBT/3C245/OnOff/scan_01_126.raw.vegas/',\n",
       " '/data2/GBT/3C245/OnOff/scan_01_25.raw.vegas/',\n",
       " '/data2/GBT/3C245/OnOff/scan_01_26.raw.vegas/',\n",
       " '/data2/GBT/3C245/OnOff/scan_01_95.raw.vegas/',\n",
       " '/data2/GBT/3C245/OnOff/scan_01_96.raw.vegas/',\n",
       " '/data2/GBT/3C245/Spider/scan_01_27.raw.vegas/',\n",
       " '/data2/GBT/3C245/Spider/scan_01_28.raw.vegas/',\n",
       " '/data2/GBT/3C245/Spider/scan_01_30.raw.vegas/',\n",
       " '/data2/GBT/3C245/Spider/scan_01_33.raw.vegas/',\n",
       " '/data2/GBT/3C245/Spider/scan_01_34.raw.vegas/',\n",
       " '/data2/GBT/3C245/Spider/scan_01_35.raw.vegas/',\n",
       " '/data2/GBT/3C245/Spider/scan_01_36.raw.vegas/',\n",
       " '/data2/GBT/3C245/Spider/scan_01_37.raw.vegas/',\n",
       " '/data2/GBT/3C245/Spider/scan_01_38.raw.vegas/',\n",
       " '/data2/GBT/3C273/OnOff/scan_01_127.raw.vegas/',\n",
       " '/data2/GBT/3C273/OnOff/scan_01_128.raw.vegas/',\n",
       " '/data2/GBT/3C273/OnOff/scan_01_79.raw.vegas/',\n",
       " '/data2/GBT/3C273/OnOff/scan_01_80.raw.vegas/',\n",
       " '/data2/GBT/3C273/OnOff/scan_01_97.raw.vegas/',\n",
       " '/data2/GBT/3C273/OnOff/scan_01_98.raw.vegas/',\n",
       " '/data2/GBT/3C273/Spider/scan_01_100.raw.vegas/',\n",
       " '/data2/GBT/3C273/Spider/scan_01_101.raw.vegas/',\n",
       " '/data2/GBT/3C273/Spider/scan_01_102.raw.vegas/',\n",
       " '/data2/GBT/3C273/Spider/scan_01_103.raw.vegas/',\n",
       " '/data2/GBT/3C273/Spider/scan_01_104.raw.vegas/',\n",
       " '/data2/GBT/3C273/Spider/scan_01_105.raw.vegas/',\n",
       " '/data2/GBT/3C273/Spider/scan_01_106.raw.vegas/',\n",
       " '/data2/GBT/3C273/Spider/scan_01_107.raw.vegas/',\n",
       " '/data2/GBT/3C273/Spider/scan_01_108.raw.vegas/',\n",
       " '/data2/GBT/3C273/Spider/scan_01_109.raw.vegas/',\n",
       " '/data2/GBT/3C273/Spider/scan_01_110.raw.vegas/',\n",
       " '/data2/GBT/3C273/Spider/scan_01_81.raw.vegas/',\n",
       " '/data2/GBT/3C273/Spider/scan_01_82.raw.vegas/',\n",
       " '/data2/GBT/3C273/Spider/scan_01_83.raw.vegas/',\n",
       " '/data2/GBT/3C273/Spider/scan_01_84.raw.vegas/',\n",
       " '/data2/GBT/3C273/Spider/scan_01_85.raw.vegas/',\n",
       " '/data2/GBT/3C273/Spider/scan_01_86.raw.vegas/',\n",
       " '/data2/GBT/3C273/Spider/scan_01_87.raw.vegas/',\n",
       " '/data2/GBT/3C273/Spider/scan_01_88.raw.vegas/',\n",
       " '/data2/GBT/3C273/Spider/scan_01_89.raw.vegas/',\n",
       " '/data2/GBT/3C273/Spider/scan_01_90.raw.vegas/',\n",
       " '/data2/GBT/3C273/Spider/scan_01_91.raw.vegas/',\n",
       " '/data2/GBT/3C273/Spider/scan_01_92.raw.vegas/',\n",
       " '/data2/GBT/3C273/Spider/scan_01_99.raw.vegas/',\n",
       " '/data2/GBT/3C280/OnOff/scan_01_111.raw.vegas/',\n",
       " '/data2/GBT/3C280/OnOff/scan_01_112.raw.vegas/',\n",
       " '/data2/GBT/3C280/OnOff/scan_01_129.raw.vegas/',\n",
       " '/data2/GBT/3C280/OnOff/scan_01_130.raw.vegas/',\n",
       " '/data2/GBT/3C280/OnOff/scan_01_131.raw.vegas/',\n",
       " '/data2/GBT/3C280/OnOff/scan_01_132.raw.vegas/',\n",
       " '/data2/GBT/3C280/OnOff/scan_01_133.raw.vegas/',\n",
       " '/data2/GBT/3C280/OnOff/scan_01_134.raw.vegas/',\n",
       " '/data2/GBT/3C280/OnOff/scan_01_139.raw.vegas/',\n",
       " '/data2/GBT/3C280/OnOff/scan_01_140.raw.vegas/',\n",
       " '/data2/GBT/3C280/OnOff/scan_01_141.raw.vegas/',\n",
       " '/data2/GBT/3C280/OnOff/scan_01_142.raw.vegas/',\n",
       " '/data2/GBT/3C280/OnOff/scan_01_143.raw.vegas/',\n",
       " '/data2/GBT/3C280/OnOff/scan_01_144.raw.vegas/',\n",
       " '/data2/GBT/3C280/OnOff/scan_01_145.raw.vegas/',\n",
       " '/data2/GBT/3C280/OnOff/scan_01_146.raw.vegas/',\n",
       " '/data2/GBT/3C280/OnOff/scan_01_147.raw.vegas/',\n",
       " '/data2/GBT/3C280/OnOff/scan_01_148.raw.vegas/',\n",
       " '/data2/GBT/3C280/OnOff/scan_01_149.raw.vegas/',\n",
       " '/data2/GBT/3C280/OnOff/scan_01_150.raw.vegas/',\n",
       " '/data2/GBT/3C280/OnOff/scan_01_151.raw.vegas/',\n",
       " '/data2/GBT/3C280/OnOff/scan_01_152.raw.vegas/',\n",
       " '/data2/GBT/3C280/OnOff/scan_01_153.raw.vegas/',\n",
       " '/data2/GBT/3C280/OnOff/scan_01_154.raw.vegas/',\n",
       " '/data2/GBT/3C280/OnOff/scan_01_155.raw.vegas/',\n",
       " '/data2/GBT/3C280/OnOff/scan_01_156.raw.vegas/',\n",
       " '/data2/GBT/3C280/OnOff/scan_01_157.raw.vegas/',\n",
       " '/data2/GBT/3C280/OnOff/scan_01_158.raw.vegas/',\n",
       " '/data2/GBT/3C280/OnOff/scan_01_159.raw.vegas/',\n",
       " '/data2/GBT/3C280/OnOff/scan_01_160.raw.vegas/',\n",
       " '/data2/GBT/3C280/OnOff/scan_01_161.raw.vegas/',\n",
       " '/data2/GBT/3C280/OnOff/scan_01_162.raw.vegas/',\n",
       " '/data2/GBT/3C280/OnOff/scan_01_163.raw.vegas/',\n",
       " '/data2/GBT/3C280/OnOff/scan_01_164.raw.vegas/',\n",
       " '/data2/GBT/3C280/OnOff/scan_01_165.raw.vegas/',\n",
       " '/data2/GBT/3C280/OnOff/scan_01_166.raw.vegas/',\n",
       " '/data2/GBT/3C280/OnOff/scan_01_167.raw.vegas/',\n",
       " '/data2/GBT/3C280/OnOff/scan_01_168.raw.vegas/',\n",
       " '/data2/GBT/3C280/OnOff/scan_01_21.raw.vegas/',\n",
       " '/data2/GBT/3C280/OnOff/scan_01_22.raw.vegas/',\n",
       " '/data2/GBT/3C280/OnOff/scan_01_23.raw.vegas/',\n",
       " '/data2/GBT/3C280/OnOff/scan_01_24.raw.vegas/',\n",
       " '/data2/GBT/3C280/OnOff/scan_01_60.raw.vegas/',\n",
       " '/data2/GBT/3C280/OnOff/scan_01_61.raw.vegas/',\n",
       " '/data2/GBT/3C280/OnOff/scan_01_93.raw.vegas/',\n",
       " '/data2/GBT/3C280/OnOff/scan_01_94.raw.vegas/',\n",
       " '/data2/GBT/3C280/Spider/scan_01_113.raw.vegas/',\n",
       " '/data2/GBT/3C280/Spider/scan_01_114.raw.vegas/',\n",
       " '/data2/GBT/3C280/Spider/scan_01_115.raw.vegas/',\n",
       " '/data2/GBT/3C280/Spider/scan_01_116.raw.vegas/',\n",
       " '/data2/GBT/3C280/Spider/scan_01_117.raw.vegas/',\n",
       " '/data2/GBT/3C280/Spider/scan_01_118.raw.vegas/',\n",
       " '/data2/GBT/3C280/Spider/scan_01_119.raw.vegas/',\n",
       " '/data2/GBT/3C280/Spider/scan_01_120.raw.vegas/',\n",
       " '/data2/GBT/3C280/Spider/scan_01_121.raw.vegas/',\n",
       " '/data2/GBT/3C280/Spider/scan_01_122.raw.vegas/',\n",
       " '/data2/GBT/3C280/Spider/scan_01_123.raw.vegas/',\n",
       " '/data2/GBT/3C280/Spider/scan_01_124.raw.vegas/',\n",
       " '/data2/GBT/3C280/Spider/scan_01_62.raw.vegas/',\n",
       " '/data2/GBT/3C280/Spider/scan_01_63.raw.vegas/',\n",
       " '/data2/GBT/3C280/Spider/scan_01_64.raw.vegas/',\n",
       " '/data2/GBT/3C280/Spider/scan_01_65.raw.vegas/',\n",
       " '/data2/GBT/3C280/Spider/scan_01_66.raw.vegas/',\n",
       " '/data2/GBT/3C280/Spider/scan_01_67.raw.vegas/',\n",
       " '/data2/GBT/3C280/Spider/scan_01_68.raw.vegas/',\n",
       " '/data2/GBT/3C280/Spider/scan_01_69.raw.vegas/',\n",
       " '/data2/GBT/3C280/Spider/scan_01_70.raw.vegas/',\n",
       " '/data2/GBT/3C280/Spider/scan_01_71.raw.vegas/',\n",
       " '/data2/GBT/3C280/Spider/scan_01_72.raw.vegas/',\n",
       " '/data2/GBT/3C280/Spider/scan_01_73.raw.vegas/',\n",
       " '/data2/GBT/3C286/OnOff/scan_01_74.raw.vegas/',\n",
       " '/data2/GBT/3C286/OnOff/scan_01_75.raw.vegas/',\n",
       " '/data2/GBT/3C286/OnOff/scan_02_8.raw.vegas/',\n",
       " '/data2/GBT/3C286/OnOff/scan_02_9.raw.vegas/',\n",
       " '/data2/GBT/3C295/OnOff/scan_01_39.raw.vegas/',\n",
       " '/data2/GBT/3C295/OnOff/scan_01_40.raw.vegas/',\n",
       " '/data2/GBT/3C295/OnOff/scan_01_7.raw.vegas/',\n",
       " '/data2/GBT/3C295/OnOff/scan_01_8.raw.vegas/',\n",
       " '/data2/GBT/3C295/OnOff/scan_02_6.raw.vegas/',\n",
       " '/data2/GBT/3C295/OnOff/scan_02_7.raw.vegas/',\n",
       " '/data2/GBT/3C295/OnOff/scan_03_6.raw.vegas/',\n",
       " '/data2/GBT/3C295/OnOff/scan_03_7.raw.vegas/',\n",
       " '/data2/GBT/3C295/Spider/scan_01_10.raw.vegas/',\n",
       " '/data2/GBT/3C295/Spider/scan_01_11.raw.vegas/',\n",
       " '/data2/GBT/3C295/Spider/scan_01_12.raw.vegas/',\n",
       " '/data2/GBT/3C295/Spider/scan_01_13.raw.vegas/',\n",
       " '/data2/GBT/3C295/Spider/scan_01_14.raw.vegas/',\n",
       " '/data2/GBT/3C295/Spider/scan_01_15.raw.vegas/',\n",
       " '/data2/GBT/3C295/Spider/scan_01_16.raw.vegas/',\n",
       " '/data2/GBT/3C295/Spider/scan_01_17.raw.vegas/',\n",
       " '/data2/GBT/3C295/Spider/scan_01_18.raw.vegas/',\n",
       " '/data2/GBT/3C295/Spider/scan_01_19.raw.vegas/',\n",
       " '/data2/GBT/3C295/Spider/scan_01_20.raw.vegas/',\n",
       " '/data2/GBT/3C295/Spider/scan_01_48.raw.vegas/',\n",
       " '/data2/GBT/3C295/Spider/scan_01_49.raw.vegas/',\n",
       " '/data2/GBT/3C295/Spider/scan_01_50.raw.vegas/',\n",
       " '/data2/GBT/3C295/Spider/scan_01_51.raw.vegas/',\n",
       " '/data2/GBT/3C295/Spider/scan_01_52.raw.vegas/',\n",
       " '/data2/GBT/3C295/Spider/scan_01_53.raw.vegas/',\n",
       " '/data2/GBT/3C295/Spider/scan_01_54.raw.vegas/',\n",
       " '/data2/GBT/3C295/Spider/scan_01_55.raw.vegas/',\n",
       " '/data2/GBT/3C295/Spider/scan_01_56.raw.vegas/',\n",
       " '/data2/GBT/3C295/Spider/scan_01_57.raw.vegas/',\n",
       " '/data2/GBT/3C295/Spider/scan_01_58.raw.vegas/',\n",
       " '/data2/GBT/3C295/Spider/scan_01_59.raw.vegas/',\n",
       " '/data2/GBT/3C295/Spider/scan_01_9.raw.vegas/',\n",
       " '/data2/GBT/S140/Daisy/scan_01_41.raw.vegas/',\n",
       " '/data2/GBT/S140/Daisy/scan_01_42.raw.vegas/',\n",
       " '/data2/GBT/S140/Daisy/scan_01_44.raw.vegas/',\n",
       " '/data2/GBT/S140/Daisy/scan_01_45.raw.vegas/',\n",
       " '/data2/GBT/S140/Daisy/scan_01_46.raw.vegas/',\n",
       " '/data2/GBT/S140/Daisy/scan_01_47.raw.vegas/',\n",
       " '/data2/GBT/S140/Daisy/scan_02_17.raw.vegas/',\n",
       " '/data2/GBT/S140/Daisy/scan_02_18.raw.vegas/',\n",
       " '/data2/GBT/S140/Daisy/scan_02_19.raw.vegas/',\n",
       " '/data2/GBT/S140/Daisy/scan_02_20.raw.vegas/',\n",
       " '/data2/GBT/S140/Daisy/scan_02_21.raw.vegas/',\n",
       " '/data2/GBT/S140/Daisy/scan_02_22.raw.vegas/',\n",
       " '/data2/GBT/S140/Daisy/scan_02_23.raw.vegas/',\n",
       " '/data2/GBT/S140/Daisy/scan_02_24.raw.vegas/',\n",
       " '/data2/GBT/S140/Daisy/scan_02_25.raw.vegas/',\n",
       " '/data2/GBT/S140/Daisy/scan_02_26.raw.vegas/',\n",
       " '/data2/GBT/S140/Daisy/scan_02_28.raw.vegas/',\n",
       " '/data2/GBT/S140/Daisy/scan_02_29.raw.vegas/',\n",
       " '/data2/GBT/S140/Daisy/scan_02_30.raw.vegas/',\n",
       " '/data2/GBT/S140/Daisy/scan_02_31.raw.vegas/',\n",
       " '/data2/GBT/S140/Daisy/scan_02_32.raw.vegas/',\n",
       " '/data2/GBT/S140/Daisy/scan_02_33.raw.vegas/',\n",
       " '/data2/GBT/S140/Daisy/scan_02_34.raw.vegas/',\n",
       " '/data2/GBT/S140/Daisy/scan_02_35.raw.vegas/',\n",
       " '/data2/GBT/S140/Daisy/scan_02_36.raw.vegas/',\n",
       " '/data2/GBT/S140/Daisy/scan_02_37.raw.vegas/',\n",
       " '/data2/GBT/S140/Daisy/scan_02_38.raw.vegas/',\n",
       " '/data2/GBT/S140/Daisy/scan_02_39.raw.vegas/',\n",
       " '/data2/GBT/S140/Daisy/scan_02_40.raw.vegas/',\n",
       " '/data2/GBT/S140/Daisy/scan_02_41.raw.vegas/',\n",
       " '/data2/GBT/S140/Daisy/scan_02_42.raw.vegas/',\n",
       " '/data2/GBT/S140/Daisy/scan_03_10.raw.vegas/',\n",
       " '/data2/GBT/S140/Daisy/scan_03_11.raw.vegas/',\n",
       " '/data2/GBT/S140/Daisy/scan_03_12.raw.vegas/',\n",
       " '/data2/GBT/S140/Daisy/scan_03_13.raw.vegas/',\n",
       " '/data2/GBT/S140/Daisy/scan_03_14.raw.vegas/',\n",
       " '/data2/GBT/S140/Daisy/scan_03_15.raw.vegas/',\n",
       " '/data2/GBT/S140/Daisy/scan_03_16.raw.vegas/',\n",
       " '/data2/GBT/S140/Daisy/scan_03_17.raw.vegas/',\n",
       " '/data2/GBT/S140/Daisy/scan_03_18.raw.vegas/',\n",
       " '/data2/GBT/S140/Daisy/scan_03_19.raw.vegas/',\n",
       " '/data2/GBT/S140/Daisy/scan_03_20.raw.vegas/',\n",
       " '/data2/GBT/S140/Daisy/scan_03_21.raw.vegas/',\n",
       " '/data2/GBT/S140/Daisy/scan_03_22.raw.vegas/',\n",
       " '/data2/GBT/S140/Daisy/scan_03_23.raw.vegas/',\n",
       " '/data2/GBT/S140/Daisy/scan_03_24.raw.vegas/',\n",
       " '/data2/GBT/S140/Daisy/scan_03_25.raw.vegas/',\n",
       " '/data2/GBT/S140/Daisy/scan_03_26.raw.vegas/',\n",
       " '/data2/GBT/S140/Daisy/scan_03_27.raw.vegas/',\n",
       " '/data2/GBT/S140/Daisy/scan_03_28.raw.vegas/',\n",
       " '/data2/GBT/S140/Daisy/scan_03_29.raw.vegas/',\n",
       " '/data2/GBT/S140/Daisy/scan_03_30.raw.vegas/',\n",
       " '/data2/GBT/S140/Daisy/scan_03_31.raw.vegas/',\n",
       " '/data2/GBT/S140/Daisy/scan_03_8.raw.vegas/',\n",
       " '/data2/GBT/S140/Daisy/scan_03_9.raw.vegas/']"
      ]
     },
     "execution_count": 5,
     "metadata": {},
     "output_type": "execute_result"
    }
   ],
   "source": [
    "fnames"
   ]
  },
  {
   "cell_type": "code",
   "execution_count": 6,
   "metadata": {
    "collapsed": false
   },
   "outputs": [
    {
     "data": {
      "text/plain": [
       "206"
      ]
     },
     "execution_count": 6,
     "metadata": {},
     "output_type": "execute_result"
    }
   ],
   "source": [
    "len(fnames)"
   ]
  },
  {
   "cell_type": "code",
   "execution_count": 7,
   "metadata": {
    "collapsed": false
   },
   "outputs": [
    {
     "data": {
      "text/plain": [
       "'/data2/GBT/3C245/OnOff/scan_01_125.raw.vegas/'"
      ]
     },
     "execution_count": 7,
     "metadata": {},
     "output_type": "execute_result"
    }
   ],
   "source": [
    "fnames[0]"
   ]
  },
  {
   "cell_type": "code",
   "execution_count": 8,
   "metadata": {
    "collapsed": false
   },
   "outputs": [
    {
     "data": {
      "text/plain": [
       "['/data2/GBT/3C245/OnOff/', '125.raw.vegas/']"
      ]
     },
     "execution_count": 8,
     "metadata": {},
     "output_type": "execute_result"
    }
   ],
   "source": [
    "fnames[0].split('scan_01_')"
   ]
  },
  {
   "cell_type": "code",
   "execution_count": 9,
   "metadata": {
    "collapsed": false
   },
   "outputs": [
    {
     "data": {
      "text/plain": [
       "['125', '.vegas/']"
      ]
     },
     "execution_count": 9,
     "metadata": {},
     "output_type": "execute_result"
    }
   ],
   "source": [
    "fnames[0].split('scan_01_')[1].split('.raw')"
   ]
  },
  {
   "cell_type": "code",
   "execution_count": 10,
   "metadata": {
    "collapsed": false
   },
   "outputs": [
    {
     "data": {
      "text/plain": [
       "3"
      ]
     },
     "execution_count": 10,
     "metadata": {},
     "output_type": "execute_result"
    }
   ],
   "source": [
    "len(fnames[0].split('scan_01_')[1].split('.raw')[0])"
   ]
  },
  {
   "cell_type": "code",
   "execution_count": null,
   "metadata": {
    "collapsed": true
   },
   "outputs": [],
   "source": []
  },
  {
   "cell_type": "code",
   "execution_count": null,
   "metadata": {
    "collapsed": true
   },
   "outputs": [],
   "source": []
  },
  {
   "cell_type": "code",
   "execution_count": 11,
   "metadata": {
    "collapsed": false
   },
   "outputs": [
    {
     "name": "stdout",
     "output_type": "stream",
     "text": [
      "/data2/GBT/3C245/OnOff/scan_01_025.raw.vegas/\n",
      "/data2/GBT/3C245/OnOff/scan_01_026.raw.vegas/\n",
      "/data2/GBT/3C245/OnOff/scan_01_095.raw.vegas/\n",
      "/data2/GBT/3C245/OnOff/scan_01_096.raw.vegas/\n",
      "/data2/GBT/3C245/Spider/scan_01_027.raw.vegas/\n",
      "/data2/GBT/3C245/Spider/scan_01_028.raw.vegas/\n",
      "/data2/GBT/3C245/Spider/scan_01_030.raw.vegas/\n",
      "/data2/GBT/3C245/Spider/scan_01_033.raw.vegas/\n",
      "/data2/GBT/3C245/Spider/scan_01_034.raw.vegas/\n",
      "/data2/GBT/3C245/Spider/scan_01_035.raw.vegas/\n",
      "/data2/GBT/3C245/Spider/scan_01_036.raw.vegas/\n",
      "/data2/GBT/3C245/Spider/scan_01_037.raw.vegas/\n",
      "/data2/GBT/3C245/Spider/scan_01_038.raw.vegas/\n",
      "/data2/GBT/3C273/OnOff/scan_01_079.raw.vegas/\n",
      "/data2/GBT/3C273/OnOff/scan_01_080.raw.vegas/\n",
      "/data2/GBT/3C273/OnOff/scan_01_097.raw.vegas/\n",
      "/data2/GBT/3C273/OnOff/scan_01_098.raw.vegas/\n",
      "/data2/GBT/3C273/Spider/scan_01_081.raw.vegas/\n",
      "/data2/GBT/3C273/Spider/scan_01_082.raw.vegas/\n",
      "/data2/GBT/3C273/Spider/scan_01_083.raw.vegas/\n",
      "/data2/GBT/3C273/Spider/scan_01_084.raw.vegas/\n",
      "/data2/GBT/3C273/Spider/scan_01_085.raw.vegas/\n",
      "/data2/GBT/3C273/Spider/scan_01_086.raw.vegas/\n",
      "/data2/GBT/3C273/Spider/scan_01_087.raw.vegas/\n",
      "/data2/GBT/3C273/Spider/scan_01_088.raw.vegas/\n",
      "/data2/GBT/3C273/Spider/scan_01_089.raw.vegas/\n",
      "/data2/GBT/3C273/Spider/scan_01_090.raw.vegas/\n",
      "/data2/GBT/3C273/Spider/scan_01_091.raw.vegas/\n",
      "/data2/GBT/3C273/Spider/scan_01_092.raw.vegas/\n",
      "/data2/GBT/3C273/Spider/scan_01_099.raw.vegas/\n",
      "/data2/GBT/3C280/OnOff/scan_01_021.raw.vegas/\n",
      "/data2/GBT/3C280/OnOff/scan_01_022.raw.vegas/\n",
      "/data2/GBT/3C280/OnOff/scan_01_023.raw.vegas/\n",
      "/data2/GBT/3C280/OnOff/scan_01_024.raw.vegas/\n",
      "/data2/GBT/3C280/OnOff/scan_01_060.raw.vegas/\n",
      "/data2/GBT/3C280/OnOff/scan_01_061.raw.vegas/\n",
      "/data2/GBT/3C280/OnOff/scan_01_093.raw.vegas/\n",
      "/data2/GBT/3C280/OnOff/scan_01_094.raw.vegas/\n",
      "/data2/GBT/3C280/Spider/scan_01_062.raw.vegas/\n",
      "/data2/GBT/3C280/Spider/scan_01_063.raw.vegas/\n",
      "/data2/GBT/3C280/Spider/scan_01_064.raw.vegas/\n",
      "/data2/GBT/3C280/Spider/scan_01_065.raw.vegas/\n",
      "/data2/GBT/3C280/Spider/scan_01_066.raw.vegas/\n",
      "/data2/GBT/3C280/Spider/scan_01_067.raw.vegas/\n",
      "/data2/GBT/3C280/Spider/scan_01_068.raw.vegas/\n",
      "/data2/GBT/3C280/Spider/scan_01_069.raw.vegas/\n",
      "/data2/GBT/3C280/Spider/scan_01_070.raw.vegas/\n",
      "/data2/GBT/3C280/Spider/scan_01_071.raw.vegas/\n",
      "/data2/GBT/3C280/Spider/scan_01_072.raw.vegas/\n",
      "/data2/GBT/3C280/Spider/scan_01_073.raw.vegas/\n",
      "/data2/GBT/3C286/OnOff/scan_01_074.raw.vegas/\n",
      "/data2/GBT/3C286/OnOff/scan_01_075.raw.vegas/\n",
      "/data2/GBT/3C295/OnOff/scan_01_039.raw.vegas/\n",
      "/data2/GBT/3C295/OnOff/scan_01_040.raw.vegas/\n",
      "/data2/GBT/3C295/OnOff/scan_01_007.raw.vegas/\n",
      "/data2/GBT/3C295/OnOff/scan_01_008.raw.vegas/\n",
      "/data2/GBT/3C295/Spider/scan_01_010.raw.vegas/\n",
      "/data2/GBT/3C295/Spider/scan_01_011.raw.vegas/\n",
      "/data2/GBT/3C295/Spider/scan_01_012.raw.vegas/\n",
      "/data2/GBT/3C295/Spider/scan_01_013.raw.vegas/\n",
      "/data2/GBT/3C295/Spider/scan_01_014.raw.vegas/\n",
      "/data2/GBT/3C295/Spider/scan_01_015.raw.vegas/\n",
      "/data2/GBT/3C295/Spider/scan_01_016.raw.vegas/\n",
      "/data2/GBT/3C295/Spider/scan_01_017.raw.vegas/\n",
      "/data2/GBT/3C295/Spider/scan_01_018.raw.vegas/\n",
      "/data2/GBT/3C295/Spider/scan_01_019.raw.vegas/\n",
      "/data2/GBT/3C295/Spider/scan_01_020.raw.vegas/\n",
      "/data2/GBT/3C295/Spider/scan_01_048.raw.vegas/\n",
      "/data2/GBT/3C295/Spider/scan_01_049.raw.vegas/\n",
      "/data2/GBT/3C295/Spider/scan_01_050.raw.vegas/\n",
      "/data2/GBT/3C295/Spider/scan_01_051.raw.vegas/\n",
      "/data2/GBT/3C295/Spider/scan_01_052.raw.vegas/\n",
      "/data2/GBT/3C295/Spider/scan_01_053.raw.vegas/\n",
      "/data2/GBT/3C295/Spider/scan_01_054.raw.vegas/\n",
      "/data2/GBT/3C295/Spider/scan_01_055.raw.vegas/\n",
      "/data2/GBT/3C295/Spider/scan_01_056.raw.vegas/\n",
      "/data2/GBT/3C295/Spider/scan_01_057.raw.vegas/\n",
      "/data2/GBT/3C295/Spider/scan_01_058.raw.vegas/\n",
      "/data2/GBT/3C295/Spider/scan_01_059.raw.vegas/\n",
      "/data2/GBT/3C295/Spider/scan_01_009.raw.vegas/\n",
      "/data2/GBT/S140/Daisy/scan_01_041.raw.vegas/\n",
      "/data2/GBT/S140/Daisy/scan_01_042.raw.vegas/\n",
      "/data2/GBT/S140/Daisy/scan_01_044.raw.vegas/\n",
      "/data2/GBT/S140/Daisy/scan_01_045.raw.vegas/\n",
      "/data2/GBT/S140/Daisy/scan_01_046.raw.vegas/\n",
      "/data2/GBT/S140/Daisy/scan_01_047.raw.vegas/\n"
     ]
    }
   ],
   "source": [
    "for k in range(len(fnames)):\n",
    "    sname = 'scan_01_'\n",
    "    if sname in fnames[k]:\n",
    "        x = fnames[k].split(sname)\n",
    "        ndigits = len(x[1].split('.raw')[0])\n",
    "        if ndigits < 3:\n",
    "            if ndigits == 1:\n",
    "                nzs = '00'\n",
    "            elif ndigits == 2:\n",
    "                nzs = '0'\n",
    "            newname = x[0] + sname + nzs + x[1]\n",
    "            print newname"
   ]
  },
  {
   "cell_type": "code",
   "execution_count": null,
   "metadata": {
    "collapsed": true
   },
   "outputs": [],
   "source": []
  },
  {
   "cell_type": "code",
   "execution_count": null,
   "metadata": {
    "collapsed": true
   },
   "outputs": [],
   "source": []
  },
  {
   "cell_type": "code",
   "execution_count": null,
   "metadata": {
    "collapsed": true
   },
   "outputs": [],
   "source": []
  }
 ],
 "metadata": {
  "kernelspec": {
   "display_name": "Python 2",
   "language": "python",
   "name": "python2"
  },
  "language_info": {
   "codemirror_mode": {
    "name": "ipython",
    "version": 2
   },
   "file_extension": ".py",
   "mimetype": "text/x-python",
   "name": "python",
   "nbconvert_exporter": "python",
   "pygments_lexer": "ipython2",
   "version": "2.7.13"
  }
 },
 "nbformat": 4,
 "nbformat_minor": 2
}
