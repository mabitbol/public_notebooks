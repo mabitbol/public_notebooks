{
 "cells": [
  {
   "cell_type": "code",
   "execution_count": 1,
   "metadata": {
    "collapsed": false
   },
   "outputs": [
    {
     "name": "stdout",
     "output_type": "stream",
     "text": [
      "Populating the interactive namespace from numpy and matplotlib\n"
     ]
    }
   ],
   "source": [
    "%pylab inline"
   ]
  },
  {
   "cell_type": "code",
   "execution_count": 2,
   "metadata": {
    "collapsed": true
   },
   "outputs": [],
   "source": [
    "import glob\n",
    "from scipy.ndimage.filters import gaussian_filter\n",
    "from astropy.io import fits\n",
    "from astropy.wcs import WCS\n",
    "import healpy as hp\n",
    "import reproject"
   ]
  },
  {
   "cell_type": "code",
   "execution_count": 3,
   "metadata": {
    "collapsed": true
   },
   "outputs": [],
   "source": [
    "from __future__ import unicode_literals\n",
    "\n",
    "figsize(8,6)\n",
    "\n",
    "matplotlib.rcParams['text.usetex'] = True\n",
    "matplotlib.rcParams['text.latex.unicode'] = True\n",
    "    \n",
    "rcParams['xtick.labelsize'] = 20\n",
    "rcParams['xtick.major.size'] = 10\n",
    "rcParams['xtick.major.width'] = 1\n",
    "rcParams['xtick.major.pad'] = 10\n",
    "rcParams['xtick.minor.size'] = 5\n",
    "rcParams['xtick.minor.width'] = 1\n",
    "\n",
    "rcParams['ytick.labelsize'] = 20\n",
    "rcParams['ytick.major.size'] = 10\n",
    "rcParams['ytick.major.width'] = 1\n",
    "rcParams['ytick.major.pad'] = 10\n",
    "rcParams['ytick.minor.size'] = 5\n",
    "rcParams['ytick.minor.width'] = 1\n",
    "\n",
    "rcParams['legend.fontsize'] = 12\n",
    "rcParams['legend.borderaxespad'] = 2\n",
    "\n",
    "rcParams['axes.labelsize'] = 24\n",
    "rcParams['axes.titlesize'] = 24"
   ]
  },
  {
   "cell_type": "code",
   "execution_count": 4,
   "metadata": {
    "collapsed": true
   },
   "outputs": [],
   "source": [
    "lonc = 107.2\n",
    "latc = 5.2\n",
    "lonra = [105.6, 108.8]\n",
    "latra = [3.6, 6.8]\n",
    "d2r = np.pi / 180."
   ]
  },
  {
   "cell_type": "code",
   "execution_count": 5,
   "metadata": {
    "collapsed": true
   },
   "outputs": [],
   "source": [
    "def plot_destriped(bank='A', removeplane=True, sbeam=0., nside=4096):\n",
    "    imfile = fits.open('destripingdata_bank'+bank+'_session5_weights1.fits')\n",
    "\n",
    "    if bank == 'A':\n",
    "        cfreq = 4.575\n",
    "    elif bank == 'B':\n",
    "        cfreq = 5.625\n",
    "    elif bank == 'C':\n",
    "        cfreq = 6.125\n",
    "    elif bank == 'D':\n",
    "        cfreq = 7.175\n",
    "    beam = 12.6 / cfreq\n",
    "\n",
    "    pixbeam = 1. \n",
    "    beamarea = np.pi / (4. * np.log(2)) * (beam / 60. * d2r)**2\n",
    "    units = 1. / beamarea\n",
    "\n",
    "    newbeam = np.sqrt(beam**2 - pixbeam**2)\n",
    "    sigma = newbeam / pixbeam / (2. * np.sqrt(2. * np.log(2)))\n",
    "\n",
    "    mdata = imfile[0].data\n",
    "    datamap = gaussian_filter(mdata, sigma) * units \n",
    "\n",
    "    hitmask = imfile[0].data != 0\n",
    "    hits = np.zeros_like(imfile[0].data)\n",
    "    hits[hitmask] = 1.\n",
    "    shits = gaussian_filter(hits, sigma)\n",
    "\n",
    "    if removeplane:\n",
    "        X = np.arange(180)\n",
    "        RX, RY = np.meshgrid(X, X)\n",
    "        radius = np.sqrt((RX-90)**2 + (RY-90)**2)\n",
    "        rmask = radius < 25\n",
    "\n",
    "        XX = RX.flatten()\n",
    "        YY = RY.flatten()\n",
    "        Z = datamap.flatten()\n",
    "        mask = Z == 0 \n",
    "        Z[mask] = np.nan\n",
    "        masks = ~np.isnan(Z) * ~rmask.flatten()\n",
    "        data = np.c_[XX[masks], YY[masks], Z[masks]]\n",
    "        data2 = np.c_[XX, YY, Z]\n",
    "        A = np.c_[data[:, 0], data[:, 1], np.ones(data.shape[0])]\n",
    "        C, _, _, _ = linalg.lstsq(A, data[:, 2])\n",
    "        res = C[0] * RX + C[1] * RY + C[2]\n",
    "        datamap -= res\n",
    "\n",
    "    if sbeam > 0:\n",
    "        newbeam = np.sqrt(sbeam**2 - beam**2)\n",
    "        sigma = newbeam / pixbeam / (2. * np.sqrt(2. * np.log(2)))\n",
    "        datamap = gaussian_filter(datamap, sigma) \n",
    "\n",
    "    mask = shits < 0.3\n",
    "    datamap[mask] = np.nan\n",
    "    imfile[0].data = datamap\n",
    "    hpimage, footprint = reproject.reproject_to_healpix(imfile, 'galactic', nside=nside)\n",
    "    return hpimage"
   ]
  },
  {
   "cell_type": "code",
   "execution_count": 6,
   "metadata": {
    "collapsed": false
   },
   "outputs": [],
   "source": [
    "bankA = plot_destriped('A', sbeam=40.)"
   ]
  },
  {
   "cell_type": "code",
   "execution_count": 7,
   "metadata": {
    "collapsed": false
   },
   "outputs": [],
   "source": [
    "bankB = plot_destriped('B', sbeam=40.)"
   ]
  },
  {
   "cell_type": "code",
   "execution_count": 8,
   "metadata": {
    "collapsed": false
   },
   "outputs": [],
   "source": [
    "bankC = plot_destriped('C', sbeam=40.)"
   ]
  },
  {
   "cell_type": "code",
   "execution_count": 15,
   "metadata": {
    "collapsed": false
   },
   "outputs": [],
   "source": [
    "bankD = plot_destriped('D', sbeam=40.)"
   ]
  },
  {
   "cell_type": "code",
   "execution_count": null,
   "metadata": {
    "collapsed": true
   },
   "outputs": [],
   "source": []
  },
  {
   "cell_type": "code",
   "execution_count": 9,
   "metadata": {
    "collapsed": false
   },
   "outputs": [],
   "source": [
    "nside = hp.get_nside(bankA)\n",
    "vecc = hp.rotator.dir2vec(lonc, latc, lonlat=True)\n",
    "rmask = hp.query_disc(nside, vecc, (45./60.)*d2r)\n",
    "amaskout = set(hp.query_disc(nside, vecc, (80./60.)*d2r))\n",
    "amaskin = set(hp.query_disc(nside, vecc, (60./60.)*d2r))\n",
    "amask = np.array(list(amaskout.difference(amaskin)))"
   ]
  },
  {
   "cell_type": "code",
   "execution_count": 20,
   "metadata": {
    "collapsed": false
   },
   "outputs": [
    {
     "name": "stdout",
     "output_type": "stream",
     "text": [
      "18.0860055748\n",
      "0.0672948359813\n"
     ]
    }
   ],
   "source": [
    "xdata = bankA * hp.nside2pixarea(4096)\n",
    "xdata -= np.nanmedian(xdata[amask])\n",
    "rdata = xdata[rmask]\n",
    "adata = xdata[amask]\n",
    "rms = np.nanstd(adata) * np.sqrt(len(rdata) + pi/2. * float(len(rdata)**2) / len(adata))\n",
    "print np.nansum(rdata)\n",
    "print rms"
   ]
  },
  {
   "cell_type": "code",
   "execution_count": 21,
   "metadata": {
    "collapsed": false
   },
   "outputs": [
    {
     "name": "stdout",
     "output_type": "stream",
     "text": [
      "17.5061433323\n",
      "0.0810618422286\n"
     ]
    }
   ],
   "source": [
    "xdata = bankB * hp.nside2pixarea(4096)\n",
    "xdata -= np.nanmedian(xdata[amask])\n",
    "rdata = xdata[rmask]\n",
    "adata = xdata[amask]\n",
    "rms = np.nanstd(adata) * np.sqrt(len(rdata) + pi/2. * float(len(rdata)**2) / len(adata))\n",
    "print np.nansum(rdata)\n",
    "print rms"
   ]
  },
  {
   "cell_type": "code",
   "execution_count": 22,
   "metadata": {
    "collapsed": false
   },
   "outputs": [
    {
     "name": "stdout",
     "output_type": "stream",
     "text": [
      "17.7466661872\n",
      "0.123176390199\n"
     ]
    }
   ],
   "source": [
    "xdata = bankC * hp.nside2pixarea(4096)\n",
    "xdata -= np.nanmedian(xdata[amask])\n",
    "rdata = xdata[rmask]\n",
    "adata = xdata[amask]\n",
    "rms = np.nanstd(adata) * np.sqrt(len(rdata) + pi/2. * float(len(rdata)**2) / len(adata))\n",
    "print np.nansum(rdata)\n",
    "print rms"
   ]
  },
  {
   "cell_type": "code",
   "execution_count": 23,
   "metadata": {
    "collapsed": false
   },
   "outputs": [
    {
     "name": "stdout",
     "output_type": "stream",
     "text": [
      "32.3860771746\n",
      "0.325624019512\n"
     ]
    }
   ],
   "source": [
    "xdata = bankD * hp.nside2pixarea(4096)\n",
    "xdata -= np.nanmedian(xdata[amask])\n",
    "rdata = xdata[rmask]\n",
    "adata = xdata[amask]\n",
    "rms = np.nanstd(adata) * np.sqrt(len(rdata) + pi/2. * float(len(rdata)**2) / len(adata))\n",
    "print np.nansum(rdata)\n",
    "print rms"
   ]
  },
  {
   "cell_type": "code",
   "execution_count": null,
   "metadata": {
    "collapsed": true
   },
   "outputs": [],
   "source": []
  },
  {
   "cell_type": "code",
   "execution_count": null,
   "metadata": {
    "collapsed": true
   },
   "outputs": [],
   "source": []
  }
 ],
 "metadata": {
  "kernelspec": {
   "display_name": "Python 2",
   "language": "python",
   "name": "python2"
  },
  "language_info": {
   "codemirror_mode": {
    "name": "ipython",
    "version": 2
   },
   "file_extension": ".py",
   "mimetype": "text/x-python",
   "name": "python",
   "nbconvert_exporter": "python",
   "pygments_lexer": "ipython2",
   "version": "2.7.13"
  }
 },
 "nbformat": 4,
 "nbformat_minor": 2
}
