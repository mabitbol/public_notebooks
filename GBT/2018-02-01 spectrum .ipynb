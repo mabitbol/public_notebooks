{
 "cells": [
  {
   "cell_type": "code",
   "execution_count": 1,
   "metadata": {
    "collapsed": false
   },
   "outputs": [
    {
     "name": "stdout",
     "output_type": "stream",
     "text": [
      "Populating the interactive namespace from numpy and matplotlib\n"
     ]
    }
   ],
   "source": [
    "%pylab inline"
   ]
  },
  {
   "cell_type": "code",
   "execution_count": 2,
   "metadata": {
    "collapsed": false
   },
   "outputs": [
    {
     "name": "stdout",
     "output_type": "stream",
     "text": [
      "/home/mabitbol/GBT-S140/analysis\n"
     ]
    }
   ],
   "source": [
    "cd /home/mabitbol/GBT-S140/analysis/"
   ]
  },
  {
   "cell_type": "code",
   "execution_count": 3,
   "metadata": {
    "collapsed": false
   },
   "outputs": [],
   "source": [
    "import foregrounds as fg\n",
    "from scipy.optimize import curve_fit\n",
    "import emcee\n",
    "import corner\n",
    "import smthphoto as sph"
   ]
  },
  {
   "cell_type": "code",
   "execution_count": 13,
   "metadata": {
    "collapsed": true
   },
   "outputs": [],
   "source": [
    "from __future__ import unicode_literals\n",
    "\n",
    "figsize(8, 6)\n",
    "matplotlib.rcParams['text.usetex'] = True\n",
    "matplotlib.rcParams['text.latex.unicode'] = True\n",
    "    \n",
    "rcParams['xtick.labelsize'] = 20\n",
    "rcParams['xtick.major.size'] = 10\n",
    "rcParams['xtick.major.width'] = 1\n",
    "rcParams['xtick.major.pad'] = 10\n",
    "rcParams['xtick.minor.size'] = 5\n",
    "rcParams['xtick.minor.width'] = 1\n",
    "\n",
    "rcParams['ytick.labelsize'] = 20\n",
    "rcParams['ytick.major.size'] = 10\n",
    "rcParams['ytick.major.width'] = 1\n",
    "rcParams['ytick.major.pad'] = 10\n",
    "rcParams['ytick.minor.size'] = 5\n",
    "rcParams['ytick.minor.width'] = 1\n",
    "\n",
    "rcParams['legend.fontsize'] = 24\n",
    "rcParams['legend.borderaxespad'] = 1\n",
    "\n",
    "rcParams['axes.labelsize'] = 24\n",
    "rcParams['axes.titlesize'] = 24"
   ]
  },
  {
   "cell_type": "code",
   "execution_count": 7,
   "metadata": {
    "collapsed": false
   },
   "outputs": [],
   "source": [
    "fdg = np.loadtxt('/home/mabitbol/GBT-S140/externaldata/fd_G107.20+05.20.dat')"
   ]
  },
  {
   "cell_type": "code",
   "execution_count": 8,
   "metadata": {
    "collapsed": false
   },
   "outputs": [],
   "source": [
    "cfs = fdg[:, 0] * 1.e9\n",
    "mask = cfs < 4.e12\n",
    "cfs = cfs[mask]\n",
    "cjys = fdg[:, 1][mask]\n",
    "cerrs = fdg[:, 2][mask]\n",
    "cfit = fdg[:, 3][mask]\n",
    "crem = fdg[:, 4][mask]\n",
    "cremerr = fdg[:, 5][mask]"
   ]
  },
  {
   "cell_type": "code",
   "execution_count": 9,
   "metadata": {
    "collapsed": false
   },
   "outputs": [],
   "source": [
    "nfreqs = np.array([4.575, 5.625, 6.125]) * 1.e9\n",
    "newdata = np.array([ 17.05, 17.66, 19.5])\n",
    "nerrs = newdata * 0.1"
   ]
  },
  {
   "cell_type": "code",
   "execution_count": null,
   "metadata": {
    "collapsed": true
   },
   "outputs": [],
   "source": []
  },
  {
   "cell_type": "code",
   "execution_count": 10,
   "metadata": {
    "collapsed": false
   },
   "outputs": [],
   "source": [
    "freqs = []\n",
    "fluxs = []\n",
    "errors = []\n",
    "for k, pf in enumerate(sph.planckfiles):\n",
    "    nu = sph.planckfreqs[k]\n",
    "    pflux, perr = sph.planck_calc(pf, nu, inside=80, outside=100)\n",
    "    freqs.append(nu)\n",
    "    fluxs.append(pflux)\n",
    "    errors.append(perr)\n",
    "for k, pf in enumerate(sph.wmapfiles):\n",
    "    nu = sph.wmapfreqs[k]\n",
    "    pflux, perr = sph.wmap_calc(pf, nu, inside=80, outside=100)\n",
    "    freqs.append(nu)\n",
    "    fluxs.append(pflux)\n",
    "    errors.append(perr)\n",
    "for k, pf in enumerate(sph.dirbefiles):\n",
    "    nu = sph.dirbefreqs[k]\n",
    "    pflux, perr = sph.dirbe_flux(pf, inside=80, outside=100)\n",
    "    freqs.append(nu)\n",
    "    fluxs.append(pflux)\n",
    "    errors.append(perr)\n",
    "for k, pf in enumerate(sph.irisfiles):\n",
    "    nu = sph.irisfreqs[k]\n",
    "    pflux, perr = sph.iris_flux(pf, inside=80, outside=100)\n",
    "    freqs.append(nu)\n",
    "    fluxs.append(pflux)\n",
    "    errors.append(perr)\n",
    "freqs = np.array(freqs)\n",
    "fluxs = np.array(fluxs)\n",
    "errors = np.array(errors)"
   ]
  },
  {
   "cell_type": "code",
   "execution_count": null,
   "metadata": {
    "collapsed": true
   },
   "outputs": [],
   "source": []
  },
  {
   "cell_type": "code",
   "execution_count": 11,
   "metadata": {
    "collapsed": true
   },
   "outputs": [],
   "source": [
    "mask1 = cfs > 1e10\n",
    "mask2 = freqs < 3.1e12"
   ]
  },
  {
   "cell_type": "code",
   "execution_count": 14,
   "metadata": {
    "collapsed": false
   },
   "outputs": [
    {
     "data": {
      "text/plain": [
       "[<matplotlib.lines.Line2D at 0x7f878bce4910>]"
      ]
     },
     "execution_count": 14,
     "metadata": {},
     "output_type": "execute_result"
    },
    {
     "data": {
      "image/png": "[encoded data removed]",
      "text/plain": [
       "<matplotlib.figure.Figure at 0x7f872d142310>"
      ]
     },
     "metadata": {},
     "output_type": "display_data"
    }
   ],
   "source": [
    "loglog(freqs[mask2], fluxs[mask2], '.')\n",
    "loglog(cfs[mask1], cjys[mask1], 'x')"
   ]
  },
  {
   "cell_type": "code",
   "execution_count": 30,
   "metadata": {
    "collapsed": false
   },
   "outputs": [
    {
     "data": {
      "image/png": "[encoded data removed]",
      "text/plain": [
       "<matplotlib.figure.Figure at 0x7f878bbe8e50>"
      ]
     },
     "metadata": {},
     "output_type": "display_data"
    }
   ],
   "source": [
    "loglog(freqs, fluxs, '.')\n",
    "loglog(cfs, cjys, 'x')\n",
    "grid()"
   ]
  },
  {
   "cell_type": "code",
   "execution_count": null,
   "metadata": {
    "collapsed": true
   },
   "outputs": [],
   "source": []
  }
 ],
 "metadata": {
  "kernelspec": {
   "display_name": "Python 2",
   "language": "python",
   "name": "python2"
  },
  "language_info": {
   "codemirror_mode": {
    "name": "ipython",
    "version": 2
   },
   "file_extension": ".py",
   "mimetype": "text/x-python",
   "name": "python",
   "nbconvert_exporter": "python",
   "pygments_lexer": "ipython2",
   "version": "2.7.13"
  }
 },
 "nbformat": 4,
 "nbformat_minor": 0
}
