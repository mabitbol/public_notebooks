{
 "cells": [
  {
   "cell_type": "code",
   "execution_count": 1,
   "metadata": {
    "collapsed": false
   },
   "outputs": [
    {
     "name": "stdout",
     "output_type": "stream",
     "text": [
      "Populating the interactive namespace from numpy and matplotlib\n"
     ]
    }
   ],
   "source": [
    "%pylab inline"
   ]
  },
  {
   "cell_type": "code",
   "execution_count": 2,
   "metadata": {
    "collapsed": true
   },
   "outputs": [],
   "source": [
    "import glob"
   ]
  },
  {
   "cell_type": "code",
   "execution_count": 3,
   "metadata": {
    "collapsed": true
   },
   "outputs": [],
   "source": [
    "fdir = '/data2/GBT/S140/'"
   ]
  },
  {
   "cell_type": "code",
   "execution_count": 4,
   "metadata": {
    "collapsed": true
   },
   "outputs": [],
   "source": [
    "def S295(freqs):\n",
    "    a0 = 1.4866 \n",
    "    a1 = -0.7871\n",
    "    a2 = -0.3440\n",
    "    a3 = 0.0749\n",
    "    f = freqs * 1.e-9\n",
    "    logf = np.log10(f)\n",
    "    logS = a0 + a1*logf + a2*logf**2 + a3*logf**3\n",
    "    return 10.**(logS)"
   ]
  },
  {
   "cell_type": "code",
   "execution_count": 5,
   "metadata": {
    "collapsed": true
   },
   "outputs": [],
   "source": [
    "def get_freqs_pdiode(k=0, show=True):\n",
    "    x = np.load(fnames[k])\n",
    "    y = np.load(fnames[k+1])\n",
    "    print fnames[k]\n",
    "    print fnames[k+1]\n",
    "    if np.any(x['valid'] ^ y['valid']):\n",
    "        print \"CHECK MASK\"\n",
    "    mask = x['valid']\n",
    "    freqs = x['freqs']\n",
    "\n",
    "    if x['source'] == 'ON' and y['source'] == 'OFF':\n",
    "        onSonD = x['yyon']\n",
    "        onSoffD = x['yyoff']\n",
    "        offSonD = y['yyon']\n",
    "        offSoffD = y['yyoff']\n",
    "    elif x['source'] == 'OFF' and y['source'] == 'ON':\n",
    "        onSonD = y['yyon']\n",
    "        onSoffD = y['yyoff']\n",
    "        offSonD = x['yyon']\n",
    "        offSoffD = x['yyoff']\n",
    "    else:\n",
    "        print \"DISASTER\"\n",
    "    \n",
    "    Psource = S295(freqs)\n",
    "    gain = np.nanmean(onSoffD[200:,:] - offSoffD[200:,:], 0) / Psource\n",
    "    Pdiode = np.nanmean(offSonD[200:,:] - offSoffD[200:,:], 0) / gain\n",
    "    if show:\n",
    "        figure()\n",
    "        plot(freqs, np.nanmean(onSonD[200:,mask], 0), label='onSonD')\n",
    "        plot(freqs, np.nanmean(onSoffD[200:,mask], 0), label='onSoffD')\n",
    "        plot(freqs, np.nanmean(offSonD[200:,mask], 0), label='offSonD')\n",
    "        plot(freqs, np.nanmean(offSoffD[200:,mask], 0), label='offSoffD')\n",
    "        legend()\n",
    "        figure()\n",
    "        plot(freqs, Pdiode)\n",
    "        xlabel('frequency')\n",
    "        ylabel('Jy')\n",
    "    return freqs, Pdiode"
   ]
  },
  {
   "cell_type": "code",
   "execution_count": 13,
   "metadata": {
    "collapsed": true
   },
   "outputs": [],
   "source": [
    "let = 'B'"
   ]
  },
  {
   "cell_type": "code",
   "execution_count": 14,
   "metadata": {
    "collapsed": false
   },
   "outputs": [
    {
     "name": "stdout",
     "output_type": "stream",
     "text": [
      "24\n"
     ]
    }
   ],
   "source": [
    "fnamesA = glob.glob(fdir+'Daisy/*/*_03_*'+let+'*rfireduced.npz')\n",
    "fnamesA.sort()\n",
    "print len(fnamesA)"
   ]
  },
  {
   "cell_type": "code",
   "execution_count": 15,
   "metadata": {
    "collapsed": false
   },
   "outputs": [
    {
     "name": "stdout",
     "output_type": "stream",
     "text": [
      "2\n"
     ]
    }
   ],
   "source": [
    "fnames = glob.glob('/data2/GBT/*295/OnOff/*/*_03_*'+let+'*rfireduced.npz')\n",
    "fnames.sort()\n",
    "print len(fnames)"
   ]
  },
  {
   "cell_type": "code",
   "execution_count": 16,
   "metadata": {
    "collapsed": false
   },
   "outputs": [
    {
     "name": "stdout",
     "output_type": "stream",
     "text": [
      "/data2/GBT/3C295/OnOff/scan_03_006.raw.vegas/scan_03_006.raw.vegas.B.fits.rfireduced.npz\n",
      "/data2/GBT/3C295/OnOff/scan_03_007.raw.vegas/scan_03_007.raw.vegas.B.fits.rfireduced.npz\n"
     ]
    },
    {
     "name": "stderr",
     "output_type": "stream",
     "text": [
      "/usr/lib/python2.7/site-packages/ipykernel/__main__.py:25: RuntimeWarning: Mean of empty slice\n",
      "/usr/lib/python2.7/site-packages/ipykernel/__main__.py:26: RuntimeWarning: Mean of empty slice\n"
     ]
    }
   ],
   "source": [
    "fdiode, pdiode = get_freqs_pdiode(0, False)"
   ]
  },
  {
   "cell_type": "code",
   "execution_count": 17,
   "metadata": {
    "collapsed": false
   },
   "outputs": [
    {
     "data": {
      "text/plain": [
       "[<matplotlib.lines.Line2D at 0x7f9cfb40fbd0>]"
      ]
     },
     "execution_count": 17,
     "metadata": {},
     "output_type": "execute_result"
    },
    {
     "data": {
      "image/png": "[encoded data removed]",
      "text/plain": [
       "<matplotlib.figure.Figure at 0x7f9cfb52ea90>"
      ]
     },
     "metadata": {},
     "output_type": "display_data"
    }
   ],
   "source": [
    "plot(fdiode, pdiode)"
   ]
  },
  {
   "cell_type": "code",
   "execution_count": 10,
   "metadata": {
    "collapsed": true
   },
   "outputs": [],
   "source": [
    "np.save('../calibrations/lownoise_calibration_3C295_03_Ayy.npy', [fdiode, pdiode])"
   ]
  },
  {
   "cell_type": "code",
   "execution_count": null,
   "metadata": {
    "collapsed": true
   },
   "outputs": [],
   "source": []
  }
 ],
 "metadata": {
  "kernelspec": {
   "display_name": "Python 2",
   "language": "python",
   "name": "python2"
  },
  "language_info": {
   "codemirror_mode": {
    "name": "ipython",
    "version": 2
   },
   "file_extension": ".py",
   "mimetype": "text/x-python",
   "name": "python",
   "nbconvert_exporter": "python",
   "pygments_lexer": "ipython2",
   "version": "2.7.13"
  }
 },
 "nbformat": 4,
 "nbformat_minor": 2
}
