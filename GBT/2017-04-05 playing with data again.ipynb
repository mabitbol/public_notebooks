{
 "cells": [
  {
   "cell_type": "code",
   "execution_count": 1,
   "metadata": {
    "collapsed": false
   },
   "outputs": [
    {
     "name": "stdout",
     "output_type": "stream",
     "text": [
      "Populating the interactive namespace from numpy and matplotlib\n"
     ]
    }
   ],
   "source": [
    "%pylab inline"
   ]
  },
  {
   "cell_type": "code",
   "execution_count": 2,
   "metadata": {
    "collapsed": true
   },
   "outputs": [],
   "source": [
    "fdir = '/home/scratch/mabitbol/3C295/OnOff/'"
   ]
  },
  {
   "cell_type": "code",
   "execution_count": 3,
   "metadata": {
    "collapsed": true
   },
   "outputs": [],
   "source": [
    "import glob\n",
    "from astropy.io import fits"
   ]
  },
  {
   "cell_type": "code",
   "execution_count": 4,
   "metadata": {
    "collapsed": true
   },
   "outputs": [],
   "source": [
    "f295 = glob.glob(fdir+'*.raw.vegas')"
   ]
  },
  {
   "cell_type": "code",
   "execution_count": 5,
   "metadata": {
    "collapsed": false
   },
   "outputs": [
    {
     "name": "stdout",
     "output_type": "stream",
     "text": [
      "['/home/scratch/mabitbol/3C295/OnOff/scan7.raw.vegas', '/home/scratch/mabitbol/3C295/OnOff/scan8.raw.vegas', '/home/scratch/mabitbol/3C295/OnOff/scan39.raw.vegas', '/home/scratch/mabitbol/3C295/OnOff/scan40.raw.vegas', '/home/scratch/mabitbol/3C295/OnOff/scan_02_6.raw.vegas', '/home/scratch/mabitbol/3C295/OnOff/scan_02_7.raw.vegas']\n"
     ]
    }
   ],
   "source": [
    "print f295"
   ]
  },
  {
   "cell_type": "code",
   "execution_count": 6,
   "metadata": {
    "collapsed": false
   },
   "outputs": [
    {
     "name": "stdout",
     "output_type": "stream",
     "text": [
      "6\n"
     ]
    }
   ],
   "source": [
    "print len(f295)"
   ]
  },
  {
   "cell_type": "code",
   "execution_count": 8,
   "metadata": {
    "collapsed": false
   },
   "outputs": [
    {
     "name": "stdout",
     "output_type": "stream",
     "text": [
      "/home/scratch/mabitbol/3C295/OnOff/scan7.raw.vegas\n"
     ]
    }
   ],
   "source": [
    "print f295[0]"
   ]
  },
  {
   "cell_type": "code",
   "execution_count": 10,
   "metadata": {
    "collapsed": false
   },
   "outputs": [
    {
     "name": "stdout",
     "output_type": "stream",
     "text": [
      "scan7.raw.vegas.A.fits   scan7.raw.vegas.B.index  scan7.raw.vegas.D.flag\r\n",
      "scan7.raw.vegas.A.flag   scan7.raw.vegas.C.fits   scan7.raw.vegas.D.index\r\n",
      "scan7.raw.vegas.A.index  scan7.raw.vegas.C.flag   scan7.raw.vegas.index\r\n",
      "scan7.raw.vegas.B.fits   scan7.raw.vegas.C.index\r\n",
      "scan7.raw.vegas.B.flag   scan7.raw.vegas.D.fits\r\n"
     ]
    }
   ],
   "source": [
    "ls /home/scratch/mabitbol/3C295/OnOff/scan7.raw.vegas/"
   ]
  },
  {
   "cell_type": "code",
   "execution_count": 11,
   "metadata": {
    "collapsed": false
   },
   "outputs": [],
   "source": [
    "f1 = fits.open(f295[0]+'/scan7.raw.vegas.A.fits')"
   ]
  },
  {
   "cell_type": "code",
   "execution_count": 13,
   "metadata": {
    "collapsed": false
   },
   "outputs": [
    {
     "data": {
      "text/plain": [
       "SIMPLE  =                    T / file does conform to FITS standard             \n",
       "BITPIX  =                    8 / number of bits per data pixel                  \n",
       "NAXIS   =                    0 / number of data axes                            \n",
       "EXTEND  =                    T / FITS dataset may contain extensions            \n",
       "COMMENT   FITS (Flexible Image Transport System) format is defined in 'Astronomy\n",
       "COMMENT   and Astrophysics', volume 376, page 359; bibcode: 2001A&A...376..359H \n",
       "DATE    = '2017-04-04T18:12:46' / date and time this HDU was created            \n",
       "ORIGIN  = 'NRAO Green Bank'    / origin of observation                          \n",
       "TELESCOP= 'NRAO_GBT'           / the telescope used                             \n",
       "INSTRUME= 'VEGAS   '           / backend                                        \n",
       "SDFITVER= 'sdfits ver1.21'     / this file was created by sdfits                \n",
       "FITSVER = '1.9     '           / FITS definition version                        "
      ]
     },
     "execution_count": 13,
     "metadata": {},
     "output_type": "execute_result"
    }
   ],
   "source": [
    "f1[0].header"
   ]
  },
  {
   "cell_type": "code",
   "execution_count": 14,
   "metadata": {
    "collapsed": true
   },
   "outputs": [],
   "source": [
    "hdu = f1[1]"
   ]
  },
  {
   "cell_type": "code",
   "execution_count": 15,
   "metadata": {
    "collapsed": false
   },
   "outputs": [
    {
     "data": {
      "text/plain": [
       "['OBJECT',\n",
       " 'BANDWID',\n",
       " 'DATE-OBS',\n",
       " 'DURATION',\n",
       " 'EXPOSURE',\n",
       " 'TSYS',\n",
       " 'DATA',\n",
       " 'TDIM7',\n",
       " 'TUNIT7',\n",
       " 'CTYPE1',\n",
       " 'CRVAL1',\n",
       " 'CRPIX1',\n",
       " 'CDELT1',\n",
       " 'CTYPE2',\n",
       " 'CRVAL2',\n",
       " 'CTYPE3',\n",
       " 'CRVAL3',\n",
       " 'CRVAL4',\n",
       " 'OBSERVER',\n",
       " 'OBSID',\n",
       " 'SCAN',\n",
       " 'OBSMODE',\n",
       " 'FRONTEND',\n",
       " 'TCAL',\n",
       " 'VELDEF',\n",
       " 'VFRAME',\n",
       " 'RVSYS',\n",
       " 'OBSFREQ',\n",
       " 'LST',\n",
       " 'AZIMUTH',\n",
       " 'ELEVATIO',\n",
       " 'TAMBIENT',\n",
       " 'PRESSURE',\n",
       " 'HUMIDITY',\n",
       " 'RESTFREQ',\n",
       " 'FREQRES',\n",
       " 'EQUINOX',\n",
       " 'RADESYS',\n",
       " 'TRGTLONG',\n",
       " 'TRGTLAT',\n",
       " 'SAMPLER',\n",
       " 'FEED',\n",
       " 'SRFEED',\n",
       " 'FEEDXOFF',\n",
       " 'FEEDEOFF',\n",
       " 'SUBREF_STATE',\n",
       " 'SIDEBAND',\n",
       " 'PROCSEQN',\n",
       " 'PROCSIZE',\n",
       " 'PROCSCAN',\n",
       " 'PROCTYPE',\n",
       " 'LASTON',\n",
       " 'LASTOFF',\n",
       " 'TIMESTAMP',\n",
       " 'QD_XEL',\n",
       " 'QD_EL',\n",
       " 'QD_BAD',\n",
       " 'QD_METHOD',\n",
       " 'VELOCITY',\n",
       " 'ZEROCHAN',\n",
       " 'DOPFREQ',\n",
       " 'ADCSAMPF',\n",
       " 'VSPDELT',\n",
       " 'VSPRVAL',\n",
       " 'VSPRPIX',\n",
       " 'SIG',\n",
       " 'CAL',\n",
       " 'CALTYPE',\n",
       " 'TWARM',\n",
       " 'TCOLD',\n",
       " 'CALPOSITION',\n",
       " 'IFNUM',\n",
       " 'PLNUM',\n",
       " 'FDNUM']"
      ]
     },
     "execution_count": 15,
     "metadata": {},
     "output_type": "execute_result"
    }
   ],
   "source": [
    "hdu.columns.names"
   ]
  },
  {
   "cell_type": "code",
   "execution_count": 16,
   "metadata": {
    "collapsed": true
   },
   "outputs": [],
   "source": [
    "data = hdu.data['DATA']"
   ]
  },
  {
   "cell_type": "code",
   "execution_count": 22,
   "metadata": {
    "collapsed": false
   },
   "outputs": [
    {
     "data": {
      "text/plain": [
       "array([[  1.34268211e+09,   2.32202656e+05,   2.40223750e+05, ...,\n",
       "          2.60404172e+05,   2.62294500e+05,   2.70366656e+05],\n",
       "       [  9.30549568e+08,   2.44515281e+05,   2.34910422e+05, ...,\n",
       "          3.64320625e+05,   3.87157719e+05,   3.80311688e+05],\n",
       "       [  1.95299226e+09,   2.37056188e+05,   2.11664609e+05, ...,\n",
       "          3.28762188e+05,   3.35352750e+05,   3.43527094e+05],\n",
       "       ..., \n",
       "       [             nan,              nan,              nan, ...,\n",
       "                     nan,              nan,              nan],\n",
       "       [  0.00000000e+00,  -2.75884351e+03,   4.29153418e+03, ...,\n",
       "         -8.42979980e+03,   7.30582617e+03,  -4.39371387e+03],\n",
       "       [             nan,              nan,              nan, ...,\n",
       "                     nan,              nan,              nan]], dtype=float32)"
      ]
     },
     "execution_count": 22,
     "metadata": {},
     "output_type": "execute_result"
    }
   ],
   "source": [
    "data"
   ]
  },
  {
   "cell_type": "code",
   "execution_count": 30,
   "metadata": {
    "collapsed": true
   },
   "outputs": [],
   "source": [
    "offdata = data[::2, :]\n",
    "ondata = data[1::2, :]"
   ]
  },
  {
   "cell_type": "code",
   "execution_count": 32,
   "metadata": {
    "collapsed": false
   },
   "outputs": [
    {
     "name": "stdout",
     "output_type": "stream",
     "text": [
      "(5724, 16384)\n",
      "(5724, 16384)\n"
     ]
    }
   ],
   "source": [
    "print offdata.shape\n",
    "print ondata.shape"
   ]
  },
  {
   "cell_type": "code",
   "execution_count": 26,
   "metadata": {
    "collapsed": false
   },
   "outputs": [
    {
     "data": {
      "text/plain": [
       "chararray(['F', 'F', 'F', ..., 'F', 'F', 'F'], \n",
       "      dtype='|S1')"
      ]
     },
     "execution_count": 26,
     "metadata": {},
     "output_type": "execute_result"
    }
   ],
   "source": [
    "hdu.data['CAL'][::2]"
   ]
  },
  {
   "cell_type": "code",
   "execution_count": 33,
   "metadata": {
    "collapsed": false,
    "deletable": true,
    "editable": true
   },
   "outputs": [
    {
     "data": {
      "text/plain": [
       "chararray(['T', 'T', 'T', ..., 'T', 'T', 'T'], \n",
       "      dtype='|S1')"
      ]
     },
     "execution_count": 33,
     "metadata": {},
     "output_type": "execute_result"
    }
   ],
   "source": [
    "hdu.data['CAL'][1::2]"
   ]
  },
  {
   "cell_type": "code",
   "execution_count": 34,
   "metadata": {
    "collapsed": false
   },
   "outputs": [
    {
     "data": {
      "text/plain": [
       "array([3, 3, 2, ..., 1, 0, 0], dtype=int16)"
      ]
     },
     "execution_count": 34,
     "metadata": {},
     "output_type": "execute_result"
    }
   ],
   "source": [
    "hdu.data['PLNUM']"
   ]
  },
  {
   "cell_type": "code",
   "execution_count": 35,
   "metadata": {
    "collapsed": false,
    "deletable": true,
    "editable": true
   },
   "outputs": [
    {
     "data": {
      "text/plain": [
       "array([3, 2, 1, ..., 2, 1, 0], dtype=int16)"
      ]
     },
     "execution_count": 35,
     "metadata": {},
     "output_type": "execute_result"
    }
   ],
   "source": [
    "hdu.data['PLNUM'][::2]"
   ]
  },
  {
   "cell_type": "code",
   "execution_count": 36,
   "metadata": {
    "collapsed": false,
    "deletable": true,
    "editable": true
   },
   "outputs": [
    {
     "data": {
      "text/plain": [
       "array([3, 2, 1, ..., 2, 1, 0], dtype=int16)"
      ]
     },
     "execution_count": 36,
     "metadata": {},
     "output_type": "execute_result"
    }
   ],
   "source": [
    "hdu.data['PLNUM'][1::2]"
   ]
  },
  {
   "cell_type": "code",
   "execution_count": 37,
   "metadata": {
    "collapsed": true
   },
   "outputs": [],
   "source": [
    "# XX, YY, XY, YX"
   ]
  },
  {
   "cell_type": "code",
   "execution_count": 38,
   "metadata": {
    "collapsed": true
   },
   "outputs": [],
   "source": [
    "offdata = offdata.reshape((-1, 4, 16384))"
   ]
  },
  {
   "cell_type": "code",
   "execution_count": 39,
   "metadata": {
    "collapsed": true
   },
   "outputs": [],
   "source": [
    "ondata = ondata.reshape((-1, 4, 16384))"
   ]
  },
  {
   "cell_type": "code",
   "execution_count": 40,
   "metadata": {
    "collapsed": false
   },
   "outputs": [
    {
     "data": {
      "text/plain": [
       "(1431, 4, 16384)"
      ]
     },
     "execution_count": 40,
     "metadata": {},
     "output_type": "execute_result"
    }
   ],
   "source": [
    "offdata.shape"
   ]
  },
  {
   "cell_type": "code",
   "execution_count": 41,
   "metadata": {
    "collapsed": true
   },
   "outputs": [],
   "source": [
    "xxoffdata = offdata[:,0,:]"
   ]
  },
  {
   "cell_type": "code",
   "execution_count": 42,
   "metadata": {
    "collapsed": true
   },
   "outputs": [],
   "source": [
    "xxondata = ondata[:,0,:]"
   ]
  },
  {
   "cell_type": "code",
   "execution_count": 43,
   "metadata": {
    "collapsed": false
   },
   "outputs": [
    {
     "data": {
      "text/plain": [
       "(1431, 16384)"
      ]
     },
     "execution_count": 43,
     "metadata": {},
     "output_type": "execute_result"
    }
   ],
   "source": [
    "xxoffdata.shape"
   ]
  },
  {
   "cell_type": "code",
   "execution_count": 44,
   "metadata": {
    "collapsed": false,
    "deletable": true,
    "editable": true
   },
   "outputs": [
    {
     "data": {
      "text/plain": [
       "(1431, 16384)"
      ]
     },
     "execution_count": 44,
     "metadata": {},
     "output_type": "execute_result"
    }
   ],
   "source": [
    "xxondata.shape"
   ]
  },
  {
   "cell_type": "code",
   "execution_count": 45,
   "metadata": {
    "collapsed": true
   },
   "outputs": [],
   "source": [
    "# time, frequency"
   ]
  },
  {
   "cell_type": "code",
   "execution_count": null,
   "metadata": {
    "collapsed": true
   },
   "outputs": [],
   "source": [
    "xx"
   ]
  },
  {
   "cell_type": "code",
   "execution_count": null,
   "metadata": {
    "collapsed": true
   },
   "outputs": [],
   "source": []
  },
  {
   "cell_type": "code",
   "execution_count": null,
   "metadata": {
    "collapsed": true
   },
   "outputs": [],
   "source": []
  },
  {
   "cell_type": "code",
   "execution_count": null,
   "metadata": {
    "collapsed": true
   },
   "outputs": [],
   "source": []
  },
  {
   "cell_type": "code",
   "execution_count": null,
   "metadata": {
    "collapsed": true
   },
   "outputs": [],
   "source": []
  },
  {
   "cell_type": "code",
   "execution_count": null,
   "metadata": {
    "collapsed": true
   },
   "outputs": [],
   "source": []
  },
  {
   "cell_type": "code",
   "execution_count": null,
   "metadata": {
    "collapsed": true
   },
   "outputs": [],
   "source": []
  },
  {
   "cell_type": "code",
   "execution_count": null,
   "metadata": {
    "collapsed": true
   },
   "outputs": [],
   "source": []
  },
  {
   "cell_type": "code",
   "execution_count": null,
   "metadata": {
    "collapsed": true
   },
   "outputs": [],
   "source": []
  },
  {
   "cell_type": "code",
   "execution_count": null,
   "metadata": {
    "collapsed": true
   },
   "outputs": [],
   "source": []
  },
  {
   "cell_type": "code",
   "execution_count": null,
   "metadata": {
    "collapsed": true
   },
   "outputs": [],
   "source": []
  }
 ],
 "metadata": {
  "kernelspec": {
   "display_name": "Python 2",
   "language": "python",
   "name": "python2"
  },
  "language_info": {
   "codemirror_mode": {
    "name": "ipython",
    "version": 2
   },
   "file_extension": ".py",
   "mimetype": "text/x-python",
   "name": "python",
   "nbconvert_exporter": "python",
   "pygments_lexer": "ipython2",
   "version": "2.7.13"
  }
 },
 "nbformat": 4,
 "nbformat_minor": 2
}
