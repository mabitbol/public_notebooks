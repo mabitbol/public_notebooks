{
 "cells": [
  {
   "cell_type": "code",
   "execution_count": 1,
   "metadata": {
    "collapsed": false
   },
   "outputs": [
    {
     "name": "stdout",
     "output_type": "stream",
     "text": [
      "Populating the interactive namespace from numpy and matplotlib\n"
     ]
    }
   ],
   "source": [
    "%pylab inline"
   ]
  },
  {
   "cell_type": "code",
   "execution_count": 2,
   "metadata": {
    "collapsed": true
   },
   "outputs": [],
   "source": [
    "import healpy as hp"
   ]
  },
  {
   "cell_type": "code",
   "execution_count": 3,
   "metadata": {
    "collapsed": true
   },
   "outputs": [],
   "source": [
    "d2r = np.pi / 180.\n",
    "lonc = 107.2\n",
    "latc = 5.2\n",
    "lonra = [lonc-1.5, lonc+1.5]\n",
    "latra = [latc-1.5, latc+1.5]"
   ]
  },
  {
   "cell_type": "code",
   "execution_count": 4,
   "metadata": {
    "collapsed": true
   },
   "outputs": [],
   "source": [
    "irisfiles = ['../externaldata/IRIS_nohole_1_2048.fits', \\\n",
    "            '../externaldata/IRIS_nohole_2_2048.fits', \\\n",
    "            '../externaldata/IRIS_nohole_3_2048.fits', \\\n",
    "            '../externaldata/IRIS_nohole_4_2048.fits']\n",
    "irisfreqs = np.array([25000, 12000, 5000, 3000]) * 1.e9\n",
    "irisbeams = np.array([3.8, 3.8, 4.0, 4.3])"
   ]
  },
  {
   "cell_type": "code",
   "execution_count": 5,
   "metadata": {
    "collapsed": false
   },
   "outputs": [
    {
     "name": "stderr",
     "output_type": "stream",
     "text": [
      "/home/mabitbol/.local/lib/python2.7/site-packages/healpy/pixelfunc.py:249: RuntimeWarning: invalid value encountered in less_equal\n",
      "  return np.absolute(m - badval) <= atol + rtol * np.absolute(badval)\n"
     ]
    },
    {
     "name": "stdout",
     "output_type": "stream",
     "text": [
      "Sigma is 16.909611 arcmin (0.004919 rad) \n",
      "-> fwhm is 39.819091 arcmin\n",
      "Sigma is 0.000000 arcmin (0.000000 rad) \n",
      "-> fwhm is 0.000000 arcmin\n",
      "Sigma is 16.909611 arcmin (0.004919 rad) \n",
      "-> fwhm is 39.819091 arcmin\n",
      "Sigma is 0.000000 arcmin (0.000000 rad) \n",
      "-> fwhm is 0.000000 arcmin\n",
      "Sigma is 16.901290 arcmin (0.004916 rad) \n",
      "-> fwhm is 39.799497 arcmin\n",
      "Sigma is 0.000000 arcmin (0.000000 rad) \n",
      "-> fwhm is 0.000000 arcmin\n",
      "Sigma is 16.888001 arcmin (0.004913 rad) \n",
      "-> fwhm is 39.768203 arcmin\n",
      "Sigma is 0.000000 arcmin (0.000000 rad) \n",
      "-> fwhm is 0.000000 arcmin\n"
     ]
    }
   ],
   "source": [
    "for k, pf in enumerate(irisfiles):\n",
    "    irismap = hp.read_map(pf, verbose=False)\n",
    "    mask = irismap == -32768\n",
    "    irismap[mask] = hp.UNSEEN\n",
    "    mask = np.isnan(irismap)\n",
    "    irismap[mask] = hp.UNSEEN\n",
    "    newbeam = np.sqrt(40.**2 - irisbeams[k]**2) / 60.\n",
    "    irismap = hp.ud_grade(hp.smoothing(irismap, fwhm=newbeam*d2r), 512)\n",
    "    nside = hp.get_nside(irismap)\n",
    "    irismap *= 1.e6 * hp.nside2pixarea(nside)\n",
    "    name = '/home/mabitbol/GBT-S140/externaldata/iris_smoothed_'+str(int(irisfreqs[k]*1e-9))+'_40.fits'\n",
    "    hp.write_map(name, irismap)"
   ]
  },
  {
   "cell_type": "code",
   "execution_count": null,
   "metadata": {
    "collapsed": true
   },
   "outputs": [],
   "source": []
  },
  {
   "cell_type": "code",
   "execution_count": null,
   "metadata": {
    "collapsed": true
   },
   "outputs": [],
   "source": []
  },
  {
   "cell_type": "code",
   "execution_count": null,
   "metadata": {
    "collapsed": true
   },
   "outputs": [],
   "source": []
  },
  {
   "cell_type": "code",
   "execution_count": null,
   "metadata": {
    "collapsed": true
   },
   "outputs": [],
   "source": [
    "xx = hp.read_map('../externaldata/ir')\n",
    "vecc = hp.rotator.dir2vec(lonc, latc, lonlat=True)\n",
    "rmask = hp.query_disc(nside, vecc, (60./60.)*d2r, inclusive=False)\n",
    "amaskout = set(hp.query_disc(nside, vecc, (100./60.)*d2r, inclusive=False))\n",
    "amaskin = set(hp.query_disc(nside, vecc, (80./60.)*d2r, inclusive=False))\n",
    "amask = np.array(list(amaskout.difference(amaskin)))\n",
    "rdata = xx[rmask]\n",
    "adata = xx[amask]\n",
    "flux = np.sum(rdata - np.median(adata))\n",
    "rms = np.std(adata) * np.sqrt(len(rdata) + pi/2. * float(len(rdata)**2) / len(adata))\n",
    "print flux, rms"
   ]
  },
  {
   "cell_type": "code",
   "execution_count": null,
   "metadata": {
    "collapsed": true
   },
   "outputs": [],
   "source": []
  },
  {
   "cell_type": "code",
   "execution_count": null,
   "metadata": {
    "collapsed": true
   },
   "outputs": [],
   "source": []
  },
  {
   "cell_type": "code",
   "execution_count": null,
   "metadata": {
    "collapsed": true
   },
   "outputs": [],
   "source": []
  },
  {
   "cell_type": "code",
   "execution_count": null,
   "metadata": {
    "collapsed": true
   },
   "outputs": [],
   "source": []
  },
  {
   "cell_type": "code",
   "execution_count": 7,
   "metadata": {
    "collapsed": false
   },
   "outputs": [
    {
     "name": "stdout",
     "output_type": "stream",
     "text": [
      "NSIDE = 2048\n",
      "ORDERING = RING in fits file\n"
     ]
    },
    {
     "name": "stderr",
     "output_type": "stream",
     "text": [
      "/home/mabitbol/.local/lib/python2.7/site-packages/healpy/pixelfunc.py:249: RuntimeWarning: invalid value encountered in less_equal\n",
      "  return np.absolute(m - badval) <= atol + rtol * np.absolute(badval)\n"
     ]
    },
    {
     "name": "stdout",
     "output_type": "stream",
     "text": [
      "Sigma is 0.000000 arcmin (0.000000 rad) \n",
      "-> fwhm is 0.000000 arcmin\n"
     ]
    }
   ],
   "source": [
    "z = hp.read_map('../externaldata/IRIS_nohole_1_2048.fits')\n",
    "mask = z == -32768\n",
    "z[mask] = hp.UNSEEN\n",
    "mask = np.isnan(z)\n",
    "z[mask] = hp.UNSEEN\n",
    "z = hp.smoothing(hp.ud_grade(z, 512), fwhm=1.*np.pi/180., verbose=False)"
   ]
  },
  {
   "cell_type": "code",
   "execution_count": 8,
   "metadata": {
    "collapsed": false
   },
   "outputs": [
    {
     "data": {
      "image/png": "[encoded data removed]",
      "text/plain": [
       "<matplotlib.figure.Figure at 0x7f1495c40090>"
      ]
     },
     "metadata": {},
     "output_type": "display_data"
    }
   ],
   "source": [
    "hp.cartview(z, lonra=lonra, latra=latra)"
   ]
  },
  {
   "cell_type": "code",
   "execution_count": 18,
   "metadata": {
    "collapsed": false
   },
   "outputs": [
    {
     "data": {
      "image/png": "[encoded data removed]",
      "text/plain": [
       "<matplotlib.figure.Figure at 0x7f1490afb9d0>"
      ]
     },
     "metadata": {},
     "output_type": "display_data"
    }
   ],
   "source": [
    "hp.cartview(irismap, lonra=lonra, latra=latra)"
   ]
  },
  {
   "cell_type": "code",
   "execution_count": 9,
   "metadata": {
    "collapsed": true
   },
   "outputs": [],
   "source": [
    "def iris_flux(iris, inside=60., outside=90., radius=60.):\n",
    "    z = hp.read_map(iris)\n",
    "    mask = z == -32768\n",
    "    z[mask] = hp.UNSEEN\n",
    "    mask = np.isnan(z)\n",
    "    z[mask] = hp.UNSEEN\n",
    "    z = hp.ud_grade(hp.smoothing(z, fwhm=1.*np.pi/180., verbose=False), 512)\n",
    "    \n",
    "    nside = hp.get_nside(z)\n",
    "    vecc = hp.rotator.dir2vec(lonc, latc, lonlat=True)\n",
    "    rmask = hp.query_disc(nside, vecc, (radius/60.)*d2r, inclusive=False)\n",
    "    amaskout = set(hp.query_disc(nside, vecc, (outside/60.)*d2r, inclusive=False))\n",
    "    amaskin = set(hp.query_disc(nside, vecc, (inside/60.)*d2r, inclusive=False))\n",
    "    amask = np.array(list(amaskout.difference(amaskin)))\n",
    "    \n",
    "    y = z * hp.nside2pixarea(nside) * 1.e6\n",
    "    \n",
    "    rdata = y[rmask]\n",
    "    adata = y[amask]\n",
    "    flux = np.sum(rdata - np.median(adata))\n",
    "    rms = np.std(adata) * np.sqrt(len(rdata) + pi/2. * float(len(rdata)**2) / len(adata))\n",
    "    print flux, rms"
   ]
  },
  {
   "cell_type": "code",
   "execution_count": null,
   "metadata": {
    "collapsed": true
   },
   "outputs": [],
   "source": []
  },
  {
   "cell_type": "code",
   "execution_count": 7,
   "metadata": {
    "collapsed": false
   },
   "outputs": [
    {
     "data": {
      "text/plain": [
       "25000.0"
      ]
     },
     "execution_count": 7,
     "metadata": {},
     "output_type": "execute_result"
    }
   ],
   "source": [
    "3e8 / (12e-6) * 1e-9"
   ]
  },
  {
   "cell_type": "code",
   "execution_count": 10,
   "metadata": {
    "collapsed": false
   },
   "outputs": [
    {
     "data": {
      "text/plain": [
       "12000.0"
      ]
     },
     "execution_count": 10,
     "metadata": {},
     "output_type": "execute_result"
    }
   ],
   "source": [
    "3e8 / (25e-6) * 1e-9"
   ]
  },
  {
   "cell_type": "code",
   "execution_count": 11,
   "metadata": {
    "collapsed": false
   },
   "outputs": [
    {
     "data": {
      "text/plain": [
       "5000.0"
      ]
     },
     "execution_count": 11,
     "metadata": {},
     "output_type": "execute_result"
    }
   ],
   "source": [
    "3e8 / (60e-6) * 1e-9"
   ]
  },
  {
   "cell_type": "code",
   "execution_count": 12,
   "metadata": {
    "collapsed": false
   },
   "outputs": [
    {
     "data": {
      "text/plain": [
       "3000.0"
      ]
     },
     "execution_count": 12,
     "metadata": {},
     "output_type": "execute_result"
    }
   ],
   "source": [
    "3e8 / (100e-6) * 1e-9"
   ]
  },
  {
   "cell_type": "code",
   "execution_count": 11,
   "metadata": {
    "collapsed": true
   },
   "outputs": [],
   "source": [
    "irisfiles = ['../externaldata/IRIS_nohole_1_2048.fits', \\\n",
    "            '../externaldata/IRIS_nohole_2_2048.fits', \\\n",
    "            '../externaldata/IRIS_nohole_3_2048.fits', \\\n",
    "            '../externaldata/IRIS_nohole_4_2048.fits']\n",
    "irisfreqs = np.array([25000, 12000, 5000, 3000]) * 1.e9\n",
    "irisbeams = np.array([3.8, 3.8, 4.0, 4.3])"
   ]
  },
  {
   "cell_type": "code",
   "execution_count": 12,
   "metadata": {
    "collapsed": false
   },
   "outputs": [
    {
     "name": "stdout",
     "output_type": "stream",
     "text": [
      "Sigma is 25.414137 arcmin (0.007393 rad) \n",
      "-> fwhm is 59.845718 arcmin\n",
      "Sigma is 0.000000 arcmin (0.000000 rad) \n",
      "-> fwhm is 0.000000 arcmin\n"
     ]
    }
   ],
   "source": [
    "irismap = hp.read_map(irisfiles[0], verbose=False)\n",
    "mask = irismap == -32768\n",
    "irismap[mask] = hp.UNSEEN\n",
    "mask = np.isnan(irismap)\n",
    "irismap[mask] = hp.UNSEEN\n",
    "newbeam = np.sqrt(60.**2 - irisbeams[k]**2) / 60.\n",
    "irismap = hp.ud_grade(hp.smoothing(irismap, fwhm=newbeam*d2r), 512)\n",
    "nside = hp.get_nside(irismap)\n",
    "irismap *= 1.e6 * hp.nside2pixarea(nside)"
   ]
  },
  {
   "cell_type": "code",
   "execution_count": 23,
   "metadata": {
    "collapsed": false
   },
   "outputs": [],
   "source": [
    "vecc = hp.rotator.dir2vec(lonc, latc, lonlat=True)\n",
    "rmask = hp.query_disc(nside, vecc, (60./60.)*d2r, inclusive=False)\n",
    "amaskout = set(hp.query_disc(nside, vecc, (100./60.)*d2r, inclusive=False))\n",
    "amaskin = set(hp.query_disc(nside, vecc, (80./60.)*d2r, inclusive=False))\n",
    "amask = np.array(list(amaskout.difference(amaskin)))"
   ]
  },
  {
   "cell_type": "code",
   "execution_count": 24,
   "metadata": {
    "collapsed": false
   },
   "outputs": [
    {
     "name": "stdout",
     "output_type": "stream",
     "text": [
      "1926.64137752 38.4424715463\n"
     ]
    }
   ],
   "source": [
    "vecc = hp.rotator.dir2vec(lonc, latc, lonlat=True)\n",
    "rmask = hp.query_disc(nside, vecc, (60./60.)*d2r, inclusive=False)\n",
    "amaskout = set(hp.query_disc(nside, vecc, (100./60.)*d2r, inclusive=False))\n",
    "amaskin = set(hp.query_disc(nside, vecc, (80./60.)*d2r, inclusive=False))\n",
    "amask = np.array(list(amaskout.difference(amaskin)))\n",
    "rdata = irismap[rmask]\n",
    "adata = irismap[amask]\n",
    "flux = np.sum(rdata - np.median(adata))\n",
    "rms = np.std(adata) * np.sqrt(len(rdata) + pi/2. * float(len(rdata)**2) / len(adata))\n",
    "print flux, rms"
   ]
  },
  {
   "cell_type": "code",
   "execution_count": null,
   "metadata": {
    "collapsed": true
   },
   "outputs": [],
   "source": []
  },
  {
   "cell_type": "code",
   "execution_count": null,
   "metadata": {
    "collapsed": true
   },
   "outputs": [],
   "source": []
  },
  {
   "cell_type": "code",
   "execution_count": null,
   "metadata": {
    "collapsed": true
   },
   "outputs": [],
   "source": []
  },
  {
   "cell_type": "code",
   "execution_count": 10,
   "metadata": {
    "collapsed": false
   },
   "outputs": [
    {
     "name": "stdout",
     "output_type": "stream",
     "text": [
      "NSIDE = 2048\n",
      "ORDERING = RING in fits file\n",
      "Sigma is 0.000000 arcmin (0.000000 rad) \n",
      "-> fwhm is 0.000000 arcmin\n",
      "1923.25363566 38.3742194502\n"
     ]
    }
   ],
   "source": [
    "# 1 is 12um, 2 is 25um, 3 is 60um, 4 is 100um\n",
    "iris_flux('../externaldata/IRIS_nohole_1_2048.fits', inside=80, outside=100)"
   ]
  },
  {
   "cell_type": "code",
   "execution_count": 48,
   "metadata": {
    "collapsed": false
   },
   "outputs": [
    {
     "data": {
      "text/plain": [
       "103.34026320849004"
      ]
     },
     "execution_count": 48,
     "metadata": {},
     "output_type": "execute_result"
    }
   ],
   "source": [
    "np.sqrt(38**2 + (0.05*1922)**2)"
   ]
  },
  {
   "cell_type": "code",
   "execution_count": 43,
   "metadata": {
    "collapsed": false
   },
   "outputs": [
    {
     "name": "stdout",
     "output_type": "stream",
     "text": [
      "NSIDE = 2048\n",
      "ORDERING = RING in fits file\n",
      "Sigma is 0.000000 arcmin (0.000000 rad) \n",
      "-> fwhm is 0.000000 arcmin\n",
      "4148.97673886 63.0260930393\n"
     ]
    }
   ],
   "source": [
    "# 1 is 12um, 2 is 25um, 3 is 60um, 4 is 100um\n",
    "iris_flux('../externaldata/IRIS_nohole_2_2048.fits', inside=80, outside=100)"
   ]
  },
  {
   "cell_type": "code",
   "execution_count": 45,
   "metadata": {
    "collapsed": false
   },
   "outputs": [
    {
     "data": {
      "text/plain": [
       "625.53059277704392"
      ]
     },
     "execution_count": 45,
     "metadata": {},
     "output_type": "execute_result"
    }
   ],
   "source": [
    "np.sqrt(63**2 + (0.15*4149)**2)"
   ]
  },
  {
   "cell_type": "code",
   "execution_count": 49,
   "metadata": {
    "collapsed": false
   },
   "outputs": [
    {
     "name": "stdout",
     "output_type": "stream",
     "text": [
      "NSIDE = 2048\n",
      "ORDERING = RING in fits file\n",
      "Sigma is 0.000000 arcmin (0.000000 rad) \n",
      "-> fwhm is 0.000000 arcmin\n",
      "25144.9458576 308.645978192\n"
     ]
    }
   ],
   "source": [
    "# 1 is 12um, 2 is 25um, 3 is 60um, 4 is 100um\n",
    "iris_flux('../externaldata/IRIS_nohole_3_2048.fits', inside=80, outside=100)"
   ]
  },
  {
   "cell_type": "code",
   "execution_count": 51,
   "metadata": {
    "collapsed": false
   },
   "outputs": [
    {
     "data": {
      "text/plain": [
       "2533.1939049350331"
      ]
     },
     "execution_count": 51,
     "metadata": {},
     "output_type": "execute_result"
    }
   ],
   "source": [
    "np.sqrt(308**2 + (0.10*25144)**2)"
   ]
  },
  {
   "cell_type": "code",
   "execution_count": 52,
   "metadata": {
    "collapsed": false
   },
   "outputs": [
    {
     "name": "stdout",
     "output_type": "stream",
     "text": [
      "NSIDE = 2048\n",
      "ORDERING = RING in fits file\n",
      "Sigma is 0.000000 arcmin (0.000000 rad) \n",
      "-> fwhm is 0.000000 arcmin\n",
      "52436.9051048 917.853399304\n"
     ]
    }
   ],
   "source": [
    "# 1 is 12um, 2 is 25um, 3 is 60um, 4 is 100um\n",
    "iris_flux('../externaldata/IRIS_nohole_4_2048.fits', inside=80, outside=100)"
   ]
  },
  {
   "cell_type": "code",
   "execution_count": 53,
   "metadata": {
    "collapsed": false
   },
   "outputs": [
    {
     "data": {
      "text/plain": [
       "7138.007277917276"
      ]
     },
     "execution_count": 53,
     "metadata": {},
     "output_type": "execute_result"
    }
   ],
   "source": [
    "np.sqrt(917**2 + (0.135*52436)**2)"
   ]
  },
  {
   "cell_type": "code",
   "execution_count": null,
   "metadata": {
    "collapsed": true
   },
   "outputs": [],
   "source": []
  }
 ],
 "metadata": {
  "kernelspec": {
   "display_name": "Python 2",
   "language": "python",
   "name": "python2"
  },
  "language_info": {
   "codemirror_mode": {
    "name": "ipython",
    "version": 2
   },
   "file_extension": ".py",
   "mimetype": "text/x-python",
   "name": "python",
   "nbconvert_exporter": "python",
   "pygments_lexer": "ipython2",
   "version": "2.7.13"
  }
 },
 "nbformat": 4,
 "nbformat_minor": 2
}
