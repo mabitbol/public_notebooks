{
 "cells": [
  {
   "cell_type": "code",
   "execution_count": 1,
   "metadata": {
    "collapsed": false
   },
   "outputs": [
    {
     "name": "stdout",
     "output_type": "stream",
     "text": [
      "Populating the interactive namespace from numpy and matplotlib\n"
     ]
    }
   ],
   "source": [
    "%pylab inline"
   ]
  },
  {
   "cell_type": "code",
   "execution_count": 2,
   "metadata": {
    "collapsed": false
   },
   "outputs": [
    {
     "name": "stdout",
     "output_type": "stream",
     "text": [
      "/home/mabitbol/GBT-S140/analysis\n"
     ]
    }
   ],
   "source": [
    "cd /home/mabitbol/GBT-S140/analysis/"
   ]
  },
  {
   "cell_type": "code",
   "execution_count": 3,
   "metadata": {
    "collapsed": true
   },
   "outputs": [],
   "source": [
    "import spectra as spec"
   ]
  },
  {
   "cell_type": "code",
   "execution_count": 4,
   "metadata": {
    "collapsed": true
   },
   "outputs": [],
   "source": [
    "spectrum = spec.AperturePhotometry(inside=67., outside=90.)"
   ]
  },
  {
   "cell_type": "code",
   "execution_count": 5,
   "metadata": {
    "collapsed": false
   },
   "outputs": [
    {
     "data": {
      "text/plain": [
       "([31.632674932479858,\n",
       "  31.357146620750427,\n",
       "  28.49216927587986,\n",
       "  25.705389365553856,\n",
       "  34.781158536672592],\n",
       " [0.88105547921204608,\n",
       "  0.87757244077114571,\n",
       "  0.85334168678953104,\n",
       "  1.0439084274695756,\n",
       "  2.0083911251101307])"
      ]
     },
     "execution_count": 5,
     "metadata": {},
     "output_type": "execute_result"
    }
   ],
   "source": [
    "wmapflux, wmaperrs = spectrum.run_experiment(spectrum.wmapfiles)"
   ]
  },
  {
   "cell_type": "code",
   "execution_count": null,
   "metadata": {
    "collapsed": true
   },
   "outputs": [],
   "source": []
  },
  {
   "cell_type": "code",
   "execution_count": 7,
   "metadata": {
    "collapsed": false
   },
   "outputs": [],
   "source": [
    "pflux, perrs = spectrum.run_experiment(spectrum.planckfiles)"
   ]
  },
  {
   "cell_type": "code",
   "execution_count": 8,
   "metadata": {
    "collapsed": false
   },
   "outputs": [
    {
     "data": {
      "text/plain": [
       "array([  2.84000000e+10,   4.41000000e+10,   7.04000000e+10,\n",
       "         1.43000000e+11,   2.17000000e+11,   3.53000000e+11,\n",
       "         5.45000000e+11,   8.57000000e+11])"
      ]
     },
     "execution_count": 8,
     "metadata": {},
     "output_type": "execute_result"
    }
   ],
   "source": [
    "spectrum.planckfreqs"
   ]
  },
  {
   "cell_type": "code",
   "execution_count": null,
   "metadata": {
    "collapsed": true
   },
   "outputs": [],
   "source": []
  },
  {
   "cell_type": "code",
   "execution_count": 18,
   "metadata": {
    "collapsed": false
   },
   "outputs": [
    {
     "data": {
      "text/plain": [
       "array([  2.50000000e+13,   1.20000000e+13,   5.00000000e+12,\n",
       "         3.00000000e+12])"
      ]
     },
     "execution_count": 18,
     "metadata": {},
     "output_type": "execute_result"
    }
   ],
   "source": [
    "spectrum.irisfreqs"
   ]
  },
  {
   "cell_type": "code",
   "execution_count": 17,
   "metadata": {
    "collapsed": false
   },
   "outputs": [
    {
     "data": {
      "text/plain": [
       "([1925.8985934257507,\n",
       "  4156.5936050415039,\n",
       "  25203.214221954346,\n",
       "  52549.74577331543],\n",
       " [38.427498538743151,\n",
       "  63.149274592441095,\n",
       "  309.45122978572113,\n",
       "  919.78777406282859])"
      ]
     },
     "execution_count": 17,
     "metadata": {},
     "output_type": "execute_result"
    }
   ],
   "source": [
    "spectrum.run_experiment(spectrum.irisfiles)"
   ]
  },
  {
   "cell_type": "code",
   "execution_count": 19,
   "metadata": {
    "collapsed": false
   },
   "outputs": [
    {
     "data": {
      "text/plain": [
       "array([  2.40000000e+14,   1.36360000e+14,   8.57100000e+13,\n",
       "         6.12200000e+13,   2.50000000e+13,   1.20000000e+13,\n",
       "         5.00000000e+12,   3.00000000e+12,   2.14280000e+12,\n",
       "         1.25000000e+12])"
      ]
     },
     "execution_count": 19,
     "metadata": {},
     "output_type": "execute_result"
    }
   ],
   "source": [
    "spectrum.dirbefreqs"
   ]
  },
  {
   "cell_type": "code",
   "execution_count": 8,
   "metadata": {
    "collapsed": false
   },
   "outputs": [
    {
     "data": {
      "text/plain": [
       "([120.82237476110458,\n",
       "  157.95607751607895,\n",
       "  175.49477934837341,\n",
       "  187.67948943376541,\n",
       "  1783.5755047798157,\n",
       "  3474.6156387329102,\n",
       "  24606.915657043457,\n",
       "  49586.261642456055,\n",
       "  80216.431091308594,\n",
       "  46854.170928955078],\n",
       " [36.626654112102038,\n",
       "  37.944885408187638,\n",
       "  18.861293489466497,\n",
       "  8.4068980969050084,\n",
       "  43.295220730564232,\n",
       "  52.650926164462071,\n",
       "  376.87594711837153,\n",
       "  1060.5722142623765,\n",
       "  1963.6687910965784,\n",
       "  1511.6200740315546])"
      ]
     },
     "execution_count": 8,
     "metadata": {},
     "output_type": "execute_result"
    }
   ],
   "source": [
    "spectrum.run_experiment(spectrum.dirbefiles)"
   ]
  },
  {
   "cell_type": "code",
   "execution_count": null,
   "metadata": {
    "collapsed": true
   },
   "outputs": [],
   "source": []
  }
 ],
 "metadata": {
  "kernelspec": {
   "display_name": "Python 2",
   "language": "python",
   "name": "python2"
  },
  "language_info": {
   "codemirror_mode": {
    "name": "ipython",
    "version": 2
   },
   "file_extension": ".py",
   "mimetype": "text/x-python",
   "name": "python",
   "nbconvert_exporter": "python",
   "pygments_lexer": "ipython2",
   "version": "2.7.13"
  }
 },
 "nbformat": 4,
 "nbformat_minor": 2
}
