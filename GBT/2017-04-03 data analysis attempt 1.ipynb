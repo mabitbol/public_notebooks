{
 "cells": [
  {
   "cell_type": "code",
   "execution_count": 1,
   "metadata": {
    "collapsed": false,
    "deletable": true,
    "editable": true
   },
   "outputs": [
    {
     "name": "stdout",
     "output_type": "stream",
     "text": [
      "Populating the interactive namespace from numpy and matplotlib\n"
     ]
    }
   ],
   "source": [
    "%pylab inline"
   ]
  },
  {
   "cell_type": "code",
   "execution_count": 2,
   "metadata": {
    "collapsed": false,
    "deletable": true,
    "editable": true
   },
   "outputs": [
    {
     "name": "stdout",
     "output_type": "stream",
     "text": [
      "/users/mabitbol/GBT-S140\n"
     ]
    }
   ],
   "source": [
    "cd ../"
   ]
  },
  {
   "cell_type": "code",
   "execution_count": 3,
   "metadata": {
    "collapsed": false,
    "deletable": true,
    "editable": true
   },
   "outputs": [],
   "source": [
    "from get_data import get_data"
   ]
  },
  {
   "cell_type": "code",
   "execution_count": 3,
   "metadata": {
    "collapsed": true,
    "deletable": true,
    "editable": true
   },
   "outputs": [],
   "source": [
    "datafilename = '/home/scratch/mabitbol/Daisy.raw.vegas/Daisy.raw.vegas.B.fits'"
   ]
  },
  {
   "cell_type": "code",
   "execution_count": 4,
   "metadata": {
    "collapsed": true,
    "deletable": true,
    "editable": true
   },
   "outputs": [],
   "source": [
    "datafilename = '/home/scratch/mabitbol/OnOff3C280_end.raw.vegas/OnOff3C280_end.raw.vegas.B.fits'"
   ]
  },
  {
   "cell_type": "code",
   "execution_count": 41,
   "metadata": {
    "collapsed": true
   },
   "outputs": [],
   "source": [
    "from astropy.io import fits"
   ]
  },
  {
   "cell_type": "code",
   "execution_count": 106,
   "metadata": {
    "collapsed": true
   },
   "outputs": [],
   "source": [
    "f = fits.open(datafilename)"
   ]
  },
  {
   "cell_type": "code",
   "execution_count": null,
   "metadata": {
    "collapsed": true
   },
   "outputs": [],
   "source": [
    "hdu = "
   ]
  },
  {
   "cell_type": "code",
   "execution_count": null,
   "metadata": {
    "collapsed": true
   },
   "outputs": [],
   "source": []
  },
  {
   "cell_type": "code",
   "execution_count": null,
   "metadata": {
    "collapsed": true
   },
   "outputs": [],
   "source": []
  },
  {
   "cell_type": "code",
   "execution_count": null,
   "metadata": {
    "collapsed": true
   },
   "outputs": [],
   "source": []
  },
  {
   "cell_type": "code",
   "execution_count": 46,
   "metadata": {
    "collapsed": false
   },
   "outputs": [
    {
     "data": {
      "text/plain": [
       "XTENSION= 'BINTABLE'           / binary table extension                         \n",
       "BITPIX  =                    8 / 8-bit bytes                                    \n",
       "NAXIS   =                    2 / 2-dimensional binary table                     \n",
       "NAXIS1  =                66162 / width of table in bytes                        \n",
       "NAXIS2  =               320544 / number of rows in table                        \n",
       "PCOUNT  =                    0 / size of special data area                      \n",
       "GCOUNT  =                    1 / one data group (required keyword)              \n",
       "TFIELDS =                   74 / number of fields in each row                   \n",
       "COMMENT Start of SDFITS CORE keywords/columns.                                  \n",
       "TTYPE1  = 'OBJECT  '           / name of source observed                        \n",
       "TFORM1  = '32A     '                                                            \n",
       "TUNIT1  = '        '                                                            \n",
       "TELESCOP= 'NRAO_GBT'           / the telescope used                             \n",
       "TTYPE2  = 'BANDWID '           / bandwidth                                      \n",
       "TFORM2  = '1D      '                                                            \n",
       "TUNIT2  = 'Hz      '                                                            \n",
       "TTYPE3  = 'DATE-OBS'           / date and time of observation start             \n",
       "TFORM3  = '22A     '                                                            \n",
       "TUNIT3  = '        '                                                            \n",
       "TTYPE4  = 'DURATION'           / total integration duration in seconds          \n",
       "TFORM4  = '1D      '                                                            \n",
       "TUNIT4  = 's       '                                                            \n",
       "TTYPE5  = 'EXPOSURE'           / effective int time (excludes blanking) in secs \n",
       "TFORM5  = '1D      '                                                            \n",
       "TUNIT5  = 's       '                                                            \n",
       "TTYPE6  = 'TSYS    '           / system temperature in Kelvin                   \n",
       "TFORM6  = '1D      '                                                            \n",
       "TUNIT6  = 'K       '                                                            \n",
       "COMMENT End of SDFITS CORE keywords/columns.                                    \n",
       "COMMENT Start of SDFITS DATA column and descriptive axes.                       \n",
       "TTYPE7  = 'DATA    '           / actual data                                    \n",
       "TFORM7  = '16384E  '                                                            \n",
       "TUNIT7  = '        '                                                            \n",
       "TTYPE8  = 'TDIM7   '           / data dimensions of the array                   \n",
       "TFORM8  = '16A     '                                                            \n",
       "TUNIT8  = '        '                                                            \n",
       "TTYPE9  = 'TUNIT7  '                                                            \n",
       "TFORM9  = '6A      '                                                            \n",
       "TUNIT9  = '        '                                                            \n",
       "TTYPE10 = 'CTYPE1  '           / first data axis is frequency-like              \n",
       "TFORM10 = '8A      '                                                            \n",
       "TUNIT10 = 'Hz      '                                                            \n",
       "TTYPE11 = 'CRVAL1  '                                                            \n",
       "TFORM11 = '1D      '                                                            \n",
       "TUNIT11 = 'Hz      '                                                            \n",
       "TTYPE12 = 'CRPIX1  '                                                            \n",
       "TFORM12 = '1D      '                                                            \n",
       "TUNIT12 = '        '                                                            \n",
       "TTYPE13 = 'CDELT1  '                                                            \n",
       "TFORM13 = '1D      '                                                            \n",
       "TUNIT13 = 'Hz      '                                                            \n",
       "TTYPE14 = 'CTYPE2  '           / second axis is longitude-like                  \n",
       "TFORM14 = '4A      '                                                            \n",
       "TUNIT14 = '        '                                                            \n",
       "TTYPE15 = 'CRVAL2  '                                                            \n",
       "TFORM15 = '1D      '                                                            \n",
       "TUNIT15 = 'deg     '                                                            \n",
       "TTYPE16 = 'CTYPE3  '           / third axis is latitude-like                    \n",
       "TFORM16 = '4A      '                                                            \n",
       "TUNIT16 = '        '                                                            \n",
       "TTYPE17 = 'CRVAL3  '                                                            \n",
       "TFORM17 = '1D      '                                                            \n",
       "TUNIT17 = 'deg     '                                                            \n",
       "CTYPE4  = 'STOKES  '           / fourth axis is Stokes                          \n",
       "TTYPE18 = 'CRVAL4  '                                                            \n",
       "TFORM18 = '1I      '                                                            \n",
       "TUNIT18 = '        '                                                            \n",
       "COMMENT End of SDFITS DATA column and descriptive axes.                         \n",
       "COMMENT Start of SDFITS SHARED keywords/columns.                                \n",
       "TTYPE19 = 'OBSERVER'           / name of observer(s)                            \n",
       "TFORM19 = '32A     '                                                            \n",
       "TUNIT19 = '        '                                                            \n",
       "TTYPE20 = 'OBSID   '           / observation description                        \n",
       "TFORM20 = '32A     '                                                            \n",
       "TUNIT20 = '        '                                                            \n",
       "PROJID  = 'AGBT17A_259_01'     / project identifier                             \n",
       "TTYPE21 = 'SCAN    '           / scan number                                    \n",
       "TFORM21 = '1J      '                                                            \n",
       "TUNIT21 = '        '                                                            \n",
       "TTYPE22 = 'OBSMODE '           / observing mode                                 \n",
       "TFORM22 = '32A     '                                                            \n",
       "TUNIT22 = '        '                                                            \n",
       "TTYPE23 = 'FRONTEND'           / frontend device                                \n",
       "TFORM23 = '16A     '                                                            \n",
       "TUNIT23 = '        '                                                            \n",
       "BACKEND = 'VEGAS   '           / backend device                                 \n",
       "TTYPE24 = 'TCAL    '           / calibration temperature                        \n",
       "TFORM24 = '1E      '                                                            \n",
       "TUNIT24 = 'K       '                                                            \n",
       "TTYPE25 = 'VELDEF  '           / velocity definition and frame                  \n",
       "TFORM25 = '8A      '                                                            \n",
       "TUNIT25 = '        '                                                            \n",
       "TTYPE26 = 'VFRAME  '           / radial velocity of the reference frame         \n",
       "TFORM26 = '1D      '                                                            \n",
       "TUNIT26 = 'm/s     '                                                            \n",
       "TTYPE27 = 'RVSYS   '           / radial velocity, Vsource - Vtelescope          \n",
       "TFORM27 = '1D      '                                                            \n",
       "TUNIT27 = 'm/s     '                                                            \n",
       "TTYPE28 = 'OBSFREQ '           / observed center frequency                      \n",
       "TFORM28 = '1D      '                                                            \n",
       "TUNIT28 = 'Hz      '                                                            \n",
       "TTYPE29 = 'LST     '           / LST at midpoint of integration/scan            \n",
       "TFORM29 = '1D      '                                                            \n",
       "TUNIT29 = 's       '                                                            \n",
       "TTYPE30 = 'AZIMUTH '           / azimuth                                        \n",
       "TFORM30 = '1D      '                                                            \n",
       "TUNIT30 = 'deg     '                                                            \n",
       "TTYPE31 = 'ELEVATIO'           / elevation                                      \n",
       "TFORM31 = '1D      '                                                            \n",
       "TUNIT31 = 'deg     '                                                            \n",
       "TTYPE32 = 'TAMBIENT'           / ambient temperature                            \n",
       "TFORM32 = '1D      '                                                            \n",
       "TUNIT32 = 'K       '                                                            \n",
       "TTYPE33 = 'PRESSURE'           / ambient pressure                               \n",
       "TFORM33 = '1D      '                                                            \n",
       "TUNIT33 = 'mmHg    '                                                            \n",
       "TTYPE34 = 'HUMIDITY'           / relative humidity                              \n",
       "TFORM34 = '1D      '                                                            \n",
       "TUNIT34 = '        '                                                            \n",
       "SITELONG=        -7.983983E+01 / E. longitude of intersection of the az/el axes \n",
       "SITELAT =         3.843312E+01 / N. latitude of intersection of the az/el axes  \n",
       "SITEELEV=         8.245950E+02 / height of the intersection of az/el axes       \n",
       "TTYPE35 = 'RESTFREQ'           / rest frequency at band center                  \n",
       "TFORM35 = '1D      '                                                            \n",
       "TUNIT35 = 'Hz      '                                                            \n",
       "TTYPE36 = 'FREQRES '           / frequency resolution                           \n",
       "TFORM36 = '1D      '                                                            \n",
       "TUNIT36 = 'Hz      '                                                            \n",
       "COMMENT End of SDFITS SHARED keywords/columns.                                  \n",
       "COMMENT Start of GBT-specific keywords/columns.                                 \n",
       "TTYPE37 = 'EQUINOX '           / equinox of selected coordinate reference frame \n",
       "TFORM37 = '1D      '                                                            \n",
       "TUNIT37 = '        '                                                            \n",
       "TTYPE38 = 'RADESYS '           / Equitorial coordinate system name              \n",
       "TFORM38 = '8A      '                                                            \n",
       "TTYPE39 = 'TRGTLONG'           / target longitude in coord. ref. frame          \n",
       "TFORM39 = '1D      '                                                            \n",
       "TUNIT39 = 'deg     '                                                            \n",
       "TTYPE40 = 'TRGTLAT '           / target latitude in coord. ref. frame           \n",
       "TFORM40 = '1D      '                                                            \n",
       "TUNIT40 = 'deg     '                                                            \n",
       "TTYPE41 = 'SAMPLER '           / sampler description (e.g., \"A1\" or \"A1xA3\"     \n",
       "TFORM41 = '12A     '                                                            \n",
       "TUNIT41 = '        '                                                            \n",
       "TTYPE42 = 'FEED    '           / (signal) feed number                           \n",
       "TFORM42 = '1I      '                                                            \n",
       "TUNIT42 = '        '                                                            \n",
       "TTYPE43 = 'SRFEED  '           / reference feed number                          \n",
       "TFORM43 = '1I      '                                                            \n",
       "TUNIT43 = '        '                                                            \n",
       "COMMENT Feed offsets ARE included in the CRVAL2 and CRVAL3 columns              \n",
       "TTYPE44 = 'FEEDXOFF'           / feed XEL offset                                \n",
       "TFORM44 = '1D      '                                                            \n",
       "TUNIT44 = 'deg     '                                                            \n",
       "TTYPE45 = 'FEEDEOFF'           / feed EL offset                                 \n",
       "TFORM45 = '1D      '                                                            \n",
       "TUNIT45 = 'deg     '                                                            \n",
       "TTYPE46 = 'SUBREF_STATE'       / subreflector state (1,0,-1) - 0=moving         \n",
       "TFORM46 = '1I      '                                                            \n",
       "TUNIT46 = '        '                                                            \n",
       "TTYPE47 = 'SIDEBAND'           / resulting sideband ('U'pper or 'L'ower)        \n",
       "TFORM47 = '1A      '                                                            \n",
       "TUNIT47 = '        '                                                            \n",
       "TTYPE48 = 'PROCSEQN'           / scan sequence number                           \n",
       "TFORM48 = '1I      '                                                            \n",
       "TUNIT48 = '        '                                                            \n",
       "TTYPE49 = 'PROCSIZE'           / number of scans in procedure                   \n",
       "TFORM49 = '1I      '                                                            \n",
       "TUNIT49 = '        '                                                            \n",
       "TTYPE50 = 'PROCSCAN'           / scan's role in the procedure                   \n",
       "TFORM50 = '16A     '                                                            \n",
       "TUNIT50 = '        '                                                            \n",
       "TTYPE51 = 'PROCTYPE'           / type of the procedure                          \n",
       "TFORM51 = '16A     '                                                            \n",
       "TUNIT51 = '        '                                                            \n",
       "TTYPE52 = 'LASTON  '           / last 'on' for position switching               \n",
       "TFORM52 = '1J      '                                                            \n",
       "TUNIT52 = '        '                                                            \n",
       "TTYPE53 = 'LASTOFF '           / last 'off' for position switching              \n",
       "TFORM53 = '1J      '                                                            \n",
       "TUNIT53 = '        '                                                            \n",
       "TTYPE54 = 'TIMESTAMP'          / date and time of scan start                    \n",
       "TFORM54 = '22A     '                                                            \n",
       "TUNIT54 = 'UTC     '                                                            \n",
       "TTYPE55 = 'QD_XEL  '           / QuadrantDetector cross-elevation offset        \n",
       "TFORM55 = '1D      '                                                            \n",
       "TUNIT55 = 'deg     '                                                            \n",
       "TTYPE56 = 'QD_EL   '           / QuadrantDetector elevation offset              \n",
       "TFORM56 = '1D      '                                                            \n",
       "TUNIT56 = 'deg     '                                                            \n",
       "TTYPE57 = 'QD_BAD  '           / QuadrantDetector flag: 0=good,1=bad            \n",
       "TFORM57 = '1I      '                                                            \n",
       "TUNIT57 = '        '                                                            \n",
       "TTYPE58 = 'QD_METHOD'          / Quad. Det. method A,B,C. Blank indicates none. \n",
       "TFORM58 = '1A      '                                                            \n",
       "TUNIT58 = '        '                                                            \n",
       "TTYPE59 = 'VELOCITY'           / line velocity in rest frame                    \n",
       "TFORM59 = '1D      '                                                            \n",
       "TUNIT59 = 'm/s     '                                                            \n",
       "TTYPE60 = 'ZEROCHAN'           / zero channel                                   \n",
       "TFORM60 = '1E      '                                                            \n",
       "TUNIT60 = '        '                                                            \n",
       "TTYPE61 = 'DOPFREQ '           / Doppler tracked frequency                      \n",
       "TFORM61 = '1D      '                                                            \n",
       "TUNIT61 = 'Hz      '                                                            \n",
       "TTYPE62 = 'ADCSAMPF'           / VEGAS ADC sampler frequency                    \n",
       "TFORM62 = '1D      '                                                            \n",
       "TUNIT62 = '        '           /                                                \n",
       "COMMENT Columns describing VEGAS spur locations                                 \n",
       "COMMENT   SPUR_CHANNEL = (J-VSPRVAL)*VSPDELT+VSPRPIX                            \n",
       "COMMENT   0 <= J <= 32                                                          \n",
       "COMMENT   spur channels are along the frequency axis                            \n",
       "TTYPE63 = 'VSPDELT '           / channel increment between adjacent VEGAS spurs \n",
       "TFORM63 = '1D      '                                                            \n",
       "TUNIT63 = '        '                                                            \n",
       "TTYPE64 = 'VSPRVAL '           / VEGAS spur number at VSPRPIX                   \n",
       "TFORM64 = '1D      '                                                            \n",
       "TUNIT64 = '        '                                                            \n",
       "TTYPE65 = 'VSPRPIX '           / channel number of VEGAS spur VSPRVAL           \n",
       "TFORM65 = '1D      '                                                            \n",
       "TUNIT65 = '        '                                                            \n",
       "TTYPE66 = 'SIG     '           / signal is true, reference is false             \n",
       "TFORM66 = '1A      '                                                            \n",
       "TUNIT66 = '        '                                                            \n",
       "TTYPE67 = 'CAL     '           / cal ON is true, cal OFF is false               \n",
       "TFORM67 = '1A      '                                                            \n",
       "TUNIT67 = '        '                                                            \n",
       "TTYPE68 = 'CALTYPE '           / LOW or HIGH, may eventually be other types     \n",
       "TFORM68 = '8A      '                                                            \n",
       "TTYPE69 = 'TWARM   '           / 4mm RX ambient load temp (K)                   \n",
       "TFORM69 = '1E      '                                                            \n",
       "TUNIT69 = 'K       '                                                            \n",
       "TTYPE70 = 'TCOLD   '           / 4mm RX cold load temp (K)                      \n",
       "TFORM70 = '1E      '                                                            \n",
       "TUNIT70 = 'K       '                                                            \n",
       "TTYPE71 = 'CALPOSITION'        / 4mm RX table position                          \n",
       "TFORM71 = '16A     '                                                            \n",
       "TTYPE72 = 'IFNUM   '           / Spectral window (IF) number                    \n",
       "TFORM72 = '1I      '                                                            \n",
       "TTYPE73 = 'PLNUM   '           / Polarization number                            \n",
       "TFORM73 = '1I      '                                                            \n",
       "TTYPE74 = 'FDNUM   '           / Feed number                                    \n",
       "TFORM74 = '1I      '                                                            \n",
       "COMMENT End of GBT-specific keywords/columns.                                   \n",
       "EXTNAME = 'SINGLE DISH'        / name of this binary table extension            "
      ]
     },
     "execution_count": 46,
     "metadata": {},
     "output_type": "execute_result"
    }
   ],
   "source": [
    "fits.getheader(datafilename, 1)"
   ]
  },
  {
   "cell_type": "code",
   "execution_count": null,
   "metadata": {
    "collapsed": true
   },
   "outputs": [],
   "source": []
  },
  {
   "cell_type": "code",
   "execution_count": null,
   "metadata": {
    "collapsed": true
   },
   "outputs": [],
   "source": []
  },
  {
   "cell_type": "code",
   "execution_count": 82,
   "metadata": {
    "collapsed": false
   },
   "outputs": [
    {
     "name": "stdout",
     "output_type": "stream",
     "text": [
      "[  4.87509155e+09   4.87518311e+09   4.87527466e+09 ...,   6.37481689e+09\n",
      "   6.37490845e+09   6.37500000e+09]\n"
     ]
    }
   ],
   "source": [
    "print np.sort(x['freq'])"
   ]
  },
  {
   "cell_type": "code",
   "execution_count": 83,
   "metadata": {
    "collapsed": false,
    "deletable": true,
    "editable": true
   },
   "outputs": [
    {
     "name": "stdout",
     "output_type": "stream",
     "text": [
      "[ 91552.734375  91552.734375  91552.734375 ...,  91552.734375  91552.734375\n",
      "  91552.734375]\n"
     ]
    }
   ],
   "source": [
    "print np.diff(np.sort(x['freq']))"
   ]
  },
  {
   "cell_type": "code",
   "execution_count": 84,
   "metadata": {
    "collapsed": true
   },
   "outputs": [],
   "source": [
    "df = 91552.734375"
   ]
  },
  {
   "cell_type": "code",
   "execution_count": 87,
   "metadata": {
    "collapsed": false
   },
   "outputs": [
    {
     "data": {
      "text/plain": [
       "array([  4.87500009e+12,   4.87500018e+12,   4.87500027e+12, ...,\n",
       "         6.37499973e+12,   6.37499982e+12,   6.37499991e+12])"
      ]
     },
     "execution_count": 87,
     "metadata": {},
     "output_type": "execute_result"
    }
   ],
   "source": [
    "np.arange(4875.e9 +df, 6375.e9, df)"
   ]
  },
  {
   "cell_type": "code",
   "execution_count": 88,
   "metadata": {
    "collapsed": false
   },
   "outputs": [
    {
     "data": {
      "text/plain": [
       "array([1, 3, 5, 7, 9])"
      ]
     },
     "execution_count": 88,
     "metadata": {},
     "output_type": "execute_result"
    }
   ],
   "source": [
    "np.arange(1, 10, 2)"
   ]
  },
  {
   "cell_type": "code",
   "execution_count": 86,
   "metadata": {
    "collapsed": false
   },
   "outputs": [
    {
     "ename": "ValueError",
     "evalue": "operands could not be broadcast together with shapes (16384,) (16383999,) ",
     "output_type": "error",
     "traceback": [
      "\u001b[0;31m---------------------------------------------------------------------------\u001b[0m",
      "\u001b[0;31mValueError\u001b[0m                                Traceback (most recent call last)",
      "\u001b[0;32m<ipython-input-86-356cb505352f>\u001b[0m in \u001b[0;36m<module>\u001b[0;34m()\u001b[0m\n\u001b[0;32m----> 1\u001b[0;31m \u001b[0;32mprint\u001b[0m \u001b[0mnp\u001b[0m\u001b[0;34m.\u001b[0m\u001b[0msort\u001b[0m\u001b[0;34m(\u001b[0m\u001b[0mx\u001b[0m\u001b[0;34m[\u001b[0m\u001b[0;34m'freq'\u001b[0m\u001b[0;34m]\u001b[0m\u001b[0;34m)\u001b[0m \u001b[0;34m-\u001b[0m \u001b[0mnp\u001b[0m\u001b[0;34m.\u001b[0m\u001b[0marange\u001b[0m\u001b[0;34m(\u001b[0m\u001b[0;36m4875.e9\u001b[0m\u001b[0;34m+\u001b[0m\u001b[0mdf\u001b[0m\u001b[0;34m,\u001b[0m \u001b[0;36m6375.e9\u001b[0m\u001b[0;34m,\u001b[0m \u001b[0mdf\u001b[0m\u001b[0;34m)\u001b[0m\u001b[0;34m\u001b[0m\u001b[0m\n\u001b[0m",
      "\u001b[0;31mValueError\u001b[0m: operands could not be broadcast together with shapes (16384,) (16383999,) "
     ]
    }
   ],
   "source": [
    "print np.sort(x['freq']) - np.arange(4875.e9+df, 6375.e9, df)"
   ]
  },
  {
   "cell_type": "code",
   "execution_count": null,
   "metadata": {
    "collapsed": true
   },
   "outputs": [],
   "source": []
  },
  {
   "cell_type": "code",
   "execution_count": null,
   "metadata": {
    "collapsed": true
   },
   "outputs": [],
   "source": []
  },
  {
   "cell_type": "code",
   "execution_count": 6,
   "metadata": {
    "collapsed": false,
    "deletable": true,
    "editable": true
   },
   "outputs": [],
   "source": [
    "x = get_data(datafilename, nchan=None, chanStart=0, chanStop=16383, average=None, scanlist=[168], \n",
    "            mintsys=None, maxtsys=None)"
   ]
  },
  {
   "cell_type": "code",
   "execution_count": 7,
   "metadata": {
    "collapsed": false,
    "deletable": true,
    "editable": true
   },
   "outputs": [
    {
     "data": {
      "text/plain": [
       "['feed',\n",
       " 'equinox',\n",
       " 'observer',\n",
       " 'chanStop',\n",
       " 'siteelev',\n",
       " 'bandwidth',\n",
       " 'xsky',\n",
       " 'ysky',\n",
       " 'frontend',\n",
       " 'freq',\n",
       " 'chanStart',\n",
       " 'specsys',\n",
       " 'date-obs',\n",
       " 'jdobs',\n",
       " 'restfreq',\n",
       " 'scans',\n",
       " 'doppler',\n",
       " 'xctype',\n",
       " 'projid',\n",
       " 'calibtype',\n",
       " 'units',\n",
       " 'wt',\n",
       " 'radesys',\n",
       " 'data',\n",
       " 'stokes',\n",
       " 'nchan',\n",
       " 'telescop',\n",
       " 'ntsysflag',\n",
       " 'source',\n",
       " 'yctype',\n",
       " 'veldef',\n",
       " 'sitelong',\n",
       " 'sitelat']"
      ]
     },
     "execution_count": 7,
     "metadata": {},
     "output_type": "execute_result"
    }
   ],
   "source": [
    "x.keys()"
   ]
  },
  {
   "cell_type": "code",
   "execution_count": null,
   "metadata": {
    "collapsed": true
   },
   "outputs": [],
   "source": []
  },
  {
   "cell_type": "code",
   "execution_count": 38,
   "metadata": {
    "collapsed": false,
    "deletable": true,
    "editable": true
   },
   "outputs": [
    {
     "data": {
      "text/plain": [
       "array([ 0.        ,  0.03999174,  0.        , ...,  0.        ,\n",
       "        0.03999174,  0.        ])"
      ]
     },
     "execution_count": 38,
     "metadata": {},
     "output_type": "execute_result"
    }
   ],
   "source": [
    "np.diff(x['jdobs'][::4]) * 24.*60*60"
   ]
  },
  {
   "cell_type": "code",
   "execution_count": 40,
   "metadata": {
    "collapsed": false
   },
   "outputs": [
    {
     "data": {
      "text/plain": [
       "[<matplotlib.lines.Line2D at 0x7ffbba237390>]"
      ]
     },
     "execution_count": 40,
     "metadata": {},
     "output_type": "execute_result"
    },
    {
     "data": {
      "image/png": "[encoded data removed]",
      "text/plain": [
       "<matplotlib.figure.Figure at 0x7ffbba313fd0>"
      ]
     },
     "metadata": {},
     "output_type": "display_data"
    }
   ],
   "source": [
    "plot(np.diff(x['jdobs'][::8]) * 24.*60*60, '.')"
   ]
  },
  {
   "cell_type": "code",
   "execution_count": null,
   "metadata": {
    "collapsed": true
   },
   "outputs": [],
   "source": []
  },
  {
   "cell_type": "code",
   "execution_count": 33,
   "metadata": {
    "collapsed": false
   },
   "outputs": [
    {
     "data": {
      "text/plain": [
       "array([ 2457846.68284722,  2457846.68284722,  2457846.68284722, ...,\n",
       "        2457846.68354144,  2457846.68354144,  2457846.68354144])"
      ]
     },
     "execution_count": 33,
     "metadata": {},
     "output_type": "execute_result"
    }
   ],
   "source": [
    "x['jdobs']"
   ]
  },
  {
   "cell_type": "code",
   "execution_count": null,
   "metadata": {
    "collapsed": true
   },
   "outputs": [],
   "source": []
  },
  {
   "cell_type": "code",
   "execution_count": 18,
   "metadata": {
    "collapsed": false
   },
   "outputs": [
    {
     "name": "stdout",
     "output_type": "stream",
     "text": [
      "(16384,)\n"
     ]
    }
   ],
   "source": [
    "print x['freq'].shape"
   ]
  },
  {
   "cell_type": "code",
   "execution_count": 19,
   "metadata": {
    "collapsed": false
   },
   "outputs": [
    {
     "data": {
      "text/plain": [
       "[<matplotlib.lines.Line2D at 0x7ffbba5481d0>]"
      ]
     },
     "execution_count": 19,
     "metadata": {},
     "output_type": "execute_result"
    },
    {
     "data": {
      "image/png": "[encoded data removed]",
      "text/plain": [
       "<matplotlib.figure.Figure at 0x7ffbbc2e9dd0>"
      ]
     },
     "metadata": {},
     "output_type": "display_data"
    }
   ],
   "source": [
    "plot(x['freq'])"
   ]
  },
  {
   "cell_type": "code",
   "execution_count": 21,
   "metadata": {
    "collapsed": false
   },
   "outputs": [
    {
     "name": "stdout",
     "output_type": "stream",
     "text": [
      "5.625\n"
     ]
    }
   ],
   "source": [
    "print x['restfreq'] * 1.e-9"
   ]
  },
  {
   "cell_type": "code",
   "execution_count": null,
   "metadata": {
    "collapsed": true
   },
   "outputs": [],
   "source": []
  },
  {
   "cell_type": "code",
   "execution_count": 10,
   "metadata": {
    "collapsed": false
   },
   "outputs": [
    {
     "data": {
      "text/plain": [
       "(11448,)"
      ]
     },
     "execution_count": 10,
     "metadata": {},
     "output_type": "execute_result"
    }
   ],
   "source": [
    "x['xsky'].shape"
   ]
  },
  {
   "cell_type": "code",
   "execution_count": 11,
   "metadata": {
    "collapsed": false
   },
   "outputs": [
    {
     "data": {
      "text/plain": [
       "(11448, 16384)"
      ]
     },
     "execution_count": 11,
     "metadata": {},
     "output_type": "execute_result"
    }
   ],
   "source": [
    "x['data'].shape"
   ]
  },
  {
   "cell_type": "code",
   "execution_count": 12,
   "metadata": {
    "collapsed": false
   },
   "outputs": [
    {
     "name": "stdout",
     "output_type": "stream",
     "text": [
      "1431.0\n"
     ]
    }
   ],
   "source": [
    "print 11448/8."
   ]
  },
  {
   "cell_type": "code",
   "execution_count": 13,
   "metadata": {
    "collapsed": false
   },
   "outputs": [
    {
     "data": {
      "text/plain": [
       "57.24"
      ]
     },
     "execution_count": 13,
     "metadata": {},
     "output_type": "execute_result"
    }
   ],
   "source": [
    "1431. * 0.04"
   ]
  },
  {
   "cell_type": "code",
   "execution_count": 8,
   "metadata": {
    "collapsed": true,
    "deletable": true,
    "editable": true
   },
   "outputs": [],
   "source": [
    "xsky = x['xsky'][::8]\n",
    "ysky = x['ysky'][::8]"
   ]
  },
  {
   "cell_type": "code",
   "execution_count": 9,
   "metadata": {
    "collapsed": false,
    "deletable": true,
    "editable": true
   },
   "outputs": [
    {
     "data": {
      "text/plain": [
       "[<matplotlib.lines.Line2D at 0x7ffbbc3f2490>]"
      ]
     },
     "execution_count": 9,
     "metadata": {},
     "output_type": "execute_result"
    },
    {
     "data": {
      "image/png": "[encoded data removed]",
      "text/plain": [
       "<matplotlib.figure.Figure at 0x7ffbbc2e9d10>"
      ]
     },
     "metadata": {},
     "output_type": "display_data"
    }
   ],
   "source": [
    "plot(xsky, ysky)"
   ]
  },
  {
   "cell_type": "code",
   "execution_count": 47,
   "metadata": {
    "collapsed": false,
    "deletable": true,
    "editable": true
   },
   "outputs": [],
   "source": [
    "data = x['data']"
   ]
  },
  {
   "cell_type": "code",
   "execution_count": 48,
   "metadata": {
    "collapsed": false,
    "deletable": true,
    "editable": true
   },
   "outputs": [
    {
     "name": "stdout",
     "output_type": "stream",
     "text": [
      "(11448, 16384)\n"
     ]
    }
   ],
   "source": [
    "print data.shape"
   ]
  },
  {
   "cell_type": "code",
   "execution_count": 49,
   "metadata": {
    "collapsed": true,
    "deletable": true,
    "editable": true
   },
   "outputs": [],
   "source": [
    "data = data.reshape((-1, 8, 16384))"
   ]
  },
  {
   "cell_type": "code",
   "execution_count": 50,
   "metadata": {
    "collapsed": false,
    "deletable": true,
    "editable": true
   },
   "outputs": [
    {
     "data": {
      "text/plain": [
       "(1431, 8, 16384)"
      ]
     },
     "execution_count": 50,
     "metadata": {},
     "output_type": "execute_result"
    }
   ],
   "source": [
    "data.shape"
   ]
  },
  {
   "cell_type": "code",
   "execution_count": 51,
   "metadata": {
    "collapsed": true,
    "deletable": true,
    "editable": true
   },
   "outputs": [],
   "source": [
    "ondata = data[:,1::2,:]"
   ]
  },
  {
   "cell_type": "code",
   "execution_count": 52,
   "metadata": {
    "collapsed": true,
    "deletable": true,
    "editable": true
   },
   "outputs": [],
   "source": [
    "offdata = data[:,0::2,:]"
   ]
  },
  {
   "cell_type": "code",
   "execution_count": 53,
   "metadata": {
    "collapsed": false,
    "deletable": true,
    "editable": true
   },
   "outputs": [
    {
     "data": {
      "text/plain": [
       "(1431, 4, 16384)"
      ]
     },
     "execution_count": 53,
     "metadata": {},
     "output_type": "execute_result"
    }
   ],
   "source": [
    "ondata.shape"
   ]
  },
  {
   "cell_type": "code",
   "execution_count": 54,
   "metadata": {
    "collapsed": false,
    "deletable": true,
    "editable": true
   },
   "outputs": [
    {
     "data": {
      "text/plain": [
       "[<matplotlib.lines.Line2D at 0x7ffbba04ba10>,\n",
       " <matplotlib.lines.Line2D at 0x7ffbba04bc10>,\n",
       " <matplotlib.lines.Line2D at 0x7ffbba04bd50>,\n",
       " <matplotlib.lines.Line2D at 0x7ffbba04be90>]"
      ]
     },
     "execution_count": 54,
     "metadata": {},
     "output_type": "execute_result"
    },
    {
     "data": {
      "image/png": "[encoded data removed]",
      "text/plain": [
       "<matplotlib.figure.Figure at 0x7ffbba155e50>"
      ]
     },
     "metadata": {},
     "output_type": "display_data"
    }
   ],
   "source": [
    "plot(ondata.mean(2))"
   ]
  },
  {
   "cell_type": "code",
   "execution_count": 56,
   "metadata": {
    "collapsed": false,
    "deletable": true,
    "editable": true
   },
   "outputs": [
    {
     "data": {
      "text/plain": [
       "[<matplotlib.lines.Line2D at 0x7ffbb9ee0ed0>,\n",
       " <matplotlib.lines.Line2D at 0x7ffbb9ef1110>,\n",
       " <matplotlib.lines.Line2D at 0x7ffbb9ef1250>,\n",
       " <matplotlib.lines.Line2D at 0x7ffbb9ef1390>]"
      ]
     },
     "execution_count": 56,
     "metadata": {},
     "output_type": "execute_result"
    },
    {
     "data": {
      "image/png": "[encoded data removed]",
      "text/plain": [
       "<matplotlib.figure.Figure at 0x7ffbba4623d0>"
      ]
     },
     "metadata": {},
     "output_type": "display_data"
    }
   ],
   "source": [
    "plot(offdata.mean(2))"
   ]
  },
  {
   "cell_type": "code",
   "execution_count": 57,
   "metadata": {
    "collapsed": false,
    "deletable": true,
    "editable": true
   },
   "outputs": [
    {
     "data": {
      "text/plain": [
       "[<matplotlib.lines.Line2D at 0x7ffbb9e42090>,\n",
       " <matplotlib.lines.Line2D at 0x7ffbb9e42290>]"
      ]
     },
     "execution_count": 57,
     "metadata": {},
     "output_type": "execute_result"
    },
    {
     "data": {
      "image/png": "[encoded data removed]",
      "text/plain": [
       "<matplotlib.figure.Figure at 0x7ffbba38ef50>"
      ]
     },
     "metadata": {},
     "output_type": "display_data"
    }
   ],
   "source": [
    "plot(offdata.mean(2)[:,2:])"
   ]
  },
  {
   "cell_type": "code",
   "execution_count": 58,
   "metadata": {
    "collapsed": false,
    "deletable": true,
    "editable": true
   },
   "outputs": [
    {
     "data": {
      "text/plain": [
       "51511.523"
      ]
     },
     "execution_count": 58,
     "metadata": {},
     "output_type": "execute_result"
    }
   ],
   "source": [
    "np.mean(offdata.mean(2)[:,2])"
   ]
  },
  {
   "cell_type": "code",
   "execution_count": 59,
   "metadata": {
    "collapsed": false,
    "deletable": true,
    "editable": true
   },
   "outputs": [
    {
     "data": {
      "text/plain": [
       "6392.9106"
      ]
     },
     "execution_count": 59,
     "metadata": {},
     "output_type": "execute_result"
    }
   ],
   "source": [
    "np.mean(offdata.mean(2)[:,3])"
   ]
  },
  {
   "cell_type": "code",
   "execution_count": 60,
   "metadata": {
    "collapsed": false,
    "deletable": true,
    "editable": true
   },
   "outputs": [
    {
     "data": {
      "text/plain": [
       "4723.1719"
      ]
     },
     "execution_count": 60,
     "metadata": {},
     "output_type": "execute_result"
    }
   ],
   "source": [
    "np.std(offdata.mean(2)[:,2])"
   ]
  },
  {
   "cell_type": "code",
   "execution_count": 61,
   "metadata": {
    "collapsed": false,
    "deletable": true,
    "editable": true
   },
   "outputs": [
    {
     "data": {
      "text/plain": [
       "3644.5449"
      ]
     },
     "execution_count": 61,
     "metadata": {},
     "output_type": "execute_result"
    }
   ],
   "source": [
    "np.std(offdata.mean(2)[:,3])"
   ]
  },
  {
   "cell_type": "code",
   "execution_count": 62,
   "metadata": {
    "collapsed": false,
    "deletable": true,
    "editable": true
   },
   "outputs": [
    {
     "data": {
      "text/plain": [
       "(1431, 4, 16384)"
      ]
     },
     "execution_count": 62,
     "metadata": {},
     "output_type": "execute_result"
    }
   ],
   "source": [
    "offdata.shape"
   ]
  },
  {
   "cell_type": "code",
   "execution_count": 103,
   "metadata": {
    "collapsed": false
   },
   "outputs": [
    {
     "data": {
      "image/png": "[encoded data removed]",
      "text/plain": [
       "<matplotlib.figure.Figure at 0x7ffbb897fc50>"
      ]
     },
     "metadata": {},
     "output_type": "display_data"
    }
   ],
   "source": [
    "for k in range(2):\n",
    "    semilogy(offdata[:,k,:].mean(0))"
   ]
  },
  {
   "cell_type": "code",
   "execution_count": 104,
   "metadata": {
    "collapsed": false,
    "deletable": true,
    "editable": true
   },
   "outputs": [
    {
     "data": {
      "image/png": "[encoded data removed]",
      "text/plain": [
       "<matplotlib.figure.Figure at 0x7ffbb89af050>"
      ]
     },
     "metadata": {},
     "output_type": "display_data"
    }
   ],
   "source": [
    "for k in range(2):\n",
    "    plot(offdata[:,k+2,:].mean(0))"
   ]
  },
  {
   "cell_type": "code",
   "execution_count": 102,
   "metadata": {
    "collapsed": false,
    "deletable": true,
    "editable": true
   },
   "outputs": [
    {
     "data": {
      "image/png": "[encoded data removed]",
      "text/plain": [
       "<matplotlib.figure.Figure at 0x7ffbb85c0e90>"
      ]
     },
     "metadata": {},
     "output_type": "display_data"
    }
   ],
   "source": [
    "for k in range(2):\n",
    "    semilogy(np.nanmean(ondata[:,k,:],0))"
   ]
  },
  {
   "cell_type": "code",
   "execution_count": null,
   "metadata": {
    "collapsed": true
   },
   "outputs": [],
   "source": []
  },
  {
   "cell_type": "code",
   "execution_count": null,
   "metadata": {
    "collapsed": true
   },
   "outputs": [],
   "source": []
  },
  {
   "cell_type": "code",
   "execution_count": null,
   "metadata": {
    "collapsed": true
   },
   "outputs": [],
   "source": []
  },
  {
   "cell_type": "code",
   "execution_count": 70,
   "metadata": {
    "collapsed": false,
    "deletable": true,
    "editable": true
   },
   "outputs": [
    {
     "name": "stderr",
     "output_type": "stream",
     "text": [
      "/users/mabitbol/miniconda2/envs/gbt/lib/python2.7/site-packages/ipykernel/__main__.py:1: RuntimeWarning: divide by zero encountered in divide\n",
      "  if __name__ == '__main__':\n"
     ]
    }
   ],
   "source": [
    "calibrated_dataX = offdata[:,0,:] / (ondata[:,0,:] - offdata[:,0,:])"
   ]
  },
  {
   "cell_type": "code",
   "execution_count": 68,
   "metadata": {
    "collapsed": false
   },
   "outputs": [
    {
     "data": {
      "text/plain": [
       "(array([   6,   23,   25,   31,   50,   62,   63,   80,   88,   93,   93,\n",
       "         116,  120,  157,  168,  171,  171,  174,  222,  228,  228,  235,\n",
       "         247,  253,  264,  275,  298,  306,  306,  329,  340,  344,  362,\n",
       "         367,  376,  429,  467,  473,  480,  481,  494,  509,  518,  528,\n",
       "         541,  544,  593,  629,  633,  636,  637,  654,  665,  683,  692,\n",
       "         697,  719,  733,  737,  739,  755,  756,  770,  798,  805,  820,\n",
       "         828,  848,  852,  858,  858,  868,  874,  893,  906,  920,  923,\n",
       "         943,  944,  972,  977,  978,  994, 1001, 1012, 1013, 1053, 1067,\n",
       "        1069, 1081, 1094, 1095, 1095, 1100, 1104, 1104, 1105, 1110, 1114,\n",
       "        1121, 1129, 1145, 1213, 1215, 1218, 1236, 1239, 1243, 1282, 1314,\n",
       "        1331, 1348, 1374, 1386, 1390, 1414, 1417]),\n",
       " array([ 3, 10, 29, 18, 61,  5, 26, 26,  7, 10, 20, 27, 26,  4, 50, 16, 36,\n",
       "        13,  8, 34, 45,  1, 33, 14, 36, 15, 39, 51, 64, 26, 20, 18, 50, 20,\n",
       "        41, 31, 12,  4, 52, 46, 56, 18, 41,  7, 52, 29, 21, 38,  1, 51,  9,\n",
       "         5, 19, 50, 31,  7, 38, 14, 15,  2, 17, 28, 59, 35, 29, 55, 27, 28,\n",
       "        17, 28, 63, 14, 38,  8,  6, 41, 56, 20, 30,  1, 40, 39,  9, 65, 55,\n",
       "         9,  7, 22, 19, 47, 15, 24, 47, 13,  2, 42,  1, 11,  7, 48, 37, 13,\n",
       "        43, 35,  1, 30, 22, 50,  2, 46, 58, 29, 44, 36, 55,  4, 17]))"
      ]
     },
     "execution_count": 68,
     "metadata": {},
     "output_type": "execute_result"
    }
   ],
   "source": [
    "np.where(ondata[:,0,:]==offdata[:,0,:])"
   ]
  },
  {
   "cell_type": "code",
   "execution_count": 66,
   "metadata": {
    "collapsed": false
   },
   "outputs": [
    {
     "data": {
      "text/plain": [
       "[<matplotlib.lines.Line2D at 0x7ffbadf7de50>]"
      ]
     },
     "execution_count": 66,
     "metadata": {},
     "output_type": "execute_result"
    },
    {
     "data": {
      "image/png": "[encoded data removed]",
      "text/plain": [
       "<matplotlib.figure.Figure at 0x7ffbb9d8ddd0>"
      ]
     },
     "metadata": {},
     "output_type": "display_data"
    }
   ],
   "source": [
    "plot(np.mean(ondata[:,0,:] - offdata[:,0,:], 1))"
   ]
  },
  {
   "cell_type": "code",
   "execution_count": 72,
   "metadata": {
    "collapsed": false
   },
   "outputs": [
    {
     "data": {
      "text/plain": [
       "(1431, 16384)"
      ]
     },
     "execution_count": 72,
     "metadata": {},
     "output_type": "execute_result"
    }
   ],
   "source": [
    "calibrated_dataX.shape"
   ]
  },
  {
   "cell_type": "code",
   "execution_count": null,
   "metadata": {
    "collapsed": true
   },
   "outputs": [],
   "source": []
  },
  {
   "cell_type": "code",
   "execution_count": null,
   "metadata": {
    "collapsed": true
   },
   "outputs": [],
   "source": [
    "np.nanmx"
   ]
  },
  {
   "cell_type": "code",
   "execution_count": 73,
   "metadata": {
    "collapsed": false,
    "deletable": true,
    "editable": true
   },
   "outputs": [
    {
     "data": {
      "text/plain": [
       "[<matplotlib.lines.Line2D at 0x7ffbad5fc510>]"
      ]
     },
     "execution_count": 73,
     "metadata": {},
     "output_type": "execute_result"
    },
    {
     "data": {
      "image/png": "[encoded data removed]",
      "text/plain": [
       "<matplotlib.figure.Figure at 0x7ffbad833450>"
      ]
     },
     "metadata": {},
     "output_type": "display_data"
    }
   ],
   "source": [
    "plot(np.nanmean(calibrated_dataX, 0))"
   ]
  },
  {
   "cell_type": "code",
   "execution_count": 74,
   "metadata": {
    "collapsed": false,
    "deletable": true,
    "editable": true
   },
   "outputs": [
    {
     "name": "stderr",
     "output_type": "stream",
     "text": [
      "/users/mabitbol/miniconda2/envs/gbt/lib/python2.7/site-packages/ipykernel/__main__.py:1: RuntimeWarning: Mean of empty slice\n",
      "  if __name__ == '__main__':\n"
     ]
    },
    {
     "data": {
      "text/plain": [
       "[<matplotlib.lines.Line2D at 0x7ffbad298510>]"
      ]
     },
     "execution_count": 74,
     "metadata": {},
     "output_type": "execute_result"
    },
    {
     "data": {
      "image/png": "[encoded data removed]",
      "text/plain": [
       "<matplotlib.figure.Figure at 0x7ffbad4072d0>"
      ]
     },
     "metadata": {},
     "output_type": "display_data"
    }
   ],
   "source": [
    "plot(np.nanmean(calibrated_dataX, 1))"
   ]
  },
  {
   "cell_type": "code",
   "execution_count": 39,
   "metadata": {
    "collapsed": true,
    "deletable": true,
    "editable": true
   },
   "outputs": [],
   "source": [
    "testdata = calibrated_dataX.mean(0)[600:800]"
   ]
  },
  {
   "cell_type": "code",
   "execution_count": 40,
   "metadata": {
    "collapsed": false,
    "deletable": true,
    "editable": true
   },
   "outputs": [
    {
     "data": {
      "text/plain": [
       "[<matplotlib.lines.Line2D at 0x7f7bfe7f77d0>]"
      ]
     },
     "execution_count": 40,
     "metadata": {},
     "output_type": "execute_result"
    },
    {
     "data": {
      "image/png": "[encoded data removed]",
      "text/plain": [
       "<matplotlib.figure.Figure at 0x7f7bfe87e050>"
      ]
     },
     "metadata": {},
     "output_type": "display_data"
    }
   ],
   "source": [
    "plot(testdata)"
   ]
  },
  {
   "cell_type": "code",
   "execution_count": 41,
   "metadata": {
    "collapsed": true,
    "deletable": true,
    "editable": true
   },
   "outputs": [],
   "source": [
    "rfichannel = np.where(testdata>0.440)[0]"
   ]
  },
  {
   "cell_type": "code",
   "execution_count": 43,
   "metadata": {
    "collapsed": false,
    "deletable": true,
    "editable": true
   },
   "outputs": [],
   "source": [
    "rfichannel += 600"
   ]
  },
  {
   "cell_type": "code",
   "execution_count": 44,
   "metadata": {
    "collapsed": true,
    "deletable": true,
    "editable": true
   },
   "outputs": [],
   "source": [
    "index = np.arange(600, 800)"
   ]
  },
  {
   "cell_type": "code",
   "execution_count": 46,
   "metadata": {
    "collapsed": false,
    "deletable": true,
    "editable": true
   },
   "outputs": [],
   "source": [
    "mask = index!= rfichannel"
   ]
  },
  {
   "cell_type": "code",
   "execution_count": 47,
   "metadata": {
    "collapsed": true,
    "deletable": true,
    "editable": true
   },
   "outputs": [],
   "source": [
    "index = index[mask]"
   ]
  },
  {
   "cell_type": "code",
   "execution_count": 48,
   "metadata": {
    "collapsed": false,
    "deletable": true,
    "editable": true
   },
   "outputs": [
    {
     "data": {
      "text/plain": [
       "(7153, 1001)"
      ]
     },
     "execution_count": 48,
     "metadata": {},
     "output_type": "execute_result"
    }
   ],
   "source": [
    "calibrated_dataX.shape"
   ]
  },
  {
   "cell_type": "code",
   "execution_count": 49,
   "metadata": {
    "collapsed": true,
    "deletable": true,
    "editable": true
   },
   "outputs": [],
   "source": [
    "testtod = calibrated_dataX[:,index]"
   ]
  },
  {
   "cell_type": "code",
   "execution_count": 50,
   "metadata": {
    "collapsed": false,
    "deletable": true,
    "editable": true
   },
   "outputs": [
    {
     "data": {
      "text/plain": [
       "(7153, 199)"
      ]
     },
     "execution_count": 50,
     "metadata": {},
     "output_type": "execute_result"
    }
   ],
   "source": [
    "testtod.shape"
   ]
  },
  {
   "cell_type": "code",
   "execution_count": 51,
   "metadata": {
    "collapsed": false,
    "deletable": true,
    "editable": true
   },
   "outputs": [
    {
     "data": {
      "text/plain": [
       "[<matplotlib.lines.Line2D at 0x7f7bfe7422d0>]"
      ]
     },
     "execution_count": 51,
     "metadata": {},
     "output_type": "execute_result"
    },
    {
     "data": {
      "image/png": "[encoded data removed]",
      "text/plain": [
       "<matplotlib.figure.Figure at 0x7f7bfeb126d0>"
      ]
     },
     "metadata": {},
     "output_type": "display_data"
    }
   ],
   "source": [
    "plot(testtod.mean(0))"
   ]
  },
  {
   "cell_type": "code",
   "execution_count": 52,
   "metadata": {
    "collapsed": true,
    "deletable": true,
    "editable": true
   },
   "outputs": [],
   "source": [
    "powertod = testtod.mean(1)"
   ]
  },
  {
   "cell_type": "code",
   "execution_count": 53,
   "metadata": {
    "collapsed": false,
    "deletable": true,
    "editable": true
   },
   "outputs": [
    {
     "data": {
      "text/plain": [
       "7153"
      ]
     },
     "execution_count": 53,
     "metadata": {},
     "output_type": "execute_result"
    }
   ],
   "source": [
    "len(powertod)"
   ]
  },
  {
   "cell_type": "code",
   "execution_count": 54,
   "metadata": {
    "collapsed": false,
    "deletable": true,
    "editable": true
   },
   "outputs": [
    {
     "data": {
      "text/plain": [
       "[<matplotlib.lines.Line2D at 0x7f7bfe68bad0>]"
      ]
     },
     "execution_count": 54,
     "metadata": {},
     "output_type": "execute_result"
    },
    {
     "data": {
      "image/png": "[encoded data removed]",
      "text/plain": [
       "<matplotlib.figure.Figure at 0x7f7bfe706290>"
      ]
     },
     "metadata": {},
     "output_type": "display_data"
    }
   ],
   "source": [
    "plot(powertod)"
   ]
  },
  {
   "cell_type": "code",
   "execution_count": 57,
   "metadata": {
    "collapsed": true,
    "deletable": true,
    "editable": true
   },
   "outputs": [],
   "source": [
    "ppf = np.fft.fft(powertod)\n",
    "freqs = np.fft.fftfreq(len(powertod), d=0.04)"
   ]
  },
  {
   "cell_type": "code",
   "execution_count": 62,
   "metadata": {
    "collapsed": false,
    "deletable": true,
    "editable": true
   },
   "outputs": [
    {
     "data": {
      "text/plain": [
       "7153"
      ]
     },
     "execution_count": 62,
     "metadata": {},
     "output_type": "execute_result"
    }
   ],
   "source": [
    "len(powertod)"
   ]
  },
  {
   "cell_type": "code",
   "execution_count": 71,
   "metadata": {
    "collapsed": true,
    "deletable": true,
    "editable": true
   },
   "outputs": [],
   "source": [
    "pxx, fr = mlab.psd(offdata[:,0,:].mean(1), NFFT=2**12, Fs=25.)\n",
    "pxx2, fr = mlab.psd(offdata[:,1,:].mean(1), NFFT=2**12, Fs=25.)"
   ]
  },
  {
   "cell_type": "code",
   "execution_count": 75,
   "metadata": {
    "collapsed": false,
    "deletable": true,
    "editable": true
   },
   "outputs": [
    {
     "data": {
      "text/plain": [
       "[<matplotlib.lines.Line2D at 0x7f7bfd450190>]"
      ]
     },
     "execution_count": 75,
     "metadata": {},
     "output_type": "execute_result"
    },
    {
     "data": {
      "image/png": "[encoded data removed]",
      "text/plain": [
       "<matplotlib.figure.Figure at 0x7f7bfda75d50>"
      ]
     },
     "metadata": {},
     "output_type": "display_data"
    }
   ],
   "source": [
    "loglog(fr, pxx)\n",
    "loglog(fr, pxx2)"
   ]
  },
  {
   "cell_type": "code",
   "execution_count": 76,
   "metadata": {
    "collapsed": true,
    "deletable": true,
    "editable": true
   },
   "outputs": [],
   "source": [
    "pxx, fr = mlab.psd(offdata[:,2,:].mean(1), NFFT=2**12, Fs=25.)\n",
    "pxx2, fr = mlab.psd(offdata[:,3,:].mean(1), NFFT=2**12, Fs=25.)"
   ]
  },
  {
   "cell_type": "code",
   "execution_count": 77,
   "metadata": {
    "collapsed": false,
    "deletable": true,
    "editable": true
   },
   "outputs": [
    {
     "data": {
      "text/plain": [
       "[<matplotlib.lines.Line2D at 0x7f7bfd1710d0>]"
      ]
     },
     "execution_count": 77,
     "metadata": {},
     "output_type": "execute_result"
    },
    {
     "data": {
      "image/png": "[encoded data removed]",
      "text/plain": [
       "<matplotlib.figure.Figure at 0x7f7bfd171250>"
      ]
     },
     "metadata": {},
     "output_type": "display_data"
    }
   ],
   "source": [
    "loglog(fr, pxx)\n",
    "loglog(fr, pxx2)"
   ]
  },
  {
   "cell_type": "code",
   "execution_count": null,
   "metadata": {
    "collapsed": true,
    "deletable": true,
    "editable": true
   },
   "outputs": [],
   "source": []
  },
  {
   "cell_type": "code",
   "execution_count": null,
   "metadata": {
    "collapsed": true,
    "deletable": true,
    "editable": true
   },
   "outputs": [],
   "source": []
  },
  {
   "cell_type": "code",
   "execution_count": 68,
   "metadata": {
    "collapsed": true,
    "deletable": true,
    "editable": true
   },
   "outputs": [],
   "source": [
    "pxx, fr = mlab.psd(ondata[:,0,:].mean(1), NFFT=2**12, Fs=25.)"
   ]
  },
  {
   "cell_type": "code",
   "execution_count": 69,
   "metadata": {
    "collapsed": false,
    "deletable": true,
    "editable": true
   },
   "outputs": [
    {
     "data": {
      "text/plain": [
       "[<matplotlib.lines.Line2D at 0x7f7bfda72f50>]"
      ]
     },
     "execution_count": 69,
     "metadata": {},
     "output_type": "execute_result"
    },
    {
     "data": {
      "image/png": "[encoded data removed]",
      "text/plain": [
       "<matplotlib.figure.Figure at 0x7f7bfdd14fd0>"
      ]
     },
     "metadata": {},
     "output_type": "display_data"
    }
   ],
   "source": [
    "loglog(fr, pxx)"
   ]
  },
  {
   "cell_type": "code",
   "execution_count": null,
   "metadata": {
    "collapsed": true,
    "deletable": true,
    "editable": true
   },
   "outputs": [],
   "source": []
  }
 ],
 "metadata": {
  "kernelspec": {
   "display_name": "Python 2",
   "language": "python",
   "name": "python2"
  },
  "language_info": {
   "codemirror_mode": {
    "name": "ipython",
    "version": 2
   },
   "file_extension": ".py",
   "mimetype": "text/x-python",
   "name": "python",
   "nbconvert_exporter": "python",
   "pygments_lexer": "ipython2",
   "version": "2.7.13"
  }
 },
 "nbformat": 4,
 "nbformat_minor": 2
}
